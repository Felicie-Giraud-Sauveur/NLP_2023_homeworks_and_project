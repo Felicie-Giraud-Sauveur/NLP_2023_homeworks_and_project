{
 "cells": [
  {
   "cell_type": "markdown",
   "metadata": {
    "id": "4j05XaIOUvcf"
   },
   "source": [
    "#  Assignment 1 - Language model foundations 💬\n",
    "\n",
    "Welcome to the **1st assignment** for the **CS-552: Modern NLP course**!\n",
    "\n",
    "> - 😀 Name: **< Félicie Giraud-Sauveur >**\n",
    "> - ✉️ Email: **< felicie.giraud-sauveur >@epfl.ch**\n",
    "> - 🪪 SCIPER: **284220**"
   ]
  },
  {
   "cell_type": "markdown",
   "metadata": {
    "id": "K0bVT0KPUvck"
   },
   "source": [
    "<div style=\"padding:15px 20px 20px 20px;border-left:3px solid orange;background-color:#fff5d6;border-radius: 20px;\">\n",
    "\n",
    "## How to implement this assignment\n",
    "\n",
    "Please read carefully the following points. All the information on how to read, implement and submit your assignment is explained in detail below.\n",
    "\n",
    "1. For this assignment, you will need to implement and fill in the missing code snippets for both the **Jupyter Notebook** `assignment1.ipynb` and the **`utils.py`** python file. In the `utils.py` file, you will add all the Dataset and Model classes you will implement according to the skeleton present in the file. In the notebook, you will add the data preprocessing pipeline for all the datasets, the training and testing pipelines of all implemented models and the report (See diagram below). \n",
    "    \n",
    "![assignment_1_arch.png](docs/assignment_1_arch.png)\n",
    "\n",
    "2. To implement your coding part, you can import the external libraries we provide in the `requirements.txt` file, however, you should not use any other package non included in these requirements. \n",
    "\n",
    "3. At the end of the notebook, you will need to fill in a **report** template, providing the results of your implementation. We provide you with the template for the report, therefore you need to fill in the missing Markdown cells with the requested information. \n",
    "\n",
    "4. Along with the `assignment1.ipynb` and the `utils.py` files, you need to additionally upload models' pickle files under the `models/` dir, regarding the following models:\n",
    "    - the three LSTM-variant models (PART 2)  \n",
    "    - the trained-from-scratch Transformer model (PART 2) \n",
    "    - the fine-tuned Encoder-Decoder model (PART 3) \n",
    "    - the fine-tuned pre-trained Transformer model (PART 3)\n",
    "    \n",
    "You will provide test results on all of the model variants according to the report template.\n",
    "    \n",
    "5. Finally, you will need to log your training pipelines using Tensorboard. Please follow the instructions in the `README.md` of the [tensorboard/](tensorboard/README.md) directory.\n",
    "\n",
    "\n",
    "</div>"
   ]
  },
  {
   "cell_type": "markdown",
   "metadata": {
    "id": "GA3bGKeGUvcl"
   },
   "source": [
    "<div style=\"padding:15px 20px 20px 20px;border-left:3px solid green;background-color:#e4fae4;border-radius: 20px;\">\n",
    "\n",
    "## Assignment Description\n",
    "\n",
    "- In the first two parts of this assignment, you need to train and evaluate two different language models; an **LSTM-based model** and a **Transformer-based model**. You will first explore the distribution of the input data and perform data cleaning and pre-processing. Then you will build two language model training and testing pipelines implementing an LSTM and a Transformer language model. You will play around with different hyperparameters.\n",
    "- In the third part, you will build models on the downstream task of **Sentence Paraphrasing**. More specifically, you will fine-tune a sequence-2-sequence (**Encoder-Decoder**) architecture with attention and you will also fine-tune a **Transformer** model for this task.\n",
    "- Finally, you will fill out a report with the model results for the different parts. \n",
    "\n",
    "More specifically:\n",
    "\n",
    "- **[PART 1: Get to know your data](#1)**\n",
    "    - [1.1 Data Pre-processing](#11)\n",
    "    - [1.2 PyTorch Dataset creation](#12)\n",
    "- **[PART 2: Training Language Models](#2)**\n",
    "    - [2.1 LSTM-variants](#21)\n",
    "    - [2.2 Transformer-variants](#22)\n",
    "- **[PART 3: Fine-tune on the Text Paraphrasing task](#3)**\n",
    "    - [3.1 Train an Encoder-Decoder model on Text Paraphrasing](#31)\n",
    "    - [3.2 Run Transformer on Text Paraphrasing](#32)\n",
    "- **[PART 4: Write your report](#4)**\n",
    "    \n",
    "### Deliverables\n",
    "\n",
    "- ✅ This Jupyter notebook\n",
    "- ✅ `utils.py` file\n",
    "- ✅ 3 pickle files with the three LSTM-variant language models (Part 2)\n",
    "- ✅ Pickle file with the trained-from-scratch Transformer language model (Part 2)\n",
    "- ✅ Pickle file with the Encoder-Decoder model (Part 3)\n",
    "- ✅ Pickle file with the fine-tuned pre-trained Transformer model (Part 3)\n",
    "\n",
    "</div>"
   ]
  },
  {
   "cell_type": "markdown",
   "metadata": {
    "id": "yBdny5anryRz"
   },
   "source": [
    "<div style=\"padding:15px 15px 15px 15px;border-left:3px solid #03befc;background-color:#eff7fe;border-radius: 15px;\">\n",
    "\n",
    "🎯 Goal: **Add your SCIPER number below as a `str`!**\n",
    "     \n",
    "</div>"
   ]
  },
  {
   "cell_type": "code",
   "execution_count": 1,
   "metadata": {
    "colab": {
     "base_uri": "https://localhost:8080/",
     "height": 276
    },
    "id": "8UEgVxw_sIrn",
    "outputId": "4222f22c-3842-493e-c71b-185e8bcf8e9e"
   },
   "outputs": [
    {
     "name": "stderr",
     "output_type": "stream",
     "text": [
      "C:\\Users\\felic\\anaconda3\\envs\\nlp\\lib\\site-packages\\tqdm\\auto.py:21: TqdmWarning: IProgress not found. Please update jupyter and ipywidgets. See https://ipywidgets.readthedocs.io/en/stable/user_install.html\n",
      "  from .autonotebook import tqdm as notebook_tqdm\n"
     ]
    }
   ],
   "source": [
    "import regex as re\n",
    "import random\n",
    "import numpy as np\n",
    "import torch\n",
    "\n",
    "\n",
    "SCIPER = \"284220\"\n",
    "\n",
    "try:\n",
    "    assert re.match(\"\\d{6}\", SCIPER)[0] == SCIPER, \"Invalid SCIPER given. please enter your correct 6-digit SCIPER number above!\"\n",
    "except:\n",
    "    print(\"Invalid SCIPER given. please enter your correct 6-digit SCIPER number above!\")\n",
    "\n",
    "student_seed = int(SCIPER[-4:])\n",
    "\n",
    "\n",
    "\"\"\"Set seed for reproducibility.\"\"\"\n",
    "random.seed(student_seed)\n",
    "np.random.seed(student_seed)\n",
    "torch.manual_seed(student_seed)\n",
    "torch.cuda.manual_seed_all(student_seed)"
   ]
  },
  {
   "cell_type": "markdown",
   "metadata": {},
   "source": [
    "### Packgage installation & importing"
   ]
  },
  {
   "cell_type": "code",
   "execution_count": 2,
   "metadata": {
    "id": "eiPc1rRNiS__"
   },
   "outputs": [],
   "source": [
    "import os\n",
    "os.environ[\"WANDB_DISABLED\"] = \"true\"\n",
    "os.environ[\"CUDA_DEVICE_ORDER\"]=\"PCI_BUS_ID\"\n",
    "os.environ[\"CUDA_VISIBLE_DEVICES\"]=\"0\" # limiting to one GPU"
   ]
  },
  {
   "cell_type": "code",
   "execution_count": 3,
   "metadata": {
    "id": "uexGOS0GiS__"
   },
   "outputs": [],
   "source": [
    "#!pip install datasets\n",
    "#!pip install apache_beam\n",
    "#!pip install torchmetrics\n",
    "#!pip install gensim==4.1.2\n",
    "#!pip install transformers\n",
    "#!pip install evaluate"
   ]
  },
  {
   "cell_type": "code",
   "execution_count": 4,
   "metadata": {},
   "outputs": [],
   "source": [
    "from torch.utils.tensorboard import SummaryWriter\n",
    "tb_writer = SummaryWriter(log_dir='tensorboard/')"
   ]
  },
  {
   "cell_type": "code",
   "execution_count": 5,
   "metadata": {
    "id": "q0bmJE-0iTAA"
   },
   "outputs": [],
   "source": [
    "from datasets import load_dataset\n",
    "from tqdm import tqdm\n",
    "import gensim\n",
    "import torch\n",
    "import math\n",
    "from collections import Counter\n",
    "import numpy as np\n",
    "import matplotlib.pyplot as plt\n",
    "import torch.nn as nn\n",
    "import torch.optim as optim\n",
    "from torchmetrics.classification import BinaryAccuracy\n",
    "from transformers import GPT2LMHeadModel, GPT2TokenizerFast, AutoConfig, AutoModelWithLMHead, AutoTokenizer, DataCollatorForLanguageModeling, Trainer, TrainingArguments\n",
    "from nltk.tokenize import sent_tokenize\n",
    "import evaluate\n",
    "import rouge_score\n",
    "import pandas as pd"
   ]
  },
  {
   "cell_type": "markdown",
   "metadata": {
    "id": "m06WLo6qUvcm",
    "tags": []
   },
   "source": [
    "---\n",
    "\n",
    "<a name=\"1\"></a>\n",
    "# PART 1: Get to know your data 🔎\n",
    "\n",
    "For the first two parts of this assignment, we will build our language models using the `wikitext-103` dataset.\n",
    "\n",
    "> The WikiText language modeling dataset is a collection of over 100 million tokens extracted from the set of verified \n",
    "Good and Featured articles on Wikipedia. \n",
    "\n",
    "Bellow is an example from the dataset: \n",
    "<br>_(This example was too long and was cropped)_"
   ]
  },
  {
   "cell_type": "markdown",
   "metadata": {
    "id": "WdwMZ-OUiTAB"
   },
   "source": [
    "\n",
    "\n",
    "<div style=\"padding:8px 0 8px 15px;background-color:#F3F3F3;border-radius:20px;\">\n",
    "<code>{\n",
    "\"text\": \"\\\" The Sinclair Scientific Programmable was introduced in 1975 , with the same case as the Sinclair Oxford . It was larger than t...\"\n",
    "}\n",
    "</code>\n",
    "</div>"
   ]
  },
  {
   "cell_type": "markdown",
   "metadata": {
    "id": "VRxt_WZBiTAB"
   },
   "source": [
    "🧐 You can find more about this dataset [here](https://huggingface.co/datasets/wikitext)."
   ]
  },
  {
   "cell_type": "markdown",
   "metadata": {
    "id": "ZOD9aSZIiTAC",
    "tags": []
   },
   "source": [
    "<a name=\"11\"></a>\n",
    "## 1.1 Data Preprocessing"
   ]
  },
  {
   "cell_type": "markdown",
   "metadata": {
    "id": "g7A0sYxb8klR"
   },
   "source": [
    "In this part, while you get to better understand the dataset sturcuture, you will also do several steps to clean the dataset before passing them to neural models."
   ]
  },
  {
   "cell_type": "code",
   "execution_count": 6,
   "metadata": {
    "colab": {
     "base_uri": "https://localhost:8080/",
     "height": 218,
     "referenced_widgets": [
      "46acd73bb60d4d6487ea394e0994c340",
      "4ed5a6ca3e574c778a238fe31b47fb4b",
      "68805cc03a2e46cf8004d46cd4b33743",
      "bec58345685444619a05f969bab3f2c2",
      "69d4bb9ed62c4610b74de45a6afb78d4",
      "749a758703c644989a9e1326704493d8",
      "4a20b87b73534115a97153645a85230d",
      "37f2ec3a9f4e4ce4baa71cfadf4a30e5",
      "895185b1c09841afbff15f777ccbfc95",
      "9fd582e417bf42a58b721fad84635eb5",
      "0a7a233ed48a45f7943a99d69ebfa000",
      "908f3478d31d4bb3969bad70ce11f8d3",
      "810a3a2cafad4dac8c1e9647961d9cac",
      "50721311a9ea41aa8e43d6335169894d",
      "b7836293261e4802b82300320f65ddf5",
      "2f00401b8465447988064680e02284fa",
      "fe23ec5e5169484db9008c946e59a18a",
      "4efe7d8b2d5e4bafbc80c71d0cde4644",
      "5410fde240504da899cfbafabd53d117",
      "7f6a28f0ee8644b1b732ec0dfa358aa7",
      "dd31fbe092984937bd6f2189f4fd7fd6",
      "7f4a571378704cc499f7bd144661e78a",
      "c091994d3dff4beca01e57e30aa0fde7",
      "bb684df4aaec4553b6cff4b21d5a2da6",
      "4a8c220f893841d2be92ff0f2171635f",
      "eccabfb19170447190b48366ad23ec15",
      "a7b2547e4f8241a0b2797dd192ccb07d",
      "fa484a5090c141f5991929293a6e286e",
      "a0e119ec72c945df8e35384abd01c879",
      "58d713412bd346b294bb63cfdd8283d3",
      "b9a57048a5d64e73ba84c18a64a4114f",
      "dc13ffb17dfd48f69a3801894f98edfa",
      "452c7810050f4a398a907f56023751d5",
      "ab897f61a6c6407898dc08c3b8dfcc4a",
      "b1a04c62b3cb4498998d0d0daed80a35",
      "cb6c89019f234618bf3489f9d4697b51",
      "3b8bd7b153e94858a4ee16ce20bed969",
      "874f21723d554d48865360a67e0936d4",
      "485b4e28461e4a648f7152e00505d466",
      "516ae6d358d64047b3e6bd1da6ab3c7f",
      "b2b8f1b3407a48abaa1b89bb2167a743",
      "ffec17ca2b93434faa35a59879856491",
      "fecd49409641440fa4e1b4fc0fc7039f",
      "3c9a581453a1468cace0f39c708ffcdc",
      "dfe7dac6bd9e4bacb8a61f3c95bb0d16",
      "f58f7a1c419949b6b7126a68ffc58ae4",
      "8f9b7c10edae4dc9be99b519679c7254",
      "7e6f37c5f5fa496eb5b7066a90229b90",
      "1266d2fbb288419e9f804417faa6168f",
      "6328dcb1baa644f6b4d2144ba21e67bc",
      "f2e5f09872f94655842193217ca2ffba",
      "2fa88a9782354cd09a02949b58d17e7f",
      "98031a7c2e654983bcd4c9b198942468",
      "97d6ceb31b5d4e33a4f5183468ea8597",
      "c0af179f4bd44267877325a9fe93ae5f",
      "63194aa591d045459fe082caefa11dd2",
      "5c9003ac017d4cfc841c913368c253f9",
      "3fbae1bd988d434c88b2468355443e38",
      "6932bede73bc4519be6b950d30497049",
      "cc3d1afc8d344a30ae3d5df976bc5db8",
      "605436f66cd54ff3ac33b70ff1ffc39c",
      "2bddf5abec064c98b68942e62aa0de66",
      "be2076b47db14f07ab7fcecc66c9af23",
      "bd53d856f53c478e96e967d41ad409e2",
      "49623ff36ddf436f867708f5b0b5c43b",
      "7e4a49b253e244ecbcd847f17bcc9363",
      "cd1ed3ff562c4a63847d4820d2b29d59",
      "13144e4540ef42bca7db99a03f75b21a",
      "2e8bffa2ba504b03a0d714e9dc88352c",
      "f30c3d9ac9434db3af22a4144f3d3662",
      "eb4c6591a338489fa7133d29b287ef84",
      "f11dd951a4e544fd80a3f23152366488",
      "9c095ced5a8949a686e906f04dce009f",
      "cdae6a5df53648ee871de7120a9be23f",
      "2db97f10b7e844a296d415563a228f45",
      "dc59c93c6d77474db3e983cd1b12ffac",
      "c9b231fcc38f435aa1dd7b58bbefca1b"
     ]
    },
    "id": "ADe8a4xOUvcm",
    "outputId": "3c28d7ef-880c-40e6-ab29-7b7faa0ac641"
   },
   "outputs": [
    {
     "name": "stderr",
     "output_type": "stream",
     "text": [
      "Found cached dataset wikitext (C:/Users/felic/.cache/huggingface/datasets/wikitext/wikitext-103-v1/1.0.0/a241db52902eaf2c6aa732210bead40c090019a499ceb13bcbfa3f8ab646a126)\n"
     ]
    },
    {
     "name": "stdout",
     "output_type": "stream",
     "text": [
      "Size of the dataset is 1801350\n"
     ]
    }
   ],
   "source": [
    "# Loads the dataset\n",
    "wikitext_dataset = load_dataset(\"wikitext\", 'wikitext-103-v1', split=\"train\")\n",
    "\n",
    "print(f\"Size of the dataset is {len(wikitext_dataset)}\")"
   ]
  },
  {
   "cell_type": "markdown",
   "metadata": {
    "id": "YfMJBW7OAnj-"
   },
   "source": [
    "<div style=\"padding:15px 15px 15px 15px;border-left:3px solid #03befc;background-color:#eff7fe;border-radius: 15px;\">\n",
    "\n",
    "🎯 Goal: **Filter out all empty sentences**.\n",
    "\n",
    "💻 API hint: Use `datasets.Dataset` utilities to manipulate the dataframe.\n",
    "     \n",
    "</div>"
   ]
  },
  {
   "cell_type": "code",
   "execution_count": 8,
   "metadata": {
    "id": "fXz9W7tZiTAD",
    "outputId": "2d093205-f8eb-43f7-de1b-a9d9fdbd2060"
   },
   "outputs": [
    {
     "name": "stderr",
     "output_type": "stream",
     "text": [
      "                                                                                                                       "
     ]
    },
    {
     "name": "stdout",
     "output_type": "stream",
     "text": [
      "Size of the dataset is 1165029\n"
     ]
    },
    {
     "name": "stderr",
     "output_type": "stream",
     "text": [
      "\r"
     ]
    }
   ],
   "source": [
    "# Filter out all empty sentences\n",
    "wikitext_dataset = wikitext_dataset.filter(lambda x: x[\"text\"]!=\"\")\n",
    "\n",
    "print(f\"Size of the dataset is {len(wikitext_dataset)}\")"
   ]
  },
  {
   "cell_type": "markdown",
   "metadata": {
    "id": "pdr5LIY5Dym3"
   },
   "source": [
    "Long sequences in the language model training can significantly slow down the training progress, both for RNN-based and transformer-based models.\n",
    "\n",
    "One of the tricks that is mentioned in [BERT's paper](https://arxiv.org/abs/1810.04805) is to perform pretraining with shorter sequences in the beginning. "
   ]
  },
  {
   "cell_type": "markdown",
   "metadata": {
    "id": "4sIemLH6iTAF"
   },
   "source": [
    "<div style=\"padding:15px 15px 15px 15px;border-left:3px solid #03befc;background-color:#eff7fe;border-radius: 15px;\">\n",
    "\n",
    "🎯 Goal: Following the same line of reasoning, **keep only samples that have at most 128 tokens**.\n",
    "    \n",
    "💻 API hint: Use `datasets.Dataset` utilities to manipulate the dataframe.\n",
    "\n",
    "</div>"
   ]
  },
  {
   "cell_type": "code",
   "execution_count": 9,
   "metadata": {
    "id": "E9_xgDXJiTAG"
   },
   "outputs": [
    {
     "name": "stderr",
     "output_type": "stream",
     "text": [
      "                                                                                                                       "
     ]
    },
    {
     "name": "stdout",
     "output_type": "stream",
     "text": [
      "Size of the dataset is 826663\n"
     ]
    },
    {
     "name": "stderr",
     "output_type": "stream",
     "text": [
      "\r"
     ]
    }
   ],
   "source": [
    "# Keep only samples that have at most 128 tokens\n",
    "wikitext_dataset = wikitext_dataset.filter(lambda x: len(x[\"text\"].split())<=128)\n",
    "\n",
    "print(f\"Size of the dataset is {len(wikitext_dataset)}\")"
   ]
  },
  {
   "cell_type": "markdown",
   "metadata": {
    "id": "Z9LcAg0EJzrz"
   },
   "source": [
    "<div style=\"padding:15px 15px 15px 15px;border-left:3px solid #03befc;background-color:#eff7fe;border-radius: 15px;\">\n",
    "\n",
    "🎯 Goal: Let's make the dataset samples **lower case** to decrease the vocabulary size.\n",
    "\n",
    "💻 API hint: Use `datasets.Dataset` utilities to manipulate the dataframe.\n",
    "\n",
    "</div>"
   ]
  },
  {
   "cell_type": "code",
   "execution_count": 10,
   "metadata": {
    "id": "Q8-Y-7JQiTAH"
   },
   "outputs": [
    {
     "name": "stderr",
     "output_type": "stream",
     "text": [
      "                                                                                                                       \r"
     ]
    }
   ],
   "source": [
    "# Put dataset to lower case\n",
    "wikitext_dataset = wikitext_dataset.map(lambda x: {\"text\": x[\"text\"].lower()})"
   ]
  },
  {
   "cell_type": "markdown",
   "metadata": {
    "id": "mUjCH6Z-NALB"
   },
   "source": [
    "If you take a look at the first few samples of the dataset, you will notice that they belong to [this](https://en.wikipedia.org/wiki/Valkyria_Chronicles_II) Wikipedia article.\n",
    "\n",
    "We notice that **the title of  sections/articles are also included** in the dataset (for instance the title itself, or the `gameplay` section in this article). These samples are not very useful for language modeling, due to not having a sentence structure.\n",
    "Given the pattern of these samples, we need to **filter them out** from the dataset.\n",
    "    "
   ]
  },
  {
   "cell_type": "markdown",
   "metadata": {
    "id": "zTuUlhFuiTAI"
   },
   "source": [
    "<div style=\"padding:15px 15px 15px 15px;border-left:3px solid #03befc;background-color:#eff7fe;border-radius: 15px;\">\n",
    "\n",
    "🎯 Goal: Filter out the samples with `= = <section> = = \\n` patterns.\n",
    "    \n",
    "💻 API hint: Use `datasets.Dataset` utilities to manipulate the dataframe.\n",
    "    \n",
    "</div>"
   ]
  },
  {
   "cell_type": "code",
   "execution_count": 11,
   "metadata": {
    "id": "4snXCQBZiTAJ"
   },
   "outputs": [
    {
     "name": "stderr",
     "output_type": "stream",
     "text": [
      "                                                                                                                       "
     ]
    },
    {
     "name": "stdout",
     "output_type": "stream",
     "text": [
      "Size of the dataset is 551039\n"
     ]
    },
    {
     "name": "stderr",
     "output_type": "stream",
     "text": [
      "\r"
     ]
    }
   ],
   "source": [
    "# Filter out the title of sections/articles\n",
    "\n",
    "regexp = re.compile('=\\s=\\s.*\\s=\\s=\\s\\n')\n",
    "wikitext_dataset = wikitext_dataset.filter(lambda x: not regexp.search(x[\"text\"]))\n",
    "\n",
    "print(f\"Size of the dataset is {len(wikitext_dataset)}\")"
   ]
  },
  {
   "cell_type": "markdown",
   "metadata": {
    "id": "16AHClg64IE6"
   },
   "source": [
    "<div style=\"padding:15px 15px 15px 15px;border-left:3px solid #03befc;background-color:#eff7fe;border-radius: 15px;\">\n",
    "\n",
    "🎯 Goal:  **Normalize accented letters** (e.g., `clément` becomes `clement`) from text using `gensim.utils.deaccent` to further decrease vocabulary size.\n",
    "    \n",
    "💻 API hint: Use `datasets.Dataset` utilities to manipulate the dataframe. \n",
    "\n",
    "</div>"
   ]
  },
  {
   "cell_type": "code",
   "execution_count": 12,
   "metadata": {
    "id": "1_IHLtBriTAK"
   },
   "outputs": [
    {
     "name": "stderr",
     "output_type": "stream",
     "text": [
      "                                                                                                                       \r"
     ]
    }
   ],
   "source": [
    "# Normalize accented letters\n",
    "wikitext_dataset = wikitext_dataset.map(lambda x: {\"text\": gensim.utils.deaccent(x[\"text\"])})"
   ]
  },
  {
   "cell_type": "markdown",
   "metadata": {
    "id": "SiD093zf5ie_"
   },
   "source": [
    "<div style=\"padding:15px 15px 15px 15px;border-left:3px solid #03befc;background-color:#eff7fe;border-radius: 15px;\">\n",
    "\n",
    "🎯 Goal: Remove all samples having **non-english characters**. \n",
    "   \n",
    "💻 API hint: Use `datasets.Dataset` utilities to manipulate the dataframe along with the provided function `isEnglish()`. \n",
    "\n",
    "</div>"
   ]
  },
  {
   "cell_type": "code",
   "execution_count": 13,
   "metadata": {
    "id": "Xf0eznSxiTAL"
   },
   "outputs": [
    {
     "name": "stderr",
     "output_type": "stream",
     "text": [
      "                                                                                                                       "
     ]
    },
    {
     "name": "stdout",
     "output_type": "stream",
     "text": [
      "Size of the dataset is 461251\n"
     ]
    },
    {
     "name": "stderr",
     "output_type": "stream",
     "text": [
      "\r"
     ]
    }
   ],
   "source": [
    "def isEnglish(s):\n",
    "    try:\n",
    "        s.encode(encoding='utf-8').decode('ascii')\n",
    "    except UnicodeDecodeError:\n",
    "        return False\n",
    "    else:\n",
    "        return True\n",
    "\n",
    "# Remove all samples having non-english characters\n",
    "wikitext_dataset = wikitext_dataset.filter(lambda x: isEnglish(x[\"text\"]))\n",
    "\n",
    "print(f\"Size of the dataset is {len(wikitext_dataset)}\")"
   ]
  },
  {
   "cell_type": "markdown",
   "metadata": {
    "id": "dboQyQoD9jVx"
   },
   "source": [
    "### Looking at the vocabulary\n",
    "\n",
    "Before we move into additional preprocessing (similarly with the dataset used in exercises for week 2), we will take a look at the vocabulary size of the dataset until this point. We will assume that tokens can be simply splitted by `\" \"`."
   ]
  },
  {
   "cell_type": "markdown",
   "metadata": {
    "id": "TU6bUxgGiTAM"
   },
   "source": [
    "<div style=\"padding:15px 15px 15px 15px;border-left:3px solid #03befc;background-color:#eff7fe;border-radius: 15px;\">\n",
    "\n",
    "🎯 Goal:  **Compute the frequency of all tokens in the dataset.**\n",
    "\n",
    "</div>"
   ]
  },
  {
   "cell_type": "code",
   "execution_count": 14,
   "metadata": {
    "id": "1M0zpagYiTAM"
   },
   "outputs": [
    {
     "name": "stderr",
     "output_type": "stream",
     "text": [
      "100%|██████████████████████████████████████████████████████████████████████| 461251/461251 [00:04<00:00, 110228.34it/s]"
     ]
    },
    {
     "name": "stdout",
     "output_type": "stream",
     "text": [
      "\n",
      "Vocabulary size of the dataset is 189555\n"
     ]
    },
    {
     "name": "stderr",
     "output_type": "stream",
     "text": [
      "\n"
     ]
    }
   ],
   "source": [
    "def compute_token_frequency(dataset):\n",
    "    vocab_frequency = Counter()\n",
    "    for txt in tqdm(dataset['text']):\n",
    "        vocab_frequency.update(txt.split())\n",
    "    return vocab_frequency\n",
    "\n",
    "# Compute the frequency of all tokens in the dataset\n",
    "vocab_frequency = compute_token_frequency(wikitext_dataset)\n",
    "print(f\"\\nVocabulary size of the dataset is {len(vocab_frequency)}\")"
   ]
  },
  {
   "cell_type": "markdown",
   "metadata": {
    "id": "P1XjEaDvWJtB"
   },
   "source": [
    "As discussed in the lectures, real text datasets have a relatively high fraction of rare tokens. For that reason, let's visualize the histogram of token frequencies to better see this effect."
   ]
  },
  {
   "cell_type": "markdown",
   "metadata": {
    "id": "9dU97c1miTAN"
   },
   "source": [
    "<div style=\"padding:15px 15px 15px 15px;border-left:3px solid #03befc;background-color:#eff7fe;border-radius: 15px;\">\n",
    "\n",
    "🎯 Goal: Plot a **histogram** with the frequencies of the words of the vocabulary. \n",
    "   \n",
    "💻 API hint: You can use the `matplotlib.hist` function. \n",
    "\n",
    "</div>"
   ]
  },
  {
   "cell_type": "code",
   "execution_count": 15,
   "metadata": {
    "id": "rBKUzDEDiTAN"
   },
   "outputs": [
    {
     "data": {
      "image/png": "[encoded data removed]",
      "text/plain": [
       "<Figure size 800x400 with 1 Axes>"
      ]
     },
     "metadata": {},
     "output_type": "display_data"
    }
   ],
   "source": [
    "# Plot a histogram with the frequencies of the words of the vocabulary (in log scale)\n",
    "plt.figure(figsize=(8,4))\n",
    "plt.hist(vocab_frequency.values(), bins=256, log=True)\n",
    "plt.title('Histogram with the frequencies of the words of the vocabulary')\n",
    "plt.xlabel('Number of words with this frequency')\n",
    "plt.ylabel('Frequencies')\n",
    "plt.show() "
   ]
  },
  {
   "cell_type": "markdown",
   "metadata": {
    "id": "M-vDgr_5HyrE"
   },
   "source": [
    "As you saw in the cells above, the dataset vocabulary is quite huge. Let's consider every token that occurs less than (or equal to) 5 times as a rare token. "
   ]
  },
  {
   "cell_type": "markdown",
   "metadata": {
    "id": "jf5G9QFyiTAN"
   },
   "source": [
    "<div style=\"padding:15px 15px 15px 15px;border-left:3px solid #03befc;background-color:#eff7fe;border-radius: 15px;\">\n",
    "\n",
    "🎯 Goal: Put these rare tokens in the **`rare_tokens` variable** and replace every rare token in the dataset with the `<unk>` token.\n",
    "    \n",
    "💻 API hint: Use `datasets.Dataset` utilities to manipulate the dataframe.\n",
    "    \n",
    "</div>"
   ]
  },
  {
   "cell_type": "code",
   "execution_count": 17,
   "metadata": {
    "id": "wRWJFfThiTAO"
   },
   "outputs": [
    {
     "name": "stderr",
     "output_type": "stream",
     "text": [
      "                                                                                                                       "
     ]
    },
    {
     "name": "stdout",
     "output_type": "stream",
     "text": [
      "With threshold of 5, we have 105529 rare tokens.\n",
      " The vocabulary size is now 84026\n"
     ]
    },
    {
     "name": "stderr",
     "output_type": "stream",
     "text": [
      "\r"
     ]
    }
   ],
   "source": [
    "rare_threshold = 5\n",
    "\n",
    "# Put rare tokens in the rare_tokens variable\n",
    "rare_tokens = [k for k, v in vocab_frequency.items() if v <= rare_threshold]\n",
    "\n",
    "def rare_removal(txt):\n",
    "    modified_txt = txt\n",
    "    modified_txt[\"text\"] = \" \".join([(\"<unk>\" if word in rare_tokens\n",
    "                                      else word)\n",
    "                                      for word in txt[\"text\"].split()])\n",
    "    return modified_txt\n",
    "\n",
    "# Replace every rare token in the dataset with the <unk> token\n",
    "wikitext_dataset = wikitext_dataset.map(rare_removal)\n",
    "\n",
    "print(f\"With threshold of {rare_threshold}, we have {len(rare_tokens)} rare tokens.\\n\",\n",
    "      f\"The vocabulary size is now {len(vocab_frequency) - len(rare_tokens)}\")"
   ]
  },
  {
   "cell_type": "markdown",
   "metadata": {
    "id": "6fu2W9EMiWrP"
   },
   "source": [
    "The dataset still includes many short samples which are not very useful for the language modeling task. We will filter out very short samples from the dataset. _(Note: Assume tokens can be achieved by simple `\" \"` splitting.)_\n",
    "    "
   ]
  },
  {
   "cell_type": "markdown",
   "metadata": {
    "id": "ruh0XqGKiTAO"
   },
   "source": [
    "<div style=\"padding:15px 15px 15px 15px;border-left:3px solid #03befc;background-color:#eff7fe;border-radius: 15px;\">\n",
    "\n",
    " 🎯 Goal: Filter out every sample that has **less than (or equal to) 5 tokens**.\n",
    "    \n",
    "💻 API hint: Use `datasets.Dataset` utilities to manipulate the dataframe.\n",
    "\n",
    "</div>"
   ]
  },
  {
   "cell_type": "code",
   "execution_count": 19,
   "metadata": {
    "id": "2QMmBOwjiTAO"
   },
   "outputs": [
    {
     "name": "stderr",
     "output_type": "stream",
     "text": [
      "                                                                                                                       "
     ]
    },
    {
     "name": "stdout",
     "output_type": "stream",
     "text": [
      "Size of the dataset is 415139\n"
     ]
    },
    {
     "name": "stderr",
     "output_type": "stream",
     "text": [
      "\r"
     ]
    }
   ],
   "source": [
    "short_seq_threshold = 5\n",
    "\n",
    "#  Filter out every sample that has less than (or equal to) 5 tokens\n",
    "wikitext_dataset = wikitext_dataset.filter(lambda x: len(x[\"text\"].split())>short_seq_threshold)\n",
    "\n",
    "print(f\"Size of the dataset is {len(wikitext_dataset)}\")"
   ]
  },
  {
   "cell_type": "markdown",
   "metadata": {
    "id": "I9wvH77WiTAP"
   },
   "source": [
    "After replacing rare tokens with <unk>, we could have sentences like `<unk> <unk> <unk> <unk>` which are again not very useful for language modeling. We will **filter out samples that more than 5% of its tokens are `<unk>`**."
   ]
  },
  {
   "cell_type": "markdown",
   "metadata": {
    "id": "JoC2HrwKlalG"
   },
   "source": [
    "<div style=\"padding:15px 15px 15px 15px;border-left:3px solid #03befc;background-color:#eff7fe;border-radius: 15px;\">\n",
    "\n",
    "🎯 Goal:  **Filter out samples that more than 5% of its tokens are `<unk>`**\n",
    "    \n",
    "💻 API hint: Use `datasets.Dataset` utilities to manipulate the dataframe.\n",
    "\n",
    "</div>"
   ]
  },
  {
   "cell_type": "code",
   "execution_count": 20,
   "metadata": {
    "id": "xdiXr9p0iTAP"
   },
   "outputs": [
    {
     "name": "stderr",
     "output_type": "stream",
     "text": [
      "                                                                                                                       "
     ]
    },
    {
     "name": "stdout",
     "output_type": "stream",
     "text": [
      "Size of the dataset is 376836\n"
     ]
    },
    {
     "name": "stderr",
     "output_type": "stream",
     "text": [
      "\r"
     ]
    }
   ],
   "source": [
    "unknown_token_threshold = 0.05  # every sample that more than 5% of its tokens are <unk> should be removed\n",
    "\n",
    "# Filter out samples that more than 5% of its tokens are <unk>\n",
    "wikitext_dataset = wikitext_dataset.filter(lambda x: x[\"text\"].split().count('<unk>')/len(x[\"text\"].split()) <= 0.05)\n",
    "print(f\"Size of the dataset is {len(wikitext_dataset)}\")"
   ]
  },
  {
   "cell_type": "markdown",
   "metadata": {
    "id": "kGtIxEa07-8K"
   },
   "source": [
    "Let's recalculate the vocabulary for the resulting dataset, to see the vocabulary of the resulting dataset."
   ]
  },
  {
   "cell_type": "code",
   "execution_count": 7,
   "metadata": {
    "colab": {
     "base_uri": "https://localhost:8080/"
    },
    "id": "q3-WohMHlXIo",
    "outputId": "f2ad6931-4c4c-4900-df17-9e0cb0644c07"
   },
   "outputs": [
    {
     "name": "stderr",
     "output_type": "stream",
     "text": [
      "100%|██████████████████████████████████████████████████████████████████████| 376836/376836 [00:03<00:00, 102670.59it/s]"
     ]
    },
    {
     "name": "stdout",
     "output_type": "stream",
     "text": [
      "\n",
      "vocabulary size of the dataset is 83880\n"
     ]
    },
    {
     "name": "stderr",
     "output_type": "stream",
     "text": [
      "\n"
     ]
    }
   ],
   "source": [
    "vocab_frequency = compute_token_frequency(wikitext_dataset)\n",
    "\n",
    "print(f\"\\nvocabulary size of the dataset is {len(vocab_frequency)}\")"
   ]
  },
  {
   "cell_type": "code",
   "execution_count": 7,
   "metadata": {},
   "outputs": [
    {
     "data": {
      "text/plain": [
       "{'text': \"the game began development in 2010 , carrying over a large portion of the work done on valkyria chronicles ii . while it retained the standard features of the series , it also underwent multiple adjustments , such as making the game more forgiving for series newcomers . character designer <unk> <unk> and composer hitoshi sakimoto both returned from previous entries , along with valkyria chronicles ii director takeshi ozawa . a large team of writers handled the script . the game 's opening theme was sung by may 'n .\"}"
      ]
     },
     "execution_count": 7,
     "metadata": {},
     "output_type": "execute_result"
    }
   ],
   "source": [
    "# Checking\n",
    "wikitext_dataset[0]"
   ]
  },
  {
   "cell_type": "markdown",
   "metadata": {
    "id": "07Q5by1kiTAQ",
    "tags": []
   },
   "source": [
    "---\n",
    "\n",
    "<a name=\"12\"></a>\n",
    "## 1.2 PyTorch Dataset  creation"
   ]
  },
  {
   "cell_type": "markdown",
   "metadata": {
    "id": "gXgKUIGbSdAu"
   },
   "source": [
    "After the pre-processing of the dataset, we will now create a `torch.Dataset` class for the wiki-text dataset. \n",
    "We need to do so, in order to transform the dataset to the right format for the language modeling task. \n",
    "The following steps should be implemented:\n",
    "\n",
    "- Add `<start>` and `<stop>` tokens at the beginning and end of a sentence respectively.\n",
    "- Add padding tokens ( `<pad>` ) at the end of the sentences.\n",
    "- Create a fallback to <unk> token if an unseen word is encoded.\n",
    "- Define dictionaries that map tokens to their respective index in the embedding matrix and vice versa.\n"
   ]
  },
  {
   "cell_type": "markdown",
   "metadata": {
    "id": "qtKKcjq4iTAR"
   },
   "source": [
    "### Create the RNN Dataset"
   ]
  },
  {
   "cell_type": "markdown",
   "metadata": {
    "id": "uYcATZ2XiTAR"
   },
   "source": [
    "<div style=\"padding:15px 15px 15px 15px;border-left:3px solid #03befc;background-color:#eff7fe;border-radius: 15px;\">\n",
    "\n",
    "🎯 Goal:  **Go to the `utils.py` file, and fill in the `RNNDataset` class with your implemenation.**\n",
    "    \n",
    "</div>"
   ]
  },
  {
   "cell_type": "code",
   "execution_count": 8,
   "metadata": {},
   "outputs": [],
   "source": [
    "from torch.utils.data import Dataset, DataLoader\n",
    "import datasets\n",
    "from src.utils import RNNDataset\n",
    "\n",
    "MAX_SEQ_LENGTH = 128\n",
    "\n",
    "# See RNNDataset class in src/utils.py"
   ]
  },
  {
   "cell_type": "markdown",
   "metadata": {
    "id": "NG5flxTZiTAR"
   },
   "source": [
    "<div style=\"padding:15px 15px 15px 15px;border-left:3px solid #03befc;background-color:#eff7fe;border-radius: 15px;\">\n",
    "\n",
    "🎯 Goal:  **Instantiate** the implemented RNNDataset.\n",
    "    \n",
    "</div>"
   ]
  },
  {
   "cell_type": "code",
   "execution_count": 9,
   "metadata": {
    "id": "FvovsTi0iTAS"
   },
   "outputs": [
    {
     "name": "stderr",
     "output_type": "stream",
     "text": [
      "Loading cached processed dataset at C:\\Users\\felic\\projets_EPFL\\ModernNaturalLanguageProcessing_NLP_EPFL\\a1-Felicie-Giraud-Sauveur\\data\\wikitext_dataset_pre-processed\\cache-8fd9daf5423d2419.arrow\n"
     ]
    }
   ],
   "source": [
    "# Instantiate the implemented RNNDataset\n",
    "rnn_dataset = RNNDataset(wikitext_dataset, MAX_SEQ_LENGTH)"
   ]
  },
  {
   "cell_type": "markdown",
   "metadata": {
    "id": "_woATTryiTAS"
   },
   "source": [
    "### Split data into train and test\n",
    "\n",
    "Once we have created the dataset ready for the model training pipeline, we will split it into train and test datasets. Then we will pass them to a `DataLoader` class, following the same method we saw in the exercises session. "
   ]
  },
  {
   "cell_type": "markdown",
   "metadata": {
    "id": "RFevD8HUiTAS"
   },
   "source": [
    "<div style=\"padding:15px 15px 15px 15px;border-left:3px solid #03befc;background-color:#eff7fe;border-radius: 15px;\">\n",
    "\n",
    "🎯 Goal:  **Split** the implemented RNNDataset into train and test subsets.\n",
    "    \n",
    "    \n",
    "\n",
    "</div>"
   ]
  },
  {
   "cell_type": "code",
   "execution_count": 10,
   "metadata": {
    "id": "YTS-9IfliTAT"
   },
   "outputs": [],
   "source": [
    "TRAIN_RATIO = 0.9\n",
    "\n",
    "dataset_length = len(wikitext_dataset)\n",
    "train_length = math.floor(dataset_length * TRAIN_RATIO)\n",
    "test_length = dataset_length - train_length\n",
    "\n",
    "# Split the implemented RNNDataset into train and test subsets\n",
    "rnn_train_dataset, rnn_test_dataset = torch.utils.data.random_split(rnn_dataset,\n",
    "                                                               [train_length, test_length],\n",
    "                                                               generator=torch.Generator().manual_seed(student_seed))"
   ]
  },
  {
   "cell_type": "markdown",
   "metadata": {
    "id": "Fi1TfgHbiTAT"
   },
   "source": [
    "<div style=\"padding:15px 15px 15px 15px;border-left:3px solid #03befc;background-color:#eff7fe;border-radius: 15px;\">\n",
    "    \n",
    "🎯 Goal:  Create `DataLoader` objects using `batch_size = 8` for the train and test subsets.\n",
    "    \n",
    "</div>"
   ]
  },
  {
   "cell_type": "code",
   "execution_count": 11,
   "metadata": {
    "id": "GEab9WiQiTAU"
   },
   "outputs": [],
   "source": [
    "# Create DataLoader objects using batch_size = 8 for the train and test subsets.\n",
    "train_dataloader = DataLoader(rnn_train_dataset, batch_size=8, shuffle=True)\n",
    "test_dataloader = DataLoader(rnn_test_dataset, batch_size=8, shuffle=False)"
   ]
  },
  {
   "cell_type": "markdown",
   "metadata": {
    "id": "8ZpVeuyWiTAU"
   },
   "source": [
    "<div style=\"padding:15px 15px 15px 15px;border-left:3px solid #8e7cc3;background-color:#e4e1eb;border-radius: 15px;\">\n",
    "\n",
    "🎉 Excellent work! By this point, you will have made all the needed steps to make your data ready for training. \n",
    "\n",
    "#### Part 1 - Checklist\n",
    "Here are the core building blocks you created and that you will need for Part 2:\n",
    "   \n",
    "- [X] `rnn_dataset`: A Dataset obj with the data, the vocabulary, the pad index, the max sequence length, and maps of idx to word type and vice versa. \n",
    "- [X] `train_dataloader`: A DataLoader obj with your training data\n",
    "- [X] `test_dataloader`: A DataLoader obj with your testing data\n",
    "\n",
    "\n",
    "_Tip: Try to familiarize yourself with these objects and what functionalities and attributes they provide._\n",
    "    \n",
    "</div>"
   ]
  },
  {
   "cell_type": "markdown",
   "metadata": {
    "id": "HPDNtdxFUvcn"
   },
   "source": [
    "---\n",
    "\n",
    "<a name=\"2\"></a>\n",
    "# PART 2:  Training Language Models 🤗\n",
    "\n",
    "#### Language Model: a probabilistic model of a sequence of tokens.\n",
    "\n",
    "🔵 **What?**\n",
    "\n",
    "Language modeling (LM) is the use of various statistical and probabilistic techniques to determine the probability of a given sequence of words occurring in a sentence. Language models analyze bodies of text data to provide a basis for their word predictions. They are used in natural language processing (NLP) applications, particularly ones that generate text as an output. Some of these applications include, machine translation and question-answering.\n",
    "\n",
    "🟡 **How?**\n",
    "\n",
    "There are several different probabilistic approaches to modeling language, which vary depending on the purpose of the language model. From a technical perspective, the various types differ by the amount of text data they analyze and the math they use to analyze it (architecture). Some LMs we've already seen and will learn about during lectures are n-gram / count-based models, Recurrent Neural Networks (RNNs), and Transformer models. \n",
    "\n",
    "🟣 **Why?**\n",
    "\n",
    "Language modeling is crucial in modern NLP applications. It is the reason that machines can understand qualitative information. Each language model type, in one way or another, turns qualitative information into quantitative information. This allows people to communicate with machines as they do with each other to a limited extent. It is used directly in a variety of industries including tech, finance, healthcare, transportation, legal, military and government. Additionally, it's likely most people reading this have interacted with a language model in some way at some point in the day, whether it be through Google search, an autocomplete text function or engaging with a voice assistant.\n",
    "\n",
    "ℹ️ Source: [Original article](https://www.techtarget.com/searchenterpriseai/definition/language-modeling#:~:text=Language%20models%20determine%20word%20probability,predict%20or%20produce%20new%20sentences.)\n",
    "\n"
   ]
  },
  {
   "cell_type": "markdown",
   "metadata": {
    "id": "X_CK0Zl7iTAU"
   },
   "source": [
    "<div style=\"padding:15px 15px 15px 15px;border-left:3px solid gray;background-color:#F3F3F3;border-radius: 15px;\">\n",
    "\n",
    "In this part, you will train your own language models using the dataset created in Part 1.\n",
    "\n",
    "More specifically, you need to implement **5 different model variants**, train and test them to compute their perplexity.\n",
    "    \n",
    "| Model | Variant | Description |\n",
    "|:---- |:----- | :----- |\n",
    "| | Token embeddings trained from scratch | An LSTM model with a trainable token Embedding layer <br>that will be initialized randomly and trained from scratch along with the LM. |\n",
    "| **LSTM** | Pre-trained token embeddings & frozen | An LSTM model with pre-trained GloVe embeddings as input <br>that will be frozen while the LM is training. |\n",
    "|  | Pre-trained token embeddings & trainable | An LSTM model with pre-trained GloVe embeddings as input <br>that will be further trained along with the LM. |\n",
    "||||\n",
    "| **Transformer** | Trained from scratch | A Transformer based model that follows the architecture of [DistilGPT2](https://huggingface.co/distilgpt2). |\n",
    "|  | Pre-trained DistilGPT2 | A pre-trained Transformer based model called [DistilGPT2](https://huggingface.co/distilgpt2) <br>and will be used only for testing (not training). |\n",
    "    \n",
    "</div>"
   ]
  },
  {
   "cell_type": "markdown",
   "metadata": {
    "id": "po9S7IYGxb1G",
    "outputId": "d3e435b8-4c87-4aa2-ef4e-46a1262fc802"
   },
   "source": [
    "---\n",
    "<a name=\"21\"></a>\n",
    "## 2.1 LSTM-variants\n"
   ]
  },
  {
   "cell_type": "markdown",
   "metadata": {
    "id": "Smi1xBm3iTAV"
   },
   "source": [
    "### 2.1.1 Implementing all LSTM variants in one Model class"
   ]
  },
  {
   "cell_type": "markdown",
   "metadata": {
    "id": "N7AkS2_0iTAV"
   },
   "source": [
    "<div style=\"padding:15px 15px 15px 15px;border-left:3px solid #03befc;background-color:#eff7fe;border-radius: 15px;\">\n",
    "\n",
    "🎯 Goal:  **Go to the `utils.py` file, and fill in the `VanillaLSTM` class with your implemenation.**\n",
    "    \n",
    "💻 Implementation hint: You will create one model class for all variants. Try to incorporate all the different cases into one Model class.\n",
    "    \n",
    "</div>"
   ]
  },
  {
   "cell_type": "code",
   "execution_count": 12,
   "metadata": {
    "id": "pIdJ9c9-Uvco"
   },
   "outputs": [],
   "source": [
    "# See VanillaLSTM class in src/utils.py\n",
    "\n",
    "from src.utils import VanillaLSTM"
   ]
  },
  {
   "cell_type": "markdown",
   "metadata": {
    "id": "6pfHmcVCiTAW"
   },
   "source": [
    "### 2.1.2 Building training and testing pipelines"
   ]
  },
  {
   "cell_type": "markdown",
   "metadata": {
    "id": "G3i0pjS2iTAW"
   },
   "source": [
    "<div style=\"padding:15px 15px 15px 15px;border-left:3px solid #03befc;background-color:#eff7fe;border-radius: 15px;\">\n",
    "\n",
    "🎯 Goal:  Implement training and testing pipelines.\n",
    "  \n",
    "💻 Implementation hint: Check the pipelines we created in the exercises sessions.\n",
    "    \n",
    "</div>"
   ]
  },
  {
   "cell_type": "code",
   "execution_count": 30,
   "metadata": {
    "colab": {
     "base_uri": "https://localhost:8080/",
     "height": 152
    },
    "id": "eyo5izV8iTAW",
    "outputId": "87852351-895d-462f-eb9e-a7676ea1051a"
   },
   "outputs": [],
   "source": [
    "def train(model, train_loader, optimizer, criterion):\n",
    "    \"\"\"\n",
    "    Main training pipeline. Implement the following:\n",
    "    - pass inputs to the model\n",
    "    - compute loss\n",
    "    - perform backward pass and update weights\n",
    "\n",
    "    :param model: \n",
    "    :param train_loader:\n",
    "    :param optimizer:\n",
    "    :param criterion: \n",
    "    return: epoch_loss\n",
    "    \"\"\"\n",
    "    \n",
    "    # Set the model to training mode\n",
    "    model.train()\n",
    "    \n",
    "    epoch_loss = 0\n",
    "    \n",
    "    # Training loop\n",
    "    for epoch in range(1):\n",
    "        print(f'=== Epoch: {epoch} ===')\n",
    "        count = 0\n",
    "        \n",
    "        for i, batch in enumerate(tqdm(train_loader, desc='Training '), 0):\n",
    "            \n",
    "            if i*8 < int(len(train_loader)*10/100):\n",
    "                \n",
    "                count += 8\n",
    "            \n",
    "                input_id = batch\n",
    "            \n",
    "                # Forward pass\n",
    "                output, target = model(input_id)\n",
    "            \n",
    "                # Calculate loss\n",
    "                loss = criterion(output, target)\n",
    "            \n",
    "                # Clear the gradient buffers of optimizer\n",
    "                optimizer.zero_grad()\n",
    "            \n",
    "                # Backpropgate loss\n",
    "                loss.backward()\n",
    "            \n",
    "                # Update optimizer\n",
    "                optimizer.step()\n",
    "            \n",
    "                # Update statistics\n",
    "                epoch_loss += loss.item()\n",
    "                \n",
    "                # tensorboard\n",
    "                tb_writer.add_scalar(\"LSTM_LM_variant_C/train_loss\", loss.item(), i)  # put the letter A or B or C according to the LSTM variant\n",
    "            \n",
    "            else:\n",
    "                break\n",
    "    \n",
    "    return epoch_loss / count"
   ]
  },
  {
   "cell_type": "code",
   "execution_count": 31,
   "metadata": {
    "id": "D3MaSi_TiTAX"
   },
   "outputs": [],
   "source": [
    "def test(model, test_loader, criterion):\n",
    "    \"\"\"\n",
    "    Main testing pipeline. Implement the following:\n",
    "    - pass inputs to the model\n",
    "    - compute loss\n",
    "    - compute perplexity\n",
    "\n",
    "    :param model: \n",
    "    :param test_loader:\n",
    "    :param criterion: \n",
    "    return: test_loss and perplexity\n",
    "    \"\"\"\n",
    "    \n",
    "    test_loss = 0.0\n",
    "    perplexity = 0\n",
    "    count = 0\n",
    "    \n",
    "    # Set the model to eval mode\n",
    "    model.eval()\n",
    "    \n",
    "    # Testing loop\n",
    "    with torch.no_grad():\n",
    "        for i, batch in enumerate(tqdm(test_loader, desc='Evaluation '), 0):\n",
    "            \n",
    "            if i*8 < int(len(test_loader)*10/100):\n",
    "                \n",
    "                count += 8\n",
    "            \n",
    "                input_id = batch\n",
    "            \n",
    "                # Forward pass\n",
    "                output, target = model(input_id)\n",
    "            \n",
    "                # Compute loss\n",
    "                loss = criterion(output, target)\n",
    "            \n",
    "                # Update statistics\n",
    "                test_loss += loss.item()\n",
    "            \n",
    "            else:\n",
    "                break\n",
    "            \n",
    "\n",
    "    test_loss = test_loss / count\n",
    "    perplexity = np.exp(test_loss)\n",
    "    \n",
    "    print(f'Test loss: {test_loss:.3f}')\n",
    "    print(f'Test Perplexity: {perplexity:.3f}')\n",
    "    \n",
    "    # tensorboard\n",
    "    tb_writer.add_scalar(\"LSTM_LM_variant_C/test_loss\", test_loss, 0)  # put the letter A or B or C according to the LSTM variant\n",
    "    tb_writer.add_scalar(\"LSTM_LM_variant_C/test_perplexity\", perplexity, 0)  # put the letter A or B or C according to the LSTM variant\n",
    "\n",
    "    return test_loss, perplexity"
   ]
  },
  {
   "cell_type": "markdown",
   "metadata": {
    "id": "4PyjPXYsnNI6"
   },
   "source": [
    "### 2.1.3 Train and test LSTM variants\n",
    "\n",
    "For **all the LSTM variants** you will perform the following steps:\n",
    "\n",
    "1. Set hypeparameters\n",
    "2. Load embeddings if needed\n",
    "3. Instantiate the model and set training configurations\n",
    "4. Run training pipeline (from 2.1.2)\n",
    "5. Save the model\n",
    "6. Run testing pipeline and compute perplexity (from 2.1.2)"
   ]
  },
  {
   "cell_type": "markdown",
   "metadata": {
    "id": "pro1_GX0iTAX"
   },
   "source": [
    "#### LSTM Variant A: Embeddings trained from scratch\n",
    "\n",
    "An LSTM model with a trainable Embedding layer that will be initialized randomly and trained from scratch along with the LM."
   ]
  },
  {
   "cell_type": "markdown",
   "metadata": {
    "id": "DYml9WJiiTAX"
   },
   "source": [
    "<div style=\"padding:15px 15px 15px 15px;border-left:3px solid #03befc;background-color:#eff7fe;border-radius: 15px;\">\n",
    "\n",
    "🎯 Goal: Set hyperparameters according to the objective of the model.\n",
    "      \n",
    "💻 Implementation hint: You can play arround with different values for `dropout_rate`, `lr` and `num_layers`.\n",
    "\n",
    "</div>"
   ]
  },
  {
   "cell_type": "code",
   "execution_count": 15,
   "metadata": {
    "id": "npU3rud1iTAY"
   },
   "outputs": [],
   "source": [
    "# Set hyperparameters\n",
    "vocab_size = len(rnn_dataset.vocab)\n",
    "embedding_dim = 100\n",
    "hidden_dim = 100\n",
    "num_layers = 2\n",
    "dropout_rate = 0.1\n",
    "lr = 1e-4  # learning rate\n",
    "\n",
    "device = torch.device(\"cuda:0\" if torch.cuda.is_available() else \"cpu\")"
   ]
  },
  {
   "cell_type": "markdown",
   "metadata": {
    "id": "rqARabVmiTAY"
   },
   "source": [
    "<div style=\"padding:15px 15px 15px 15px;border-left:3px solid #03befc;background-color:#eff7fe;border-radius: 15px;\">\n",
    "\n",
    "🎯 Goal: Instantiate the **model, optimizer and loss**.\n",
    "      \n",
    "💻 Implementation hint: Choose your training settings according to the task you need to do.\n",
    "\n",
    "</div>"
   ]
  },
  {
   "cell_type": "code",
   "execution_count": 16,
   "metadata": {
    "id": "Md5wrZODiTAY"
   },
   "outputs": [
    {
     "name": "stdout",
     "output_type": "stream",
     "text": [
      "The model has 17,022,083 trainable parameters\n"
     ]
    }
   ],
   "source": [
    "# Instantiate the model, optimizer and loss\n",
    "model = VanillaLSTM(vocab_size, \n",
    "                    embedding_dim,\n",
    "                    hidden_dim,\n",
    "                    num_layers, \n",
    "                    dropout_rate,\n",
    "                    embedding_weights=None,\n",
    "                    freeze_embeddings=False)\n",
    "optimizer = optim.Adam(model.parameters(), lr=lr)\n",
    "criterion = nn.CrossEntropyLoss(ignore_index=rnn_dataset.pad_idx)\n",
    "num_params = sum(p.numel() for p in model.parameters() if p.requires_grad)\n",
    "print(f'The model has {num_params:,} trainable parameters')"
   ]
  },
  {
   "cell_type": "markdown",
   "metadata": {
    "id": "XqbaWk-niTAZ"
   },
   "source": [
    "<div style=\"padding:15px 15px 15px 15px;border-left:3px solid #03befc;background-color:#eff7fe;border-radius: 15px;\">\n",
    "\n",
    "🎯 Goal: Run **training and testing pipelines** on **10% data** (train and test) and compute perplexity.\n",
    "      \n",
    "</div>"
   ]
  },
  {
   "cell_type": "code",
   "execution_count": 17,
   "metadata": {
    "id": "pktk0srSeH4J"
   },
   "outputs": [
    {
     "name": "stdout",
     "output_type": "stream",
     "text": [
      "=== Epoch: 0 ===\n"
     ]
    },
    {
     "name": "stderr",
     "output_type": "stream",
     "text": [
      "Training :   1%|▊                                                               | 530/42394 [21:03<27:43:32,  2.38s/it]\n",
      "Evaluation :   1%|▊                                                                  | 59/4711 [00:44<59:00,  1.31it/s]"
     ]
    },
    {
     "name": "stdout",
     "output_type": "stream",
     "text": [
      "Test loss: 0.914\n",
      "Test Perplexity: 2.494\n"
     ]
    },
    {
     "name": "stderr",
     "output_type": "stream",
     "text": [
      "\n"
     ]
    },
    {
     "data": {
      "text/plain": [
       "(0.913843306444459, 2.4938889176852825)"
      ]
     },
     "execution_count": 17,
     "metadata": {},
     "output_type": "execute_result"
    }
   ],
   "source": [
    "# Run training and testing pipelines on 10% data\n",
    "train(model, train_dataloader, optimizer, criterion)\n",
    "torch.save(model.state_dict(), 'models/lstm_with_random_token_embedding.pt')\n",
    "test(model, test_dataloader, criterion)"
   ]
  },
  {
   "cell_type": "markdown",
   "metadata": {
    "id": "azom5bf9nU__"
   },
   "source": [
    "#### LSTM Variant B: Pre-trained embeddings & frozen\n",
    "\n",
    "An LSTM model with pre-trained GloVe embeddings as input that will be frozen while the LM is training."
   ]
  },
  {
   "cell_type": "markdown",
   "metadata": {
    "id": "i3xaQCLEiTAZ"
   },
   "source": [
    "<div style=\"padding:15px 15px 15px 15px;border-left:3px solid #03befc;background-color:#eff7fe;border-radius: 15px;\">\n",
    "\n",
    "🎯 Goal: Download **GloVe embeddings**.\n",
    "      \n",
    "</div>"
   ]
  },
  {
   "cell_type": "code",
   "execution_count": 20,
   "metadata": {
    "colab": {
     "base_uri": "https://localhost:8080/"
    },
    "id": "kd7HcRw0iTAa",
    "outputId": "91075533-95be-4aef-d06a-33d794c5e1b8"
   },
   "outputs": [],
   "source": [
    "import gensim.downloader\n",
    "\n",
    "# Download the \"glove-wiki-gigaword-100\" embeddings\n",
    "glove_vectors = gensim.downloader.load('glove-wiki-gigaword-100')"
   ]
  },
  {
   "cell_type": "code",
   "execution_count": 21,
   "metadata": {},
   "outputs": [
    {
     "data": {
      "text/plain": [
       "100"
      ]
     },
     "execution_count": 21,
     "metadata": {},
     "output_type": "execute_result"
    }
   ],
   "source": [
    "len(glove_vectors['test'])"
   ]
  },
  {
   "cell_type": "markdown",
   "metadata": {
    "id": "qxjduZePiTAa"
   },
   "source": [
    "<div style=\"padding:15px 15px 15px 15px;border-left:3px solid #03befc;background-color:#eff7fe;border-radius: 15px;\">\n",
    "\n",
    "🎯 Goal: Create an embedding layer with dimensions that match the input of `VanillaLSTM` model and initialize it with random weights.\n",
    "    \n",
    "💻 API hint: Use `torch.nn.Embedding` class.\n",
    "      \n",
    "</div>"
   ]
  },
  {
   "cell_type": "code",
   "execution_count": 22,
   "metadata": {
    "id": "0SxSFs2NiTAa"
   },
   "outputs": [],
   "source": [
    "# Create an embedding layer\n",
    "embedding_layer = nn.Embedding(vocab_size, embedding_dim)"
   ]
  },
  {
   "cell_type": "code",
   "execution_count": 23,
   "metadata": {},
   "outputs": [
    {
     "data": {
      "text/plain": [
       "Parameter containing:\n",
       "tensor([[-0.4501,  0.0920, -0.4943,  ...,  0.6167,  0.6045,  0.6119],\n",
       "        [-0.6681, -0.2077, -0.7173,  ...,  0.3288,  0.9763,  0.4486],\n",
       "        [ 0.9685,  1.7754,  1.1779,  ..., -0.2749, -0.8274,  0.4135],\n",
       "        ...,\n",
       "        [ 1.6848,  0.5574,  0.7974,  ...,  2.1549,  1.7861, -1.0585],\n",
       "        [ 1.0510,  0.2390,  0.3127,  ...,  1.0942,  1.6925,  1.3853],\n",
       "        [ 0.0296, -0.6875,  0.9901,  ..., -1.4191,  0.4066,  0.7559]],\n",
       "       requires_grad=True)"
      ]
     },
     "execution_count": 23,
     "metadata": {},
     "output_type": "execute_result"
    }
   ],
   "source": [
    "embedding_layer.weight"
   ]
  },
  {
   "cell_type": "code",
   "execution_count": 24,
   "metadata": {},
   "outputs": [
    {
     "data": {
      "text/plain": [
       "tensor([ 1.3527, -1.4835, -0.3089,  0.8587, -1.1735, -2.5209,  1.2326,  1.1401,\n",
       "         0.5612,  0.6332,  1.2876,  1.0927,  0.2700,  0.2916,  1.1136,  0.2646,\n",
       "         1.1210, -0.1573,  0.9940, -0.1159, -1.2604, -0.3796,  1.4608, -0.5271,\n",
       "        -2.0638, -0.2491,  0.2570,  0.6183, -0.0813,  1.2219,  0.8537,  1.1343,\n",
       "        -0.4715, -0.2116,  0.1279,  2.4766, -0.1290, -1.4077,  0.2616,  1.3595,\n",
       "        -2.2896,  0.2603,  0.4176,  0.1877, -1.2653,  0.4408, -0.5649, -0.3110,\n",
       "        -0.9664,  0.7736,  1.3781,  0.1394, -0.1876,  1.5431,  2.1645, -0.0764,\n",
       "         0.5071, -0.0458,  0.2632, -0.9820,  2.1992, -0.1703,  0.0824,  0.4427,\n",
       "         0.2760,  0.3952, -0.3215, -0.0329,  0.1910, -0.8256,  0.8578, -0.0600,\n",
       "        -1.2390, -0.0720, -0.0625,  1.5157,  0.5857,  0.4444,  0.0708,  0.8206,\n",
       "        -1.4763, -2.0056, -1.0464,  0.9106, -1.7521,  1.5700,  0.4855, -0.0182,\n",
       "         0.5119, -0.0553,  2.1054,  0.1883,  1.0791,  2.2176,  2.7818, -1.3845,\n",
       "        -0.5803,  0.8506,  0.4351, -0.0643], grad_fn=<SelectBackward0>)"
      ]
     },
     "execution_count": 24,
     "metadata": {},
     "output_type": "execute_result"
    }
   ],
   "source": [
    "# We will do a checking using the word \"test\"\n",
    "embedding_layer.weight[rnn_dataset.word_to_index[\"test\"]]"
   ]
  },
  {
   "cell_type": "code",
   "execution_count": 25,
   "metadata": {},
   "outputs": [
    {
     "data": {
      "text/plain": [
       "array([-5.8342e-01,  4.8631e-01,  7.4230e-01,  1.7875e-01, -1.5873e+00,\n",
       "       -3.7499e-01,  3.7902e-01,  7.0767e-01, -1.5402e+00,  7.4851e-01,\n",
       "       -6.9018e-03, -4.4981e-01, -1.1125e-01,  1.7395e-01,  2.6005e-01,\n",
       "        2.7065e-01,  7.8731e-01,  8.4877e-01, -9.9277e-02,  1.7688e-02,\n",
       "        4.4389e-01, -8.7300e-01,  4.9640e-01, -1.8430e-01,  2.4894e-01,\n",
       "        2.4073e-01,  8.4460e-02,  7.0786e-02, -2.3216e-01,  2.6685e-01,\n",
       "       -2.3519e-01,  4.5211e-01, -3.9982e-01,  2.4936e-01,  7.3548e-01,\n",
       "       -7.2352e-02, -8.1008e-01, -1.5256e-01, -1.0313e+00,  2.3067e-01,\n",
       "       -1.1634e+00,  2.0387e-01,  4.2369e-01, -1.0589e+00,  2.9905e-01,\n",
       "        2.0036e-01,  6.3371e-01, -5.7507e-01, -4.3730e-01, -5.5908e-01,\n",
       "        5.0811e-01,  3.2673e-01, -4.3710e-01,  1.0702e+00, -1.0418e-01,\n",
       "       -2.4432e+00, -1.0739e+00,  1.0881e-01,  1.5446e+00, -1.5633e-01,\n",
       "       -3.7779e-01,  1.5111e-01,  5.8397e-01,  5.4980e-01,  2.3775e-01,\n",
       "        8.8690e-01, -1.0220e-01, -4.1313e-02, -1.9496e-01, -1.3760e-01,\n",
       "       -1.3191e-04,  6.9490e-01,  6.6230e-02, -2.5647e-01, -1.0539e-01,\n",
       "        5.6950e-01,  1.7414e-01, -5.9899e-01, -8.6757e-01, -3.1254e-01,\n",
       "        5.4560e-01, -9.2359e-02, -1.2294e-01, -1.9419e-01, -1.9168e+00,\n",
       "       -4.4395e-02,  6.8561e-01,  2.0030e-01, -3.7791e-01,  6.7436e-01,\n",
       "       -7.7218e-01,  4.9596e-01,  5.8190e-03,  5.3833e-01,  3.3367e-01,\n",
       "        9.7822e-01,  3.1984e-01, -1.2619e-01, -1.7724e-02,  1.8389e-01],\n",
       "      dtype=float32)"
      ]
     },
     "execution_count": 25,
     "metadata": {},
     "output_type": "execute_result"
    }
   ],
   "source": [
    "glove_vectors[\"test\"]"
   ]
  },
  {
   "cell_type": "markdown",
   "metadata": {
    "id": "9V9MhJv_iTAa"
   },
   "source": [
    "<div style=\"padding:15px 15px 15px 15px;border-left:3px solid #03befc;background-color:#eff7fe;border-radius: 15px;\">\n",
    "\n",
    "🎯 Goal: Add each GloVe embedding in the respective position in the Embedding layer created in previous step.\n",
    "\n",
    "💻 API hint: Use `.key_to_index` and `.word_to_index` functions.\n",
    "      \n",
    "</div>"
   ]
  },
  {
   "cell_type": "code",
   "execution_count": 26,
   "metadata": {},
   "outputs": [],
   "source": [
    "# Add each GloVe embedding in the respective position in the Embedding layer\n",
    "embedding_weights = embedding_layer.weight.clone()\n",
    "for idx, word in zip(rnn_dataset.index_to_word.keys(), rnn_dataset.index_to_word.values()):\n",
    "    if word in glove_vectors.index_to_key:\n",
    "        glove_vec = glove_vectors[word]\n",
    "        embedding_weights[idx] = torch.tensor(glove_vec)\n",
    "    else:\n",
    "        pass    "
   ]
  },
  {
   "cell_type": "code",
   "execution_count": 27,
   "metadata": {
    "id": "wpb9htFliTAa"
   },
   "outputs": [
    {
     "data": {
      "text/plain": [
       "tensor([-5.8342e-01,  4.8631e-01,  7.4230e-01,  1.7875e-01, -1.5873e+00,\n",
       "        -3.7499e-01,  3.7902e-01,  7.0767e-01, -1.5402e+00,  7.4851e-01,\n",
       "        -6.9018e-03, -4.4981e-01, -1.1125e-01,  1.7395e-01,  2.6005e-01,\n",
       "         2.7065e-01,  7.8731e-01,  8.4877e-01, -9.9277e-02,  1.7688e-02,\n",
       "         4.4389e-01, -8.7300e-01,  4.9640e-01, -1.8430e-01,  2.4894e-01,\n",
       "         2.4073e-01,  8.4460e-02,  7.0786e-02, -2.3216e-01,  2.6685e-01,\n",
       "        -2.3519e-01,  4.5211e-01, -3.9982e-01,  2.4936e-01,  7.3548e-01,\n",
       "        -7.2352e-02, -8.1008e-01, -1.5256e-01, -1.0313e+00,  2.3067e-01,\n",
       "        -1.1634e+00,  2.0387e-01,  4.2369e-01, -1.0589e+00,  2.9905e-01,\n",
       "         2.0036e-01,  6.3371e-01, -5.7507e-01, -4.3730e-01, -5.5908e-01,\n",
       "         5.0811e-01,  3.2673e-01, -4.3710e-01,  1.0702e+00, -1.0418e-01,\n",
       "        -2.4432e+00, -1.0739e+00,  1.0881e-01,  1.5446e+00, -1.5633e-01,\n",
       "        -3.7779e-01,  1.5111e-01,  5.8397e-01,  5.4980e-01,  2.3775e-01,\n",
       "         8.8690e-01, -1.0220e-01, -4.1313e-02, -1.9496e-01, -1.3760e-01,\n",
       "        -1.3191e-04,  6.9490e-01,  6.6230e-02, -2.5647e-01, -1.0539e-01,\n",
       "         5.6950e-01,  1.7414e-01, -5.9899e-01, -8.6757e-01, -3.1254e-01,\n",
       "         5.4560e-01, -9.2359e-02, -1.2294e-01, -1.9419e-01, -1.9168e+00,\n",
       "        -4.4395e-02,  6.8561e-01,  2.0030e-01, -3.7791e-01,  6.7436e-01,\n",
       "        -7.7218e-01,  4.9596e-01,  5.8190e-03,  5.3833e-01,  3.3367e-01,\n",
       "         9.7822e-01,  3.1984e-01, -1.2619e-01, -1.7724e-02,  1.8389e-01],\n",
       "       grad_fn=<SelectBackward0>)"
      ]
     },
     "execution_count": 27,
     "metadata": {},
     "output_type": "execute_result"
    }
   ],
   "source": [
    "embedding_weights[rnn_dataset.word_to_index[\"test\"]]\n",
    "# Seems ok !"
   ]
  },
  {
   "cell_type": "markdown",
   "metadata": {
    "id": "Fw2Vln9miTAb"
   },
   "source": [
    "<div style=\"padding:15px 15px 15px 15px;border-left:3px solid #03befc;background-color:#eff7fe;border-radius: 15px;\">\n",
    "\n",
    "🎯 Goal: Instantiate the **model, optimizer and loss**.\n",
    "      \n",
    "💻 Implementation hint: Choose your training settings according to the task you need to do.\n",
    "\n",
    "</div>"
   ]
  },
  {
   "cell_type": "code",
   "execution_count": 28,
   "metadata": {
    "id": "85tKcWG0iTAb"
   },
   "outputs": [
    {
     "name": "stdout",
     "output_type": "stream",
     "text": [
      "The model has 8,633,783 trainable parameters\n"
     ]
    }
   ],
   "source": [
    "# Instantiate the model, optimizer and loss\n",
    "model = VanillaLSTM(vocab_size, \n",
    "                    embedding_dim,\n",
    "                    hidden_dim,\n",
    "                    num_layers, \n",
    "                    dropout_rate,\n",
    "                    embedding_weights=embedding_weights,\n",
    "                    freeze_embeddings=True)\n",
    "optimizer = optim.Adam(model.parameters(), lr=lr)\n",
    "criterion = nn.CrossEntropyLoss(ignore_index=rnn_dataset.pad_idx)\n",
    "num_params = sum(p.numel() for p in model.parameters() if p.requires_grad)\n",
    "print(f'The model has {num_params:,} trainable parameters')"
   ]
  },
  {
   "cell_type": "markdown",
   "metadata": {
    "id": "K_Uezm3ZiTAb"
   },
   "source": [
    "<div style=\"padding:15px 15px 15px 15px;border-left:3px solid #03befc;background-color:#eff7fe;border-radius: 15px;\">\n",
    "\n",
    "🎯 Goal: Run **training and testing pipelines** on **10% data** (train and test) and compute perplexity.\n",
    "      \n",
    "</div>"
   ]
  },
  {
   "cell_type": "code",
   "execution_count": 29,
   "metadata": {
    "id": "om8GetFxiTAb"
   },
   "outputs": [
    {
     "name": "stdout",
     "output_type": "stream",
     "text": [
      "=== Epoch: 0 ===\n"
     ]
    },
    {
     "name": "stderr",
     "output_type": "stream",
     "text": [
      "Training :   1%|▊                                                               | 530/42394 [19:43<25:58:25,  2.23s/it]\n",
      "Evaluation :   1%|▊                                                                  | 59/4711 [00:43<57:23,  1.35it/s]"
     ]
    },
    {
     "name": "stdout",
     "output_type": "stream",
     "text": [
      "Test loss: 0.915\n",
      "Test Perplexity: 2.497\n"
     ]
    },
    {
     "name": "stderr",
     "output_type": "stream",
     "text": [
      "\n"
     ]
    },
    {
     "data": {
      "text/plain": [
       "(0.9149312952817497, 2.4966037175573486)"
      ]
     },
     "execution_count": 29,
     "metadata": {},
     "output_type": "execute_result"
    }
   ],
   "source": [
    "# Run training and testing pipelines on 10% data\n",
    "train(model, train_dataloader, optimizer, criterion)\n",
    "torch.save(model.state_dict(), 'models/lstm_with_frozen_glove_token_embedding.pt')\n",
    "test(model, test_dataloader, criterion)"
   ]
  },
  {
   "cell_type": "markdown",
   "metadata": {
    "id": "35jsDup2iTAb"
   },
   "source": [
    "#### LSTM Variant C: Pre-trained embeddings & trainable\t\n",
    "An LSTM model with pre-trained GloVe embeddings as input that will be further trained along with the LM.\n",
    "\n",
    "_Note: Use the same embedding layer you instantiated with GloVe embeddings in the previous step_"
   ]
  },
  {
   "cell_type": "markdown",
   "metadata": {
    "id": "XCr4iCXqmZPm",
    "outputId": "30f3bef5-b15c-401b-bd7b-c5ea933dd2ba"
   },
   "source": [
    "<div style=\"padding:15px 15px 15px 15px;border-left:3px solid #03befc;background-color:#eff7fe;border-radius: 15px;\">\n",
    "\n",
    "🎯 Goal: Instantiate the **model, optimizer and loss**.\n",
    "      \n",
    "💻 Implementation hint: Choose your training settings according to the task you need to do.\n",
    "\n",
    "</div>"
   ]
  },
  {
   "cell_type": "code",
   "execution_count": 32,
   "metadata": {
    "id": "ZiM8ADB0ssYv"
   },
   "outputs": [
    {
     "name": "stdout",
     "output_type": "stream",
     "text": [
      "The model has 17,022,083 trainable parameters\n"
     ]
    }
   ],
   "source": [
    "# Instantiate the model, optimizer and loss\n",
    "model = VanillaLSTM(vocab_size, \n",
    "                    embedding_dim,\n",
    "                    hidden_dim,\n",
    "                    num_layers, \n",
    "                    dropout_rate,\n",
    "                    embedding_weights=embedding_weights,\n",
    "                    freeze_embeddings=False)\n",
    "optimizer = optim.Adam(model.parameters(), lr=lr)\n",
    "criterion = nn.CrossEntropyLoss(ignore_index=rnn_dataset.pad_idx)\n",
    "num_params = sum(p.numel() for p in model.parameters() if p.requires_grad)\n",
    "print(f'The model has {num_params:,} trainable parameters')"
   ]
  },
  {
   "cell_type": "markdown",
   "metadata": {
    "id": "EeEbRuZ4iTAc"
   },
   "source": [
    "<div style=\"padding:15px 15px 15px 15px;border-left:3px solid #03befc;background-color:#eff7fe;border-radius: 15px;\">\n",
    "\n",
    "🎯 Goal: Run **training and testing pipelines** on **10% data** (train and test) and compute perplexity.\n",
    "      \n",
    "</div>"
   ]
  },
  {
   "cell_type": "code",
   "execution_count": 33,
   "metadata": {
    "id": "5vgy6soessg1"
   },
   "outputs": [
    {
     "name": "stdout",
     "output_type": "stream",
     "text": [
      "=== Epoch: 0 ===\n"
     ]
    },
    {
     "name": "stderr",
     "output_type": "stream",
     "text": [
      "Training :   1%|▊                                                               | 530/42394 [20:45<27:19:33,  2.35s/it]\n",
      "Evaluation :   1%|▊                                                                  | 59/4711 [00:45<59:48,  1.30it/s]"
     ]
    },
    {
     "name": "stdout",
     "output_type": "stream",
     "text": [
      "Test loss: 0.914\n",
      "Test Perplexity: 2.494\n"
     ]
    },
    {
     "name": "stderr",
     "output_type": "stream",
     "text": [
      "\n"
     ]
    },
    {
     "data": {
      "text/plain": [
       "(0.9138673008498499, 2.4939487577848847)"
      ]
     },
     "execution_count": 33,
     "metadata": {},
     "output_type": "execute_result"
    }
   ],
   "source": [
    "# Run training and testing pipelines on 10% data\n",
    "train(model, train_dataloader, optimizer, criterion)\n",
    "torch.save(model.state_dict(), 'models/lstm_with_nonfreezed_glove_token_embedding.pt')\n",
    "test(model, test_dataloader, criterion)"
   ]
  },
  {
   "cell_type": "markdown",
   "metadata": {
    "id": "NuBG_yHto6Qz",
    "tags": []
   },
   "source": [
    "---\n",
    "\n",
    "<a name=\"22\"></a>\n",
    "## 2.2 Transformer-variants\n",
    "\n",
    "For all Transformer vairants we will use the architecture of **DistilGPT2** model. DistilGPT2 (short for Distilled-GPT2) is an English-language model pre-trained with the supervision of the smallest version of Generative Pre-trained Transformer 2 (GPT-2). Like GPT-2, DistilGPT2 can be used to generate text. See more details in the [HuggingFace model card](https://huggingface.co/distilgpt2). "
   ]
  },
  {
   "cell_type": "markdown",
   "metadata": {
    "id": "ieaNrQIJzow-"
   },
   "source": [
    "### 2.2.1 Train DistilGPT-2 from scratch\n",
    "\n",
    "You will perform the following steps:\n",
    "\n",
    "1. Load the config of the DistilGPT-2 model using the Transformers library.\n",
    "2. Load Model class from the config and the respective tokenizer.\n",
    "3. Change input dataset to fit with the tokenization mechanism of DistilGPT-2.\n",
    "4. Split dataset into train and test.\n",
    "5. Create DataLoaders for train and test subsets.\n",
    "6. Train the model from stratch.\n",
    "7. Test the model and compute perplexity"
   ]
  },
  {
   "cell_type": "code",
   "execution_count": 34,
   "metadata": {
    "id": "jUWqgNzvzoj-"
   },
   "outputs": [],
   "source": [
    "model_name = \"distilgpt2\"\n",
    "tokenizer_checkpoint = \"distilgpt2\""
   ]
  },
  {
   "cell_type": "markdown",
   "metadata": {
    "id": "Dsz8Xg36iTAd"
   },
   "source": [
    "<div style=\"padding:15px 15px 15px 15px;border-left:3px solid #03befc;background-color:#eff7fe;border-radius: 15px;\">\n",
    "\n",
    "🎯 Goal: Load model config, model class and tokenizer.\n",
    "      \n",
    "💻 Implementation hint: You should load the **model instance** and not the pre-trained model weights. You should load the pre-trained tokenizer though.\n",
    "\n",
    "</div>"
   ]
  },
  {
   "cell_type": "code",
   "execution_count": 35,
   "metadata": {
    "id": "QLaG6iasiTAd"
   },
   "outputs": [
    {
     "name": "stderr",
     "output_type": "stream",
     "text": [
      "C:\\Users\\felic\\anaconda3\\envs\\nlp\\lib\\site-packages\\transformers\\models\\auto\\modeling_auto.py:1238: FutureWarning: The class `AutoModelWithLMHead` is deprecated and will be removed in a future version. Please use `AutoModelForCausalLM` for causal language models, `AutoModelForMaskedLM` for masked language models and `AutoModelForSeq2SeqLM` for encoder-decoder models.\n",
      "  warnings.warn(\n"
     ]
    }
   ],
   "source": [
    "MAX_SEQ_LENGTH = 128\n",
    "\n",
    "# Load model config, model class and tokenizer\n",
    "model_config = AutoConfig.from_pretrained(model_name)\n",
    "gpt2_scratch_model = AutoModelWithLMHead.from_config(model_config)\n",
    "gpt_tokenizer = GPT2TokenizerFast.from_pretrained(tokenizer_checkpoint)"
   ]
  },
  {
   "cell_type": "markdown",
   "metadata": {
    "id": "f7BA6SG-iTAd"
   },
   "source": [
    "<div style=\"padding:15px 15px 15px 15px;border-left:3px solid #03befc;background-color:#eff7fe;border-radius: 15px;\">\n",
    "\n",
    "🎯 Goal: Implement the following steps according to the in-line comments.\n",
    "\n",
    "</div>"
   ]
  },
  {
   "cell_type": "code",
   "execution_count": 36,
   "metadata": {
    "id": "QIEmTqi7iTAe"
   },
   "outputs": [
    {
     "name": "stderr",
     "output_type": "stream",
     "text": [
      "Loading cached processed dataset at C:\\Users\\felic\\projets_EPFL\\ModernNaturalLanguageProcessing_NLP_EPFL\\a1-Felicie-Giraud-Sauveur\\data\\wikitext_dataset_pre-processed\\cache-9f6d86b8b96c3337.arrow\n",
      "Loading cached processed dataset at C:\\Users\\felic\\projets_EPFL\\ModernNaturalLanguageProcessing_NLP_EPFL\\a1-Felicie-Giraud-Sauveur\\data\\wikitext_dataset_pre-processed\\cache-5fab2110ef5bf7f0.arrow\n",
      "Loading cached processed dataset at C:\\Users\\felic\\projets_EPFL\\ModernNaturalLanguageProcessing_NLP_EPFL\\a1-Felicie-Giraud-Sauveur\\data\\wikitext_dataset_pre-processed\\cache-32d8a0c165eddbbb.arrow\n"
     ]
    }
   ],
   "source": [
    "# Add pad_token the same as the EOS token to not increase vocab size\n",
    "gpt_tokenizer.pad_token = gpt_tokenizer.eos_token\n",
    "\n",
    "# tokenize wikitext_dataset with pre-trained DistilGPT2 tokenizer\n",
    "encoded_dataset = wikitext_dataset.map(lambda x: gpt_tokenizer(x[\"text\"], padding='max_length', max_length=MAX_SEQ_LENGTH, truncation=False))\n",
    "\n",
    "# filter out sentences with length more than MAX_SEQ_LENGTH\n",
    "limited_encoded_dataset = encoded_dataset.filter(lambda x: len(x['input_ids'])<=MAX_SEQ_LENGTH)\n",
    "\n",
    "limited_encoded_dataset = limited_encoded_dataset.remove_columns(\"text\")\n",
    "limited_encoded_dataset = limited_encoded_dataset.with_format(\"torch\")\n",
    "limited_encoded_dataset = limited_encoded_dataset.map(lambda example: {\"labels\": example[\"input_ids\"]})"
   ]
  },
  {
   "cell_type": "code",
   "execution_count": 37,
   "metadata": {},
   "outputs": [
    {
     "data": {
      "text/plain": [
       "{'input_ids': tensor([ 1169,   983,  2540,  2478,   287,  3050,   837,  6872,   625,   257,\n",
       "          1588,  6903,   286,   262,   670,  1760,   319,   410, 18354,  7496,\n",
       "         16199,  2983, 21065,   764,   981,   340, 17383,   262,  3210,  3033,\n",
       "           286,   262,  2168,   837,   340,   635, 25289,  3294, 16895,   837,\n",
       "           884,   355,  1642,   262,   983,   517, 43486,   329,  2168, 29661,\n",
       "           764,  2095, 11915,  1279,  2954,    29,  1279,  2954,    29,   290,\n",
       "         26777,  2277, 13704,   264,   461, 43354,  1111,  4504,   422,  2180,\n",
       "         12784,   837,  1863,   351,   410, 18354,  7496, 16199,  2983, 21065,\n",
       "          3437,  2753,  5303, 15649,  6909,   764,   257,  1588,  1074,   286,\n",
       "          8786, 12118,   262,  4226,   764,   262,   983,   705,    82,  4756,\n",
       "          7505,   373, 23568,   416,   743,   705,    77,   764, 50256, 50256,\n",
       "         50256, 50256, 50256, 50256, 50256, 50256, 50256, 50256, 50256, 50256,\n",
       "         50256, 50256, 50256, 50256, 50256, 50256, 50256, 50256]),\n",
       " 'attention_mask': tensor([1, 1, 1, 1, 1, 1, 1, 1, 1, 1, 1, 1, 1, 1, 1, 1, 1, 1, 1, 1, 1, 1, 1, 1,\n",
       "         1, 1, 1, 1, 1, 1, 1, 1, 1, 1, 1, 1, 1, 1, 1, 1, 1, 1, 1, 1, 1, 1, 1, 1,\n",
       "         1, 1, 1, 1, 1, 1, 1, 1, 1, 1, 1, 1, 1, 1, 1, 1, 1, 1, 1, 1, 1, 1, 1, 1,\n",
       "         1, 1, 1, 1, 1, 1, 1, 1, 1, 1, 1, 1, 1, 1, 1, 1, 1, 1, 1, 1, 1, 1, 1, 1,\n",
       "         1, 1, 1, 1, 1, 1, 1, 1, 1, 1, 1, 1, 0, 0, 0, 0, 0, 0, 0, 0, 0, 0, 0, 0,\n",
       "         0, 0, 0, 0, 0, 0, 0, 0]),\n",
       " 'labels': tensor([ 1169,   983,  2540,  2478,   287,  3050,   837,  6872,   625,   257,\n",
       "          1588,  6903,   286,   262,   670,  1760,   319,   410, 18354,  7496,\n",
       "         16199,  2983, 21065,   764,   981,   340, 17383,   262,  3210,  3033,\n",
       "           286,   262,  2168,   837,   340,   635, 25289,  3294, 16895,   837,\n",
       "           884,   355,  1642,   262,   983,   517, 43486,   329,  2168, 29661,\n",
       "           764,  2095, 11915,  1279,  2954,    29,  1279,  2954,    29,   290,\n",
       "         26777,  2277, 13704,   264,   461, 43354,  1111,  4504,   422,  2180,\n",
       "         12784,   837,  1863,   351,   410, 18354,  7496, 16199,  2983, 21065,\n",
       "          3437,  2753,  5303, 15649,  6909,   764,   257,  1588,  1074,   286,\n",
       "          8786, 12118,   262,  4226,   764,   262,   983,   705,    82,  4756,\n",
       "          7505,   373, 23568,   416,   743,   705,    77,   764, 50256, 50256,\n",
       "         50256, 50256, 50256, 50256, 50256, 50256, 50256, 50256, 50256, 50256,\n",
       "         50256, 50256, 50256, 50256, 50256, 50256, 50256, 50256])}"
      ]
     },
     "execution_count": 37,
     "metadata": {},
     "output_type": "execute_result"
    }
   ],
   "source": [
    "# Checking\n",
    "limited_encoded_dataset[0]"
   ]
  },
  {
   "cell_type": "markdown",
   "metadata": {
    "id": "FnTTvoyMiTAe"
   },
   "source": [
    "<div style=\"padding:15px 15px 15px 15px;border-left:3px solid #03befc;background-color:#eff7fe;border-radius: 15px;\">\n",
    "\n",
    "🎯 Goal:  **Split** the `limited_encoded_dataset` into train and test subsets.\n",
    "    \n",
    "💻 API hint: Use `torch.utils.data.random_split` method with the given `TRAIN_RATIO`.\n",
    "\n",
    "</div>"
   ]
  },
  {
   "cell_type": "code",
   "execution_count": 38,
   "metadata": {
    "id": "mbv9vnLyiTAe"
   },
   "outputs": [
    {
     "name": "stderr",
     "output_type": "stream",
     "text": [
      "Loading cached split indices for dataset at C:\\Users\\felic\\projets_EPFL\\ModernNaturalLanguageProcessing_NLP_EPFL\\a1-Felicie-Giraud-Sauveur\\data\\wikitext_dataset_pre-processed\\cache-acc46e6363e9230f.arrow and C:\\Users\\felic\\projets_EPFL\\ModernNaturalLanguageProcessing_NLP_EPFL\\a1-Felicie-Giraud-Sauveur\\data\\wikitext_dataset_pre-processed\\cache-4f73c56eb6a5acc3.arrow\n",
      "Loading cached shuffled indices for dataset at C:\\Users\\felic\\projets_EPFL\\ModernNaturalLanguageProcessing_NLP_EPFL\\a1-Felicie-Giraud-Sauveur\\data\\wikitext_dataset_pre-processed\\cache-5307f720fa26293a.arrow\n"
     ]
    }
   ],
   "source": [
    "# Split the limited_encoded_dataset into train and test subsets\n",
    "\n",
    "# Split data into train and test\n",
    "TRAIN_RATIO = 0.9\n",
    "split_dataset = limited_encoded_dataset.train_test_split(train_size=TRAIN_RATIO)\n",
    "transformer_train_dataset, transformer_test_dataset = split_dataset['train'], split_dataset['test']\n",
    "\n",
    "# Keep only 10% of training data\n",
    "transformer_train_dataset = transformer_train_dataset.shuffle().select([i for i in range(int(len(transformer_train_dataset)*10/100))])"
   ]
  },
  {
   "cell_type": "markdown",
   "metadata": {
    "id": "WydKF1tIiTAf"
   },
   "source": [
    "<div style=\"padding:15px 15px 15px 15px;border-left:3px solid #03befc;background-color:#eff7fe;border-radius: 15px;\">\n",
    "\n",
    "🎯 Goal: Set hyperparameters according to the objective of the model.\n",
    "      \n",
    "💻 Implementation hint: You can play arround with different values for `learning_rate`.\n",
    "\n",
    "</div>"
   ]
  },
  {
   "cell_type": "code",
   "execution_count": 39,
   "metadata": {
    "id": "JV7Zq35AiTAf"
   },
   "outputs": [
    {
     "name": "stderr",
     "output_type": "stream",
     "text": [
      "Using the `WANDB_DISABLED` environment variable is deprecated and will be removed in v5. Use the --report_to flag to control the integrations used for logging result (for instance --report_to none).\n"
     ]
    }
   ],
   "source": [
    "# Set hyperparameters\n",
    "training_args = TrainingArguments(\n",
    "    output_dir=f\"{model_name}-wikitext103\",\n",
    "    evaluation_strategy = \"epoch\",\n",
    "    logging_steps=100,\n",
    "    learning_rate=1e-4,\n",
    "    save_steps=10000,\n",
    "    weight_decay=0.01)"
   ]
  },
  {
   "cell_type": "markdown",
   "metadata": {
    "id": "mLOGX_LQiTAg"
   },
   "source": [
    "<div style=\"padding:15px 15px 15px 15px;border-left:3px solid #03befc;background-color:#eff7fe;border-radius: 15px;\">\n",
    "\n",
    "🎯 Goal: Run **training** using the `Trainer` class on **10% of data**.\n",
    "\n",
    "</div>"
   ]
  },
  {
   "cell_type": "code",
   "execution_count": 40,
   "metadata": {
    "id": "fyBsdxwmo4E7"
   },
   "outputs": [],
   "source": [
    "data_collator = DataCollatorForLanguageModeling(tokenizer=gpt_tokenizer, mlm=False)\n",
    "\n",
    "trainer = Trainer(model=gpt2_scratch_model,\n",
    "                  args=training_args,\n",
    "                  train_dataset=transformer_train_dataset,\n",
    "                  eval_dataset=transformer_test_dataset,\n",
    "                  tokenizer=gpt_tokenizer,\n",
    "                  data_collator=data_collator,\n",
    "                  )"
   ]
  },
  {
   "cell_type": "code",
   "execution_count": 41,
   "metadata": {
    "id": "W9gVEQ6nUvcp",
    "scrolled": true
   },
   "outputs": [
    {
     "name": "stderr",
     "output_type": "stream",
     "text": [
      "C:\\Users\\felic\\anaconda3\\envs\\nlp\\lib\\site-packages\\transformers\\optimization.py:306: FutureWarning: This implementation of AdamW is deprecated and will be removed in a future version. Use the PyTorch implementation torch.optim.AdamW instead, or set `no_deprecation_warning=True` to disable this warning\n",
      "  warnings.warn(\n",
      "***** Running training *****\n",
      "  Num examples = 27870\n",
      "  Num Epochs = 3\n",
      "  Instantaneous batch size per device = 8\n",
      "  Total train batch size (w. parallel, distributed & accumulation) = 8\n",
      "  Gradient Accumulation steps = 1\n",
      "  Total optimization steps = 10452\n",
      "  Number of trainable parameters = 81912576\n",
      "You're using a GPT2TokenizerFast tokenizer. Please note that with a fast tokenizer, using the `__call__` method is faster than using a method to encode the text followed by a call to the `pad` method to get a padded encoding.\n"
     ]
    },
    {
     "data": {
      "text/html": [
       "\n",
       "    <div>\n",
       "      \n",
       "      <progress value='10452' max='10452' style='width:300px; height:20px; vertical-align: middle;'></progress>\n",
       "      [10452/10452 1:03:07, Epoch 3/3]\n",
       "    </div>\n",
       "    <table border=\"1\" class=\"dataframe\">\n",
       "  <thead>\n",
       " <tr style=\"text-align: left;\">\n",
       "      <th>Epoch</th>\n",
       "      <th>Training Loss</th>\n",
       "      <th>Validation Loss</th>\n",
       "    </tr>\n",
       "  </thead>\n",
       "  <tbody>\n",
       "    <tr>\n",
       "      <td>1</td>\n",
       "      <td>5.575100</td>\n",
       "      <td>5.470495</td>\n",
       "    </tr>\n",
       "    <tr>\n",
       "      <td>2</td>\n",
       "      <td>5.082400</td>\n",
       "      <td>5.132913</td>\n",
       "    </tr>\n",
       "    <tr>\n",
       "      <td>3</td>\n",
       "      <td>4.838100</td>\n",
       "      <td>5.007426</td>\n",
       "    </tr>\n",
       "  </tbody>\n",
       "</table><p>"
      ],
      "text/plain": [
       "<IPython.core.display.HTML object>"
      ]
     },
     "metadata": {},
     "output_type": "display_data"
    },
    {
     "name": "stderr",
     "output_type": "stream",
     "text": [
      "***** Running Evaluation *****\n",
      "  Num examples = 30967\n",
      "  Batch size = 8\n",
      "***** Running Evaluation *****\n",
      "  Num examples = 30967\n",
      "  Batch size = 8\n",
      "Saving model checkpoint to distilgpt2-wikitext103\\checkpoint-10000\n",
      "Configuration saved in distilgpt2-wikitext103\\checkpoint-10000\\config.json\n",
      "Configuration saved in distilgpt2-wikitext103\\checkpoint-10000\\generation_config.json\n",
      "Model weights saved in distilgpt2-wikitext103\\checkpoint-10000\\pytorch_model.bin\n",
      "tokenizer config file saved in distilgpt2-wikitext103\\checkpoint-10000\\tokenizer_config.json\n",
      "Special tokens file saved in distilgpt2-wikitext103\\checkpoint-10000\\special_tokens_map.json\n",
      "***** Running Evaluation *****\n",
      "  Num examples = 30967\n",
      "  Batch size = 8\n",
      "\n",
      "\n",
      "Training completed. Do not forget to share your model on huggingface.co/models =)\n",
      "\n",
      "\n"
     ]
    }
   ],
   "source": [
    "# Run training using the Trainer class on 10% of data\n",
    "trainer.train()\n",
    "torch.save(trainer.model.state_dict(), 'models/distilgpt2-lm-from-scratch.pt')"
   ]
  },
  {
   "cell_type": "markdown",
   "metadata": {
    "id": "ZZsEBG8RiTAg"
   },
   "source": [
    "<div style=\"padding:15px 15px 15px 15px;border-left:3px solid #03befc;background-color:#eff7fe;border-radius: 15px;\">\n",
    "\n",
    "🎯 Goal: Run **testing** using the `Trainer` class and compute perplexity.\n",
    "\n",
    "      \n",
    "</div>"
   ]
  },
  {
   "cell_type": "code",
   "execution_count": 42,
   "metadata": {
    "id": "HiuwHEY6iTAg",
    "scrolled": true
   },
   "outputs": [
    {
     "name": "stderr",
     "output_type": "stream",
     "text": [
      "***** Running Evaluation *****\n",
      "  Num examples = 30967\n",
      "  Batch size = 8\n"
     ]
    },
    {
     "data": {
      "text/html": [
       "\n",
       "    <div>\n",
       "      \n",
       "      <progress value='3871' max='3871' style='width:300px; height:20px; vertical-align: middle;'></progress>\n",
       "      [3871/3871 05:00]\n",
       "    </div>\n",
       "    "
      ],
      "text/plain": [
       "<IPython.core.display.HTML object>"
      ]
     },
     "metadata": {},
     "output_type": "display_data"
    },
    {
     "name": "stdout",
     "output_type": "stream",
     "text": [
      "The perplexity on the test dataset is 149.519\n"
     ]
    }
   ],
   "source": [
    "# Run testing using the Trainer class and compute perplexity\n",
    "eval_result = trainer.evaluate()\n",
    "perplexity_from_scratch = math.exp(eval_result[\"eval_loss\"])\n",
    "print(f\"The perplexity on the test dataset is {perplexity_from_scratch:.3f}\")"
   ]
  },
  {
   "cell_type": "markdown",
   "metadata": {
    "id": "bHzd5C0inhLP"
   },
   "source": [
    "### 2.2.2 Run Pre-trained GPT-2 model\n",
    "\n",
    "After training your trained-from-scratch Transformer model in the previous section, you will now use a pre-trained model to find its perplexity. Therefore, we will only perform testing of the pre-trained model on the test dataset. \n",
    "\n",
    "You will perform the following steps:\n",
    "\n",
    "1. Load pre-trained model and tokenizer\n",
    "2. Run testing and compute perplexity"
   ]
  },
  {
   "cell_type": "code",
   "execution_count": 43,
   "metadata": {
    "colab": {
     "base_uri": "https://localhost:8080/",
     "height": 399
    },
    "id": "OJpB8U-1iTAh",
    "outputId": "f5a113ec-f2f9-4589-fb52-fd4bfcd8cad7"
   },
   "outputs": [],
   "source": [
    "from transformers import GPT2LMHeadModel, GPT2TokenizerFast, AutoConfig, AutoModelForCausalLM, AutoTokenizer\n",
    "from transformers import Trainer, TrainingArguments\n",
    "import torch\n",
    "\n",
    "model_id = \"distilgpt2\""
   ]
  },
  {
   "cell_type": "markdown",
   "metadata": {
    "id": "p4Ei6aFliTAh"
   },
   "source": [
    "<div style=\"padding:15px 15px 15px 15px;border-left:3px solid #03befc;background-color:#eff7fe;border-radius: 15px;\">\n",
    "\n",
    "🎯 Goal: Load pre-trained model and tokenizer.\n",
    "      \n",
    "</div>"
   ]
  },
  {
   "cell_type": "code",
   "execution_count": 44,
   "metadata": {
    "id": "Yz53m57qiTAh"
   },
   "outputs": [
    {
     "name": "stderr",
     "output_type": "stream",
     "text": [
      "loading configuration file config.json from cache at C:\\Users\\felic/.cache\\huggingface\\hub\\models--distilgpt2\\snapshots\\f241065e938b44ac52db2c5de82c8bd2fafc76d0\\config.json\n",
      "Model config GPT2Config {\n",
      "  \"_num_labels\": 1,\n",
      "  \"activation_function\": \"gelu_new\",\n",
      "  \"architectures\": [\n",
      "    \"GPT2LMHeadModel\"\n",
      "  ],\n",
      "  \"attn_pdrop\": 0.1,\n",
      "  \"bos_token_id\": 50256,\n",
      "  \"embd_pdrop\": 0.1,\n",
      "  \"eos_token_id\": 50256,\n",
      "  \"id2label\": {\n",
      "    \"0\": \"LABEL_0\"\n",
      "  },\n",
      "  \"initializer_range\": 0.02,\n",
      "  \"label2id\": {\n",
      "    \"LABEL_0\": 0\n",
      "  },\n",
      "  \"layer_norm_epsilon\": 1e-05,\n",
      "  \"model_type\": \"gpt2\",\n",
      "  \"n_ctx\": 1024,\n",
      "  \"n_embd\": 768,\n",
      "  \"n_head\": 12,\n",
      "  \"n_inner\": null,\n",
      "  \"n_layer\": 6,\n",
      "  \"n_positions\": 1024,\n",
      "  \"reorder_and_upcast_attn\": false,\n",
      "  \"resid_pdrop\": 0.1,\n",
      "  \"scale_attn_by_inverse_layer_idx\": false,\n",
      "  \"scale_attn_weights\": true,\n",
      "  \"summary_activation\": null,\n",
      "  \"summary_first_dropout\": 0.1,\n",
      "  \"summary_proj_to_labels\": true,\n",
      "  \"summary_type\": \"cls_index\",\n",
      "  \"summary_use_proj\": true,\n",
      "  \"task_specific_params\": {\n",
      "    \"text-generation\": {\n",
      "      \"do_sample\": true,\n",
      "      \"max_length\": 50\n",
      "    }\n",
      "  },\n",
      "  \"transformers_version\": \"4.26.1\",\n",
      "  \"use_cache\": true,\n",
      "  \"vocab_size\": 50257\n",
      "}\n",
      "\n",
      "loading weights file pytorch_model.bin from cache at C:\\Users\\felic/.cache\\huggingface\\hub\\models--distilgpt2\\snapshots\\f241065e938b44ac52db2c5de82c8bd2fafc76d0\\pytorch_model.bin\n",
      "Generate config GenerationConfig {\n",
      "  \"bos_token_id\": 50256,\n",
      "  \"eos_token_id\": 50256,\n",
      "  \"transformers_version\": \"4.26.1\"\n",
      "}\n",
      "\n",
      "All model checkpoint weights were used when initializing GPT2LMHeadModel.\n",
      "\n",
      "All the weights of GPT2LMHeadModel were initialized from the model checkpoint at distilgpt2.\n",
      "If your task is similar to the task the model of the checkpoint was trained on, you can already use GPT2LMHeadModel for predictions without further training.\n",
      "loading configuration file generation_config.json from cache at C:\\Users\\felic/.cache\\huggingface\\hub\\models--distilgpt2\\snapshots\\f241065e938b44ac52db2c5de82c8bd2fafc76d0\\generation_config.json\n",
      "Generate config GenerationConfig {\n",
      "  \"_from_model_config\": true,\n",
      "  \"bos_token_id\": 50256,\n",
      "  \"eos_token_id\": 50256,\n",
      "  \"transformers_version\": \"4.26.1\"\n",
      "}\n",
      "\n",
      "loading file vocab.json from cache at C:\\Users\\felic/.cache\\huggingface\\hub\\models--distilgpt2\\snapshots\\f241065e938b44ac52db2c5de82c8bd2fafc76d0\\vocab.json\n",
      "loading file merges.txt from cache at C:\\Users\\felic/.cache\\huggingface\\hub\\models--distilgpt2\\snapshots\\f241065e938b44ac52db2c5de82c8bd2fafc76d0\\merges.txt\n",
      "loading file tokenizer.json from cache at C:\\Users\\felic/.cache\\huggingface\\hub\\models--distilgpt2\\snapshots\\f241065e938b44ac52db2c5de82c8bd2fafc76d0\\tokenizer.json\n",
      "loading file added_tokens.json from cache at None\n",
      "loading file special_tokens_map.json from cache at None\n",
      "loading file tokenizer_config.json from cache at None\n",
      "loading configuration file config.json from cache at C:\\Users\\felic/.cache\\huggingface\\hub\\models--distilgpt2\\snapshots\\f241065e938b44ac52db2c5de82c8bd2fafc76d0\\config.json\n",
      "Model config GPT2Config {\n",
      "  \"_name_or_path\": \"distilgpt2\",\n",
      "  \"_num_labels\": 1,\n",
      "  \"activation_function\": \"gelu_new\",\n",
      "  \"architectures\": [\n",
      "    \"GPT2LMHeadModel\"\n",
      "  ],\n",
      "  \"attn_pdrop\": 0.1,\n",
      "  \"bos_token_id\": 50256,\n",
      "  \"embd_pdrop\": 0.1,\n",
      "  \"eos_token_id\": 50256,\n",
      "  \"id2label\": {\n",
      "    \"0\": \"LABEL_0\"\n",
      "  },\n",
      "  \"initializer_range\": 0.02,\n",
      "  \"label2id\": {\n",
      "    \"LABEL_0\": 0\n",
      "  },\n",
      "  \"layer_norm_epsilon\": 1e-05,\n",
      "  \"model_type\": \"gpt2\",\n",
      "  \"n_ctx\": 1024,\n",
      "  \"n_embd\": 768,\n",
      "  \"n_head\": 12,\n",
      "  \"n_inner\": null,\n",
      "  \"n_layer\": 6,\n",
      "  \"n_positions\": 1024,\n",
      "  \"reorder_and_upcast_attn\": false,\n",
      "  \"resid_pdrop\": 0.1,\n",
      "  \"scale_attn_by_inverse_layer_idx\": false,\n",
      "  \"scale_attn_weights\": true,\n",
      "  \"summary_activation\": null,\n",
      "  \"summary_first_dropout\": 0.1,\n",
      "  \"summary_proj_to_labels\": true,\n",
      "  \"summary_type\": \"cls_index\",\n",
      "  \"summary_use_proj\": true,\n",
      "  \"task_specific_params\": {\n",
      "    \"text-generation\": {\n",
      "      \"do_sample\": true,\n",
      "      \"max_length\": 50\n",
      "    }\n",
      "  },\n",
      "  \"transformers_version\": \"4.26.1\",\n",
      "  \"use_cache\": true,\n",
      "  \"vocab_size\": 50257\n",
      "}\n",
      "\n"
     ]
    }
   ],
   "source": [
    "# Load pre-trained model and tokenizer\n",
    "gpt2_pretrained_model = GPT2LMHeadModel.from_pretrained(model_id)\n",
    "tokenizer_pretrained_gpt = GPT2TokenizerFast.from_pretrained(model_id)\n",
    "tokenizer_pretrained_gpt.pad_token = tokenizer_pretrained_gpt.eos_token"
   ]
  },
  {
   "cell_type": "markdown",
   "metadata": {
    "id": "N6TGvwLXiTAh"
   },
   "source": [
    "<div style=\"padding:15px 15px 15px 15px;border-left:3px solid #03befc;background-color:#eff7fe;border-radius: 15px;\">\n",
    "\n",
    "🎯 Goal: Set hyperparameters to set up the Trainer.\n",
    "      \n",
    "💻 Implementation hint: We will use only the inference part on the trainer.\n",
    "\n",
    "</div>"
   ]
  },
  {
   "cell_type": "code",
   "execution_count": 45,
   "metadata": {
    "colab": {
     "base_uri": "https://localhost:8080/"
    },
    "id": "bHrdXr64iTAh",
    "outputId": "2db3d7c9-f14b-4a7f-9df3-a9c329995bbc"
   },
   "outputs": [
    {
     "name": "stderr",
     "output_type": "stream",
     "text": [
      "PyTorch: setting up devices\n",
      "The default value for the training argument `--report_to` will change in v5 (from all installed integrations to none). In v5, you will need to use `--report_to all` to get the same behavior as now. You should start updating your code and make this info disappear :-).\n",
      "Using the `WANDB_DISABLED` environment variable is deprecated and will be removed in v5. Use the --report_to flag to control the integrations used for logging result (for instance --report_to none).\n"
     ]
    }
   ],
   "source": [
    "# Set hyperparameters to set up the Trainer\n",
    "training_args = TrainingArguments(\n",
    "    output_dir=f\"pretrained_{model_id}-wikitext103\",\n",
    "    evaluation_strategy = \"epoch\",\n",
    "    logging_steps=100,\n",
    "    learning_rate=1e-4,\n",
    "    save_steps=10000,\n",
    "    weight_decay=0.01)"
   ]
  },
  {
   "cell_type": "markdown",
   "metadata": {
    "id": "6-hvHgXTiTAi"
   },
   "source": [
    "<div style=\"padding:15px 15px 15px 15px;border-left:3px solid #03befc;background-color:#eff7fe;border-radius: 15px;\">\n",
    "\n",
    "🎯 Goal: Run **testing** using the `Trainer` class and compute perplexity.\n",
    "      \n",
    "</div>"
   ]
  },
  {
   "cell_type": "code",
   "execution_count": 46,
   "metadata": {
    "id": "_8n7jLG2iTAi"
   },
   "outputs": [],
   "source": [
    "pretrained_trainer = Trainer(model=gpt2_pretrained_model,\n",
    "                             args=training_args,\n",
    "                             train_dataset=transformer_train_dataset,\n",
    "                             eval_dataset=transformer_test_dataset,\n",
    "                             tokenizer=tokenizer_pretrained_gpt,\n",
    "                             )"
   ]
  },
  {
   "cell_type": "code",
   "execution_count": 47,
   "metadata": {
    "colab": {
     "base_uri": "https://localhost:8080/",
     "height": 423
    },
    "id": "Rm_7YZY6iTAi",
    "outputId": "8d5f991e-c63f-44a5-ab21-971ac219ac02"
   },
   "outputs": [
    {
     "name": "stderr",
     "output_type": "stream",
     "text": [
      "***** Running Evaluation *****\n",
      "  Num examples = 30967\n",
      "  Batch size = 8\n",
      "You're using a GPT2TokenizerFast tokenizer. Please note that with a fast tokenizer, using the `__call__` method is faster than using a method to encode the text followed by a call to the `pad` method to get a padded encoding.\n"
     ]
    },
    {
     "data": {
      "text/html": [
       "\n",
       "    <div>\n",
       "      \n",
       "      <progress value='3871' max='3871' style='width:300px; height:20px; vertical-align: middle;'></progress>\n",
       "      [3871/3871 05:00]\n",
       "    </div>\n",
       "    "
      ],
      "text/plain": [
       "<IPython.core.display.HTML object>"
      ]
     },
     "metadata": {},
     "output_type": "display_data"
    },
    {
     "name": "stdout",
     "output_type": "stream",
     "text": [
      "The perplexity of pretrained distilgpt2 on the test dataset is 1601.897\n"
     ]
    }
   ],
   "source": [
    "# Run testing using the Trainer class and compute perplexity\n",
    "eval_result = pretrained_trainer.evaluate()\n",
    "perplexity_pretrained_model = math.exp(eval_result[\"eval_loss\"])\n",
    "print(f\"The perplexity of pretrained {model_id} on the test dataset is {perplexity_pretrained_model:.3f}\")"
   ]
  },
  {
   "cell_type": "markdown",
   "metadata": {
    "id": "6FxdACC5iTAi"
   },
   "source": [
    "<div style=\"padding:15px 15px 15px 15px;border-left:3px solid #8e7cc3;background-color:#e4e1eb;border-radius: 15px;\">\n",
    "    \n",
    "🎉  Excellent work! By this point, you will have implemented all language model variants.\n",
    "\n",
    "#### Part 2 - Checklist\n",
    "Here are the core building blocks you created and that you will need for Part 3:\n",
    "   \n",
    "- [X] LSTM-variants checkpoints.\n",
    "- [X] LSTM-variants ppl scores.\n",
    "- [X] Transformer-variants ppl scores.\n",
    "\n",
    "_Note: Don't forget to include the tensorboard log to every model you trained, as discussed in the `README.md` of `tensorboard/` dir._\n",
    "</div>"
   ]
  },
  {
   "cell_type": "markdown",
   "metadata": {
    "id": "dBdlJJKhiTAi",
    "tags": []
   },
   "source": [
    "---\n",
    "\n",
    "<a name=\"3\"></a>\n",
    "# PART 3: Fine-tune on the Text Paraphrasing task 🚀\n",
    "\n",
    "In this part, we will fine-tune and test the language models into the downstream task of text Paraphrasing. \n",
    "\n",
    "For this task, we will use the [MRPC dataset](https://paperswithcode.com/dataset/mrpc). Microsoft Research Paraphrase Corpus (MRPC) is a corpus consisting of 5,801 sentence pairs collected from newswire articles. Each pair is labeled if it is a paraphrase or not by human annotators. \n",
    "\n",
    " ![mrpc.png](docs/mrpc.png)\n",
    " \n",
    "## Models\n",
    "For this dataset, we will select only the ones that correspond to text paraphrasing (label 1). With those, we will test the model's ability to take as input a sentence and produce as output the paraphrased one. \n",
    "\n",
    "### Encoder-Decoder architectures: \n",
    "To create a sequence2sequence model, we will create an Encoder-decoder model with an attention mechanism similar to the week 3 exercises.\n",
    "\n",
    "More specifically you need to implement the following:\n",
    "- Preprocess the dataset to match with the format of the model's input.\n",
    "- Build a Encoder-Decoder model that will be trained from stratch on the text paraphrasing task.\n",
    "- Train and test your architectures and compute the train/validation loss score. \n",
    "\n",
    "### Transformer-based architectures:\n",
    "\n",
    "You will also run experiments with the pre-trained Transformer-based model as we did in Part 2. \n",
    "You will be using again DistilGPT2. More specifically you need to implement the following:\n",
    "\n",
    "- Preprocess the dataset to match with the format of the model's input.\n",
    "- Run training (fine-tuning) of the model on train dataset.\n",
    "- Run inference on the test set and compute evaluation scores (see section below).\n",
    "\n",
    "\n",
    "#### Evaluation for the Transformer model\n",
    "\n",
    "You will evaluate your model using ROUGE scores. \n",
    " \n",
    "**ROUGE score** stands for Recall-Oriented Understudy for Gisting Evaluation. In its simplest form ROUGE score is the quotient of the matching words under the total count of words in reference sentence. Regarding the denominator ROUGE is a recall oriented metric. \n",
    "\n",
    "![rouge.png](docs/rouge.png)\n",
    "\n",
    "**ROUGE-L score** is based on the length of the longest common subsequence (LCS). To counter the disadvantages of a pure recall metric as in ROUGE-N, Rouge-L calculates the weighted harmonic mean (or f-measure) combining the precision score and the recall score.\n",
    "\n",
    "![rouge_l.png](docs/rouge_l.png)\n",
    "\n",
    "ℹ️ Source: [Original article](https://clementbm.github.io/theory/2021/12/23/rouge-bleu-scores.html#bleu)\n"
   ]
  },
  {
   "cell_type": "markdown",
   "metadata": {
    "id": "qanO0ZkaiTAj"
   },
   "source": [
    "### Load MPRC dataset and extract the paraphrased ones"
   ]
  },
  {
   "cell_type": "code",
   "execution_count": 11,
   "metadata": {
    "id": "j0jmgYZoiTAj",
    "outputId": "3bb5d465-faa9-4d80-b0b8-2fe3b20b69ab"
   },
   "outputs": [
    {
     "name": "stderr",
     "output_type": "stream",
     "text": [
      "[nltk_data] Downloading package punkt to\n",
      "[nltk_data]     C:\\Users\\felic\\AppData\\Roaming\\nltk_data...\n",
      "[nltk_data]   Package punkt is already up-to-date!\n"
     ]
    },
    {
     "data": {
      "text/plain": [
       "True"
      ]
     },
     "execution_count": 11,
     "metadata": {},
     "output_type": "execute_result"
    }
   ],
   "source": [
    "from datasets import load_dataset\n",
    "import nltk\n",
    "nltk.download('punkt')"
   ]
  },
  {
   "cell_type": "code",
   "execution_count": 12,
   "metadata": {
    "colab": {
     "referenced_widgets": [
      "471b66de7240415e8afcc6d52b219432"
     ]
    },
    "id": "CSMYsGCfiTAk",
    "outputId": "b5983c6e-7213-4eba-c2ba-6e154c448757"
   },
   "outputs": [
    {
     "name": "stderr",
     "output_type": "stream",
     "text": [
      "Found cached dataset glue (C:/Users/felic/.cache/huggingface/datasets/glue/mrpc/1.0.0/dacbe3125aa31d7f70367a07a8a9e72a5a0bfeb5fc42e75c9db75b96da6053ad)\n",
      "100%|███████████████████████████████████████████████████████████████████████████████████| 3/3 [00:00<00:00, 249.38it/s]\n"
     ]
    }
   ],
   "source": [
    "# load dataset\n",
    "mrpc_dataset = load_dataset(\"glue\", \"mrpc\")\n",
    "MAX_SEQ_LENGTH = 64"
   ]
  },
  {
   "cell_type": "markdown",
   "metadata": {
    "id": "b1M57YPoiTAk"
   },
   "source": [
    "<div style=\"padding:15px 15px 15px 15px;border-left:3px solid #03befc;background-color:#eff7fe;border-radius: 15px;\">\n",
    "\n",
    "🎯 Goal: Keep only the **paraphrased pair** of sentences.\n",
    "\n",
    "</div>"
   ]
  },
  {
   "cell_type": "code",
   "execution_count": 13,
   "metadata": {
    "id": "JVjicww_iTAk"
   },
   "outputs": [
    {
     "name": "stderr",
     "output_type": "stream",
     "text": [
      "Loading cached processed dataset at C:\\Users\\felic\\.cache\\huggingface\\datasets\\glue\\mrpc\\1.0.0\\dacbe3125aa31d7f70367a07a8a9e72a5a0bfeb5fc42e75c9db75b96da6053ad\\cache-e74b8a1692303c9b.arrow\n",
      "Loading cached processed dataset at C:\\Users\\felic\\.cache\\huggingface\\datasets\\glue\\mrpc\\1.0.0\\dacbe3125aa31d7f70367a07a8a9e72a5a0bfeb5fc42e75c9db75b96da6053ad\\cache-d45b62fa261fe399.arrow\n",
      "Loading cached processed dataset at C:\\Users\\felic\\.cache\\huggingface\\datasets\\glue\\mrpc\\1.0.0\\dacbe3125aa31d7f70367a07a8a9e72a5a0bfeb5fc42e75c9db75b96da6053ad\\cache-b682e8ce0110d951.arrow\n"
     ]
    }
   ],
   "source": [
    "# Keep only the paraphrased pair of sentences\n",
    "for dataset in ['train', 'test', 'validation']:\n",
    "    mrpc_dataset[dataset] = mrpc_dataset[dataset].filter(lambda x: x[\"label\"]==1)"
   ]
  },
  {
   "cell_type": "markdown",
   "metadata": {
    "id": "eFpqFEzMiTAk",
    "tags": []
   },
   "source": [
    "<a name=\"31\"></a>\n",
    "## 3.1 Train Encoder-Decoder models on Text Paraphrasing"
   ]
  },
  {
   "cell_type": "markdown",
   "metadata": {
    "id": "UVaWIpbWiTAk"
   },
   "source": [
    "In this part, you will preprocess the dataset to make it suitable for the Encoder-Decoder model by adding `<start>` and `<stop>` tokens on each sentences and then padding to the maximum sequence length. From now on, we will refer to sentence 1 as context and sentence 2 as reference. Finally, you will compute the train/validation loss score."
   ]
  },
  {
   "cell_type": "markdown",
   "metadata": {
    "id": "EMwsM3auiTAk"
   },
   "source": [
    "### Data Preprocessing for encoder-decoder"
   ]
  },
  {
   "cell_type": "markdown",
   "metadata": {
    "id": "hx7Wnw_TiTAk"
   },
   "source": [
    "<div style=\"padding:15px 15px 15px 15px;border-left:3px solid #03befc;background-color:#eff7fe;border-radius: 15px;\">\n",
    "\n",
    "🎯 Goal: Add  `<start>` and `<stop>` tokens and pad the input to `MAX_SEQ_LENGTH` length.\n",
    "\n",
    "</div>"
   ]
  },
  {
   "cell_type": "code",
   "execution_count": 14,
   "metadata": {},
   "outputs": [
    {
     "data": {
      "text/plain": [
       "{'sentence1': \"He said the foodservice pie business doesn 't fit the company 's long-term growth strategy .\",\n",
       " 'sentence2': '\" The foodservice pie business does not fit our long-term growth strategy .',\n",
       " 'label': 1,\n",
       " 'idx': 9}"
      ]
     },
     "execution_count": 14,
     "metadata": {},
     "output_type": "execute_result"
    }
   ],
   "source": [
    "# Have a look to the data\n",
    "mrpc_dataset['validation'][0]"
   ]
  },
  {
   "cell_type": "code",
   "execution_count": 15,
   "metadata": {
    "id": "lv1G-Pf7iTAl"
   },
   "outputs": [
    {
     "name": "stderr",
     "output_type": "stream",
     "text": [
      "Loading cached processed dataset at C:\\Users\\felic\\.cache\\huggingface\\datasets\\glue\\mrpc\\1.0.0\\dacbe3125aa31d7f70367a07a8a9e72a5a0bfeb5fc42e75c9db75b96da6053ad\\cache-0083806f462fa841.arrow\n",
      "Loading cached processed dataset at C:\\Users\\felic\\.cache\\huggingface\\datasets\\glue\\mrpc\\1.0.0\\dacbe3125aa31d7f70367a07a8a9e72a5a0bfeb5fc42e75c9db75b96da6053ad\\cache-c5bbd18aa1f4ba3c.arrow\n",
      "Loading cached processed dataset at C:\\Users\\felic\\.cache\\huggingface\\datasets\\glue\\mrpc\\1.0.0\\dacbe3125aa31d7f70367a07a8a9e72a5a0bfeb5fc42e75c9db75b96da6053ad\\cache-b2920e3478f7cf79.arrow\n",
      "Loading cached processed dataset at C:\\Users\\felic\\.cache\\huggingface\\datasets\\glue\\mrpc\\1.0.0\\dacbe3125aa31d7f70367a07a8a9e72a5a0bfeb5fc42e75c9db75b96da6053ad\\cache-e8d3e20b1fd5e122.arrow\n",
      "Loading cached processed dataset at C:\\Users\\felic\\.cache\\huggingface\\datasets\\glue\\mrpc\\1.0.0\\dacbe3125aa31d7f70367a07a8a9e72a5a0bfeb5fc42e75c9db75b96da6053ad\\cache-7c3a6c03eb39bb45.arrow\n",
      "Loading cached processed dataset at C:\\Users\\felic\\.cache\\huggingface\\datasets\\glue\\mrpc\\1.0.0\\dacbe3125aa31d7f70367a07a8a9e72a5a0bfeb5fc42e75c9db75b96da6053ad\\cache-87ca9fdde82d5fe7.arrow\n"
     ]
    }
   ],
   "source": [
    "rnn_word_to_idx = rnn_dataset.word_to_index\n",
    "\n",
    "def mrpc_tok_start_stop(x):\n",
    "    x.update({'tokens1': [rnn_word_to_idx[\"<start>\"]]+[rnn_word_to_idx.get(word, rnn_word_to_idx[\"<unk>\"]) for word in x['sentence1'].split()]+[rnn_word_to_idx[\"<stop>\"]],\n",
    "              'tokens2': [rnn_word_to_idx[\"<start>\"]]+[rnn_word_to_idx.get(word, rnn_word_to_idx[\"<unk>\"]) for word in x['sentence2'].split()]+[rnn_word_to_idx[\"<stop>\"]]})\n",
    "    return x\n",
    "\n",
    "def mrpc_pad(x):\n",
    "    x['tokens1'].extend([rnn_word_to_idx[\"<pad>\"]] * (MAX_SEQ_LENGTH-len(x['tokens1'])))\n",
    "    x['tokens2'].extend([rnn_word_to_idx[\"<pad>\"]] * (MAX_SEQ_LENGTH-len(x['tokens2'])))\n",
    "    return x\n",
    "\n",
    "for dataset in ['train', 'test', 'validation']:\n",
    "    # tokenizing the texts in the mrpc\n",
    "    mrpc_dataset[dataset] = mrpc_dataset[dataset].map(mrpc_tok_start_stop)\n",
    "    # pad sequences\n",
    "    mrpc_dataset[dataset] = mrpc_dataset[dataset].map(mrpc_pad)\n",
    "\n",
    "mrpc_dataset = mrpc_dataset.remove_columns([\"sentence1\", \"sentence2\"])\n",
    "mrpc_dataset = mrpc_dataset.with_format(\"torch\")"
   ]
  },
  {
   "cell_type": "code",
   "execution_count": 16,
   "metadata": {
    "id": "5Xj_5kHoiTAl"
   },
   "outputs": [],
   "source": [
    "mrpc_train, mrpc_validation, mrpc_test = mrpc_dataset[\"train\"], mrpc_dataset[\"validation\"], mrpc_dataset[\"test\"]\n",
    "\n",
    "mrpc_train_dataloader = DataLoader(mrpc_train, batch_size=8, shuffle=True)\n",
    "mrpc_validation_dataloader = DataLoader(mrpc_validation, batch_size=8, shuffle=False)\n",
    "mrpc_test_dataloader = DataLoader(mrpc_test, batch_size=8, shuffle=False)"
   ]
  },
  {
   "cell_type": "markdown",
   "metadata": {
    "id": "3xQLggBjiTAl"
   },
   "source": [
    "### Run model fine-tuning"
   ]
  },
  {
   "cell_type": "code",
   "execution_count": 17,
   "metadata": {
    "id": "EQYokthFiTAl"
   },
   "outputs": [],
   "source": [
    "# Import the end-dec model\n",
    "from src.utils import EncoderDecoder # See in src/utils.py"
   ]
  },
  {
   "cell_type": "markdown",
   "metadata": {
    "id": "kO08RQdCiTAm"
   },
   "source": [
    "<div style=\"padding:15px 15px 15px 15px;border-left:3px solid #03befc;background-color:#eff7fe;border-radius: 15px;\">\n",
    "\n",
    "🎯 Goal:  Implement training and testing pipelines.\n",
    "  \n",
    "💻 Implementation hint: Check the pipelines we created in the exercises sessions.\n",
    "    \n",
    "</div>"
   ]
  },
  {
   "cell_type": "code",
   "execution_count": 18,
   "metadata": {},
   "outputs": [],
   "source": [
    "DEVICE = 'cuda' if torch.cuda.is_available() else 'cpu'"
   ]
  },
  {
   "cell_type": "code",
   "execution_count": 19,
   "metadata": {},
   "outputs": [],
   "source": [
    "def seq2seq_train(model, train_loader, eval_loader, encoder_optimizer, decoder_optimizer, criterion, num_epoch):\n",
    "    \n",
    "    model = model.to(DEVICE)\n",
    "    \n",
    "    best_eval_loss = 2 # used to do early stopping\n",
    "    test_epoch_loss = 1e10\n",
    "        \n",
    "    # Training loop\n",
    "    for epoch in range(num_epoch):\n",
    "        \n",
    "        print(\"==== epoch {} ====\".format(epoch))\n",
    "        epoch_loss = 0\n",
    "        count_train = 0\n",
    "        \n",
    "        for i, data in (enumerate(train_loader)):\n",
    "            \n",
    "            if (test_epoch_loss > best_eval_loss) or (count_train==0) :\n",
    "                \n",
    "                if data['tokens1'].size(0)==8:\n",
    "\n",
    "                    training_pair = [data['tokens1'].to(device=DEVICE), data['tokens2'].to(device=DEVICE)]\n",
    "                    \n",
    "                    # Clear the gradient buffers of optimizers\n",
    "                    encoder_optimizer.zero_grad()\n",
    "                    decoder_optimizer.zero_grad()           \n",
    "                    \n",
    "                    # Forward pass and calculate loss\n",
    "                    loss = model(training_pair)\n",
    "                    \n",
    "                    # Backpropgate loss\n",
    "                    loss.backward()\n",
    "                    \n",
    "                    # Update optimizers\n",
    "                    encoder_optimizer.step()\n",
    "                    decoder_optimizer.step()\n",
    "\n",
    "                    # Update statistics\n",
    "                    epoch_loss += loss.item()\n",
    "                    count_train += 8\n",
    "                    \n",
    "                    # tensorboard\n",
    "                    tb_writer.add_scalar(\"LSTM_seq2seq_attention/train_loss\", loss.item(), i)\n",
    "                \n",
    "                else:\n",
    "                    break\n",
    "                \n",
    "                # Compute evalution during training\n",
    "                if i%200==0:\n",
    "                    test_epoch_loss = seq2seq_eval(model, eval_loader, criterion)\n",
    "                    print(\"Test final loss for batch {} = {}\".format(i, test_epoch_loss))\n",
    "                    \n",
    "                    # tensorboard\n",
    "                    tb_writer.add_scalar(\"LSTM_seq2seq_attention/validation_loss\", test_epoch_loss, i)\n",
    "            \n",
    "            else:\n",
    "                break\n",
    "\n",
    "        print(\"Train final loss = {}\".format(epoch_loss / count_train))\n",
    "        print(\"Test final loss = {}\".format(test_epoch_loss))        \n",
    "\n",
    "    return epoch_loss / count_train"
   ]
  },
  {
   "cell_type": "code",
   "execution_count": 20,
   "metadata": {},
   "outputs": [],
   "source": [
    "def seq2seq_eval(model, eval_loader, criterion):\n",
    "    # this function should be called in the train loop to monitor the performance in validation set while training.\n",
    "    \n",
    "    epoch_loss = 0\n",
    "    count_test = 0\n",
    "    \n",
    "    for i, data in (enumerate(eval_loader)):\n",
    "        \n",
    "        if data['tokens1'].size(0)==8:\n",
    "            \n",
    "            count_test += 8\n",
    "        \n",
    "            with torch.no_grad():\n",
    "\n",
    "                test_pair = [data['tokens1'].to(device=DEVICE), data['tokens2'].to(device=DEVICE)]\n",
    "                loss = model(test_pair)\n",
    "                epoch_loss += loss.item()\n",
    "                #print(\"Running test loss = {}\".format(loss.item()))\n",
    "        \n",
    "        else:\n",
    "            break\n",
    "\n",
    "    return epoch_loss / count_test"
   ]
  },
  {
   "cell_type": "markdown",
   "metadata": {
    "id": "l3glI_f1iTAn"
   },
   "source": [
    "<div style=\"padding:15px 15px 15px 15px;border-left:3px solid #03befc;background-color:#eff7fe;border-radius: 15px;\">\n",
    "\n",
    "🎯 Goal: Instantiate the **model, optimizer and loss**.\n",
    "      \n",
    "💻 Implementation hint: Choose your training settings according to the task you need to do.\n",
    "\n",
    "</div>"
   ]
  },
  {
   "cell_type": "code",
   "execution_count": 21,
   "metadata": {
    "id": "PM69YsT9iTAn",
    "outputId": "2766579d-2174-46ec-df42-665a461e8d59"
   },
   "outputs": [
    {
     "name": "stdout",
     "output_type": "stream",
     "text": [
      "The model has 25,402,947 trainable parameters\n"
     ]
    }
   ],
   "source": [
    "input_vocab = rnn_dataset.vocab\n",
    "output_vocab = rnn_dataset.vocab\n",
    "embedding_dim = 100\n",
    "hidden_dim = 100\n",
    "max_length = MAX_SEQ_LENGTH\n",
    "\n",
    "# Instantiate the model, optimizer and loss\n",
    "\n",
    "criterion = nn.NLLLoss()\n",
    "\n",
    "seq2seq_with_attention_model = EncoderDecoder(hidden_dim, input_vocab, output_vocab, embedding_dim, max_length, DEVICE, rnn_word_to_idx, criterion)\n",
    "\n",
    "encoder_optimizer = optim.AdamW(seq2seq_with_attention_model.encoder.parameters(), lr=0.0005, weight_decay=1e-6)\n",
    "decoder_optimizer = optim.AdamW(seq2seq_with_attention_model.decoder.parameters(), lr=0.0005, weight_decay=1e-6)\n",
    "\n",
    "num_params = sum(p.numel() for p in seq2seq_with_attention_model.parameters() if p.requires_grad)\n",
    "print(f'The model has {num_params:,} trainable parameters')"
   ]
  },
  {
   "cell_type": "markdown",
   "metadata": {
    "id": "Gh2RofH6iTAn"
   },
   "source": [
    "<div style=\"padding:15px 15px 15px 15px;border-left:3px solid #03befc;background-color:#eff7fe;border-radius: 15px;\">\n",
    "\n",
    "🎯 Goal: Run **training and testing pipelines**.\n",
    "      \n",
    "</div>"
   ]
  },
  {
   "cell_type": "code",
   "execution_count": 22,
   "metadata": {
    "id": "ONqeXDy3iTAn"
   },
   "outputs": [
    {
     "name": "stdout",
     "output_type": "stream",
     "text": [
      "==== epoch 0 ====\n",
      "Test final loss for batch 0 = 90.62998508906864\n",
      "Test final loss for batch 200 = 19.69177842306924\n",
      "Train final loss = 28.503555353405407\n",
      "Test final loss = 19.69177842306924\n",
      "==== epoch 1 ====\n",
      "Test final loss for batch 0 = 19.147178776614314\n",
      "Test final loss for batch 200 = 18.407751050028768\n",
      "Train final loss = 18.246113622844412\n",
      "Test final loss = 18.407751050028768\n"
     ]
    }
   ],
   "source": [
    "num_epoch = 2\n",
    "\n",
    "# Run training and testing pipelines\n",
    "seq2seq_train(seq2seq_with_attention_model, mrpc_train_dataloader, mrpc_test_dataloader, encoder_optimizer, decoder_optimizer, criterion, num_epoch)\n",
    "\n",
    "# Save the model\n",
    "torch.save(seq2seq_with_attention_model.state_dict(), \"models/rnn_seq2seq_with_attention.pt\")"
   ]
  },
  {
   "cell_type": "markdown",
   "metadata": {
    "id": "4W06_v7iiTAo",
    "tags": []
   },
   "source": [
    "<a name=\"32\"></a>\n",
    "## 3.2 Run Transformer on Text Paraphrasing\n",
    "\n",
    "In this part you will need to concatinate the paraphrased pair of sentences into one sequence to serve as input. Then we will use this input to pass it to the DistilGPT2 model for fine-tuning and testing.\n",
    "The input should be the following:\n",
    "```\n",
    "<sentence_1> <eos> <sentence_2> <eos>\n",
    "```\n",
    "where `<eos>` is the tokenizer's end-of-sequence token.\n",
    "\n",
    "From now on, we will refer to sentence 1 as `context` and sentence 2 as `reference`. \n",
    "\n",
    "Here, we use a decoder-only model (DistilGPT2) which gets the **context** as input and generates the **reference** sequence (token-by-token). Given this token-by-token generation, the nature of the model is very similar to a language model; the major difference is that in general causal language models try to predict the next token for the whole input, whereas in this case, the model should generate only the **reference**. (i.e., the **context** should be masked for loss computation).  \n",
    "\n",
    "Finally, you will compute the ROUGE scores as follows:\n",
    "\n",
    "1. You will generate 5 sequences given each context.\n",
    "2. You will compute the ROUGE-L score among these 5 generations and the **context** => `ROUGE(context, generationX)`\n",
    "3. You will select the best generation (among the 5 ones) as the predicted reference.\n",
    "4. You will compute the ROUGE-(1, 2, L) scores between the top generation (from step 3) and the **reference** => `ROUGE(reference, top-generation)`\n",
    "5. You will provide the average ROUGE-(1, 2, L) scores for all the test dataset samples."
   ]
  },
  {
   "cell_type": "markdown",
   "metadata": {
    "id": "Lp3K01PyiTAo"
   },
   "source": [
    "### Data Preprocessing for Transformers"
   ]
  },
  {
   "cell_type": "markdown",
   "metadata": {
    "id": "LEn_yV-LiTAo"
   },
   "source": [
    "<div style=\"padding:15px 15px 15px 15px;border-left:3px solid #03befc;background-color:#eff7fe;border-radius: 15px;\">\n",
    "\n",
    "🎯 Goal: Load pre-trained **model** and **tokenizer**.\n",
    "      \n",
    "</div>"
   ]
  },
  {
   "cell_type": "code",
   "execution_count": 23,
   "metadata": {
    "id": "ltHbaf6riTAo"
   },
   "outputs": [
    {
     "name": "stderr",
     "output_type": "stream",
     "text": [
      "Found cached dataset glue (C:/Users/felic/.cache/huggingface/datasets/glue/mrpc/1.0.0/dacbe3125aa31d7f70367a07a8a9e72a5a0bfeb5fc42e75c9db75b96da6053ad)\n",
      "100%|███████████████████████████████████████████████████████████████████████████████████| 3/3 [00:00<00:00, 149.88it/s]\n"
     ]
    }
   ],
   "source": [
    "from transformers import AutoTokenizer\n",
    "\n",
    "model_id = \"distilgpt2\"\n",
    "mrpc_dataset = load_dataset(\"glue\", \"mrpc\")\n",
    "\n",
    "# Load pre-trained model and tokenizer\n",
    "tokenizer_pretrained_gpt = AutoTokenizer.from_pretrained(model_id)\n",
    "gpt2_pretrained_model = GPT2LMHeadModel.from_pretrained(model_id)"
   ]
  },
  {
   "cell_type": "markdown",
   "metadata": {
    "id": "GMuY-DEciTAo"
   },
   "source": [
    "<div style=\"padding:15px 15px 15px 15px;border-left:3px solid #03befc;background-color:#eff7fe;border-radius: 15px;\">\n",
    "\n",
    "🎯 Goal: Concatenate sentences, pass them to the tokenizer and clip to `MAX_SEQ_LENGTH` length.\n",
    "      \n",
    "</div>"
   ]
  },
  {
   "cell_type": "code",
   "execution_count": 24,
   "metadata": {
    "id": "g2vZsSofiTAp"
   },
   "outputs": [
    {
     "name": "stderr",
     "output_type": "stream",
     "text": [
      "Loading cached processed dataset at C:\\Users\\felic\\.cache\\huggingface\\datasets\\glue\\mrpc\\1.0.0\\dacbe3125aa31d7f70367a07a8a9e72a5a0bfeb5fc42e75c9db75b96da6053ad\\cache-a804c00130890145.arrow\n",
      "Loading cached processed dataset at C:\\Users\\felic\\.cache\\huggingface\\datasets\\glue\\mrpc\\1.0.0\\dacbe3125aa31d7f70367a07a8a9e72a5a0bfeb5fc42e75c9db75b96da6053ad\\cache-7374e49f1075436f.arrow\n",
      "Loading cached processed dataset at C:\\Users\\felic\\.cache\\huggingface\\datasets\\glue\\mrpc\\1.0.0\\dacbe3125aa31d7f70367a07a8a9e72a5a0bfeb5fc42e75c9db75b96da6053ad\\cache-0a7bc31c86c1230b.arrow\n"
     ]
    }
   ],
   "source": [
    "tokenizer_pretrained_gpt.pad_token = tokenizer_pretrained_gpt.eos_token\n",
    "eos_token = tokenizer_pretrained_gpt.eos_token\n",
    "eos_token_id = tokenizer_pretrained_gpt.eos_token_id\n",
    "\n",
    "def tokenize_cut_concat(x):\n",
    "    x.update({\"sentence1_tok\": tokenizer_pretrained_gpt(x[\"sentence1\"], padding='max_length', max_length=int(MAX_SEQ_LENGTH/2), truncation=True)})\n",
    "    x.update({\"sentence2_tok\": tokenizer_pretrained_gpt(x[\"sentence2\"], padding='max_length', max_length=int(MAX_SEQ_LENGTH/2), truncation=True)})\n",
    "    x.update({\"attention_mask\": x[\"sentence1_tok\"][\"attention_mask\"]+[0]+x[\"sentence2_tok\"][\"attention_mask\"]+[0]})\n",
    "    x.update({\"input_ids\": x[\"sentence1_tok\"][\"input_ids\"]+[tokenizer_pretrained_gpt.eos_token_id]+x[\"sentence2_tok\"][\"input_ids\"]+[tokenizer_pretrained_gpt.eos_token_id]})\n",
    "    return x\n",
    "\n",
    "# cut each sentence to MAX_SEQ_LENGTH, concatenate sentences along with <eos> and pass them to the tokenizer\n",
    "for dataset in ['train', 'test', 'validation']:\n",
    "    mrpc_dataset[dataset] = mrpc_dataset[dataset].map(tokenize_cut_concat)"
   ]
  },
  {
   "cell_type": "markdown",
   "metadata": {},
   "source": [
    "<div style=\"padding:15px 15px 15px 15px;border-left:3px solid #03befc;background-color:#eff7fe;border-radius: 15px;\">\n",
    "\n",
    "🎯 Goal: Apply the masking technique described above (mask context sequence).\n",
    "      \n",
    "</div>"
   ]
  },
  {
   "cell_type": "code",
   "execution_count": 25,
   "metadata": {
    "colab": {
     "referenced_widgets": [
      ""
     ]
    },
    "id": "A_PMOpb0iTAp",
    "outputId": "6e635a14-000e-49d5-dfdf-f7adef98e43f"
   },
   "outputs": [
    {
     "name": "stderr",
     "output_type": "stream",
     "text": [
      "                                                                                                                       \r"
     ]
    }
   ],
   "source": [
    "def get_sample_label(x):\n",
    "    # this function masks the context (by assigning -100), and makes the paraphrase the target labels\n",
    "    output_label = (len(x[\"sentence1_tok\"][\"input_ids\"])+1)*[-100] + x[\"sentence2_tok\"][\"input_ids\"] + [tokenizer_pretrained_gpt.eos_token_id]   \n",
    "    return {\"labels\": output_label} \n",
    "\n",
    "for dataset in ['train', 'test', 'validation']:\n",
    "    mrpc_dataset[dataset] = mrpc_dataset[dataset].map(get_sample_label)\n",
    "\n",
    "mrpc_dataset = mrpc_dataset.remove_columns([\"label\", \"idx\"])\n",
    "\n",
    "mrpc_dataset = mrpc_dataset.with_format(\"torch\")\n",
    "mrpc_train_dataset, mrpc_eval_dataset = mrpc_dataset[\"train\"], mrpc_dataset[\"validation\"] "
   ]
  },
  {
   "cell_type": "code",
   "execution_count": 26,
   "metadata": {},
   "outputs": [
    {
     "data": {
      "text/plain": [
       "{'sentence1': 'Amrozi accused his brother , whom he called \" the witness \" , of deliberately distorting his evidence .',\n",
       " 'sentence2': 'Referring to him as only \" the witness \" , Amrozi accused his brother of deliberately distorting his evidence .',\n",
       " 'sentence1_tok': {'attention_mask': tensor([1, 1, 1, 1, 1, 1, 1, 1, 1, 1, 1, 1, 1, 1, 1, 1, 1, 1, 1, 1, 1, 1, 0, 0,\n",
       "          0, 0, 0, 0, 0, 0, 0, 0]),\n",
       "  'input_ids': tensor([ 5840,   305, 17027,  5371,   465,  3956,   837,  4150,   339,  1444,\n",
       "            366,   262,  4973,   366,   837,   286, 14593,  1233, 24707,   465,\n",
       "           2370,   764, 50256, 50256, 50256, 50256, 50256, 50256, 50256, 50256,\n",
       "          50256, 50256])},\n",
       " 'sentence2_tok': {'attention_mask': tensor([1, 1, 1, 1, 1, 1, 1, 1, 1, 1, 1, 1, 1, 1, 1, 1, 1, 1, 1, 1, 1, 1, 1, 1,\n",
       "          0, 0, 0, 0, 0, 0, 0, 0]),\n",
       "  'input_ids': tensor([46238,  1806,   284,   683,   355,   691,   366,   262,  4973,   366,\n",
       "            837,  1703,   305, 17027,  5371,   465,  3956,   286, 14593,  1233,\n",
       "          24707,   465,  2370,   764, 50256, 50256, 50256, 50256, 50256, 50256,\n",
       "          50256, 50256])},\n",
       " 'attention_mask': tensor([1, 1, 1, 1, 1, 1, 1, 1, 1, 1, 1, 1, 1, 1, 1, 1, 1, 1, 1, 1, 1, 1, 0, 0,\n",
       "         0, 0, 0, 0, 0, 0, 0, 0, 0, 1, 1, 1, 1, 1, 1, 1, 1, 1, 1, 1, 1, 1, 1, 1,\n",
       "         1, 1, 1, 1, 1, 1, 1, 1, 1, 0, 0, 0, 0, 0, 0, 0, 0, 0]),\n",
       " 'input_ids': tensor([ 5840,   305, 17027,  5371,   465,  3956,   837,  4150,   339,  1444,\n",
       "           366,   262,  4973,   366,   837,   286, 14593,  1233, 24707,   465,\n",
       "          2370,   764, 50256, 50256, 50256, 50256, 50256, 50256, 50256, 50256,\n",
       "         50256, 50256, 50256, 46238,  1806,   284,   683,   355,   691,   366,\n",
       "           262,  4973,   366,   837,  1703,   305, 17027,  5371,   465,  3956,\n",
       "           286, 14593,  1233, 24707,   465,  2370,   764, 50256, 50256, 50256,\n",
       "         50256, 50256, 50256, 50256, 50256, 50256]),\n",
       " 'labels': tensor([ -100,  -100,  -100,  -100,  -100,  -100,  -100,  -100,  -100,  -100,\n",
       "          -100,  -100,  -100,  -100,  -100,  -100,  -100,  -100,  -100,  -100,\n",
       "          -100,  -100,  -100,  -100,  -100,  -100,  -100,  -100,  -100,  -100,\n",
       "          -100,  -100,  -100, 46238,  1806,   284,   683,   355,   691,   366,\n",
       "           262,  4973,   366,   837,  1703,   305, 17027,  5371,   465,  3956,\n",
       "           286, 14593,  1233, 24707,   465,  2370,   764, 50256, 50256, 50256,\n",
       "         50256, 50256, 50256, 50256, 50256, 50256])}"
      ]
     },
     "execution_count": 26,
     "metadata": {},
     "output_type": "execute_result"
    }
   ],
   "source": [
    "# Checking\n",
    "mrpc_dataset[\"train\"][0]"
   ]
  },
  {
   "cell_type": "markdown",
   "metadata": {
    "id": "3WWoQKHXiTAp"
   },
   "source": [
    "### Run model fine-tuning"
   ]
  },
  {
   "cell_type": "markdown",
   "metadata": {
    "id": "Wn2VyeWHiTAp"
   },
   "source": [
    "<div style=\"padding:15px 15px 15px 15px;border-left:3px solid #03befc;background-color:#eff7fe;border-radius: 15px;\">\n",
    "\n",
    "🎯 Goal: Set hyperparameters according to the objective of the model.\n",
    "      \n",
    "💻 Implementation hint: You can play arround with different values for `learning_rate`.\n",
    "\n",
    "</div>"
   ]
  },
  {
   "cell_type": "code",
   "execution_count": 27,
   "metadata": {
    "id": "A46RPZ1xiTAq"
   },
   "outputs": [],
   "source": [
    "from transformers import TrainingArguments, Trainer, AutoModelForCausalLM\n",
    "\n",
    "# Create the finetuning trainer\n",
    "training_args = TrainingArguments(\n",
    "    output_dir=f\"finetune_{model_id}-MRPC\",\n",
    "    evaluation_strategy = \"epoch\",\n",
    "    logging_steps=100,\n",
    "    learning_rate=1e-4,\n",
    "    num_train_epochs=20,\n",
    "    save_steps=10000,\n",
    "    weight_decay=0.01,\n",
    "    report_to=\"none\")\n",
    "\n",
    "gpt2_pretrained_model.transformer.wte.weight.requires_grad = False\n",
    "gpt2_pretrained_model.lm_head.weight.requires_grad = False"
   ]
  },
  {
   "cell_type": "markdown",
   "metadata": {
    "id": "2xlS2JYqiTAq"
   },
   "source": [
    "<div style=\"padding:15px 15px 15px 15px;border-left:3px solid #03befc;background-color:#eff7fe;border-radius: 15px;\">\n",
    "\n",
    "🎯 Goal: Run **training** using the `Trainer` class.\n",
    "      \n",
    "</div>"
   ]
  },
  {
   "cell_type": "code",
   "execution_count": 28,
   "metadata": {
    "id": "Obg-hCQtiTAq",
    "outputId": "abbef39d-fbd4-4df8-8194-14dac6a00a66"
   },
   "outputs": [
    {
     "name": "stderr",
     "output_type": "stream",
     "text": [
      "The following columns in the training set don't have a corresponding argument in `GPT2LMHeadModel.forward` and have been ignored: sentence1, sentence2_tok, sentence2, sentence1_tok. If sentence1, sentence2_tok, sentence2, sentence1_tok are not expected by `GPT2LMHeadModel.forward`,  you can safely ignore this message.\n",
      "C:\\Users\\felic\\anaconda3\\envs\\nlp\\lib\\site-packages\\transformers\\optimization.py:306: FutureWarning: This implementation of AdamW is deprecated and will be removed in a future version. Use the PyTorch implementation torch.optim.AdamW instead, or set `no_deprecation_warning=True` to disable this warning\n",
      "  warnings.warn(\n",
      "***** Running training *****\n",
      "  Num examples = 3668\n",
      "  Num Epochs = 20\n",
      "  Instantaneous batch size per device = 8\n",
      "  Total train batch size (w. parallel, distributed & accumulation) = 8\n",
      "  Gradient Accumulation steps = 1\n",
      "  Total optimization steps = 9180\n",
      "  Number of trainable parameters = 43315200\n",
      "You're using a GPT2TokenizerFast tokenizer. Please note that with a fast tokenizer, using the `__call__` method is faster than using a method to encode the text followed by a call to the `pad` method to get a padded encoding.\n"
     ]
    },
    {
     "data": {
      "text/html": [
       "\n",
       "    <div>\n",
       "      \n",
       "      <progress value='9180' max='9180' style='width:300px; height:20px; vertical-align: middle;'></progress>\n",
       "      [9180/9180 24:30, Epoch 20/20]\n",
       "    </div>\n",
       "    <table border=\"1\" class=\"dataframe\">\n",
       "  <thead>\n",
       " <tr style=\"text-align: left;\">\n",
       "      <th>Epoch</th>\n",
       "      <th>Training Loss</th>\n",
       "      <th>Validation Loss</th>\n",
       "    </tr>\n",
       "  </thead>\n",
       "  <tbody>\n",
       "    <tr>\n",
       "      <td>1</td>\n",
       "      <td>1.514100</td>\n",
       "      <td>1.372454</td>\n",
       "    </tr>\n",
       "    <tr>\n",
       "      <td>2</td>\n",
       "      <td>1.265400</td>\n",
       "      <td>1.353953</td>\n",
       "    </tr>\n",
       "    <tr>\n",
       "      <td>3</td>\n",
       "      <td>1.085100</td>\n",
       "      <td>1.370647</td>\n",
       "    </tr>\n",
       "    <tr>\n",
       "      <td>4</td>\n",
       "      <td>0.914900</td>\n",
       "      <td>1.421092</td>\n",
       "    </tr>\n",
       "    <tr>\n",
       "      <td>5</td>\n",
       "      <td>0.762000</td>\n",
       "      <td>1.506093</td>\n",
       "    </tr>\n",
       "    <tr>\n",
       "      <td>6</td>\n",
       "      <td>0.674600</td>\n",
       "      <td>1.591072</td>\n",
       "    </tr>\n",
       "    <tr>\n",
       "      <td>7</td>\n",
       "      <td>0.565000</td>\n",
       "      <td>1.717159</td>\n",
       "    </tr>\n",
       "    <tr>\n",
       "      <td>8</td>\n",
       "      <td>0.481600</td>\n",
       "      <td>1.772929</td>\n",
       "    </tr>\n",
       "    <tr>\n",
       "      <td>9</td>\n",
       "      <td>0.408400</td>\n",
       "      <td>1.883353</td>\n",
       "    </tr>\n",
       "    <tr>\n",
       "      <td>10</td>\n",
       "      <td>0.354900</td>\n",
       "      <td>1.990843</td>\n",
       "    </tr>\n",
       "    <tr>\n",
       "      <td>11</td>\n",
       "      <td>0.303200</td>\n",
       "      <td>2.029515</td>\n",
       "    </tr>\n",
       "    <tr>\n",
       "      <td>12</td>\n",
       "      <td>0.266700</td>\n",
       "      <td>2.088343</td>\n",
       "    </tr>\n",
       "    <tr>\n",
       "      <td>13</td>\n",
       "      <td>0.228600</td>\n",
       "      <td>2.113799</td>\n",
       "    </tr>\n",
       "    <tr>\n",
       "      <td>14</td>\n",
       "      <td>0.208700</td>\n",
       "      <td>2.150758</td>\n",
       "    </tr>\n",
       "    <tr>\n",
       "      <td>15</td>\n",
       "      <td>0.185000</td>\n",
       "      <td>2.195554</td>\n",
       "    </tr>\n",
       "    <tr>\n",
       "      <td>16</td>\n",
       "      <td>0.157500</td>\n",
       "      <td>2.195760</td>\n",
       "    </tr>\n",
       "    <tr>\n",
       "      <td>17</td>\n",
       "      <td>0.147500</td>\n",
       "      <td>2.206281</td>\n",
       "    </tr>\n",
       "    <tr>\n",
       "      <td>18</td>\n",
       "      <td>0.128700</td>\n",
       "      <td>2.233856</td>\n",
       "    </tr>\n",
       "    <tr>\n",
       "      <td>19</td>\n",
       "      <td>0.116200</td>\n",
       "      <td>2.234846</td>\n",
       "    </tr>\n",
       "    <tr>\n",
       "      <td>20</td>\n",
       "      <td>0.114500</td>\n",
       "      <td>2.242347</td>\n",
       "    </tr>\n",
       "  </tbody>\n",
       "</table><p>"
      ],
      "text/plain": [
       "<IPython.core.display.HTML object>"
      ]
     },
     "metadata": {},
     "output_type": "display_data"
    },
    {
     "name": "stderr",
     "output_type": "stream",
     "text": [
      "The following columns in the evaluation set don't have a corresponding argument in `GPT2LMHeadModel.forward` and have been ignored: sentence1, sentence2_tok, sentence2, sentence1_tok. If sentence1, sentence2_tok, sentence2, sentence1_tok are not expected by `GPT2LMHeadModel.forward`,  you can safely ignore this message.\n",
      "***** Running Evaluation *****\n",
      "  Num examples = 408\n",
      "  Batch size = 8\n",
      "The following columns in the evaluation set don't have a corresponding argument in `GPT2LMHeadModel.forward` and have been ignored: sentence1, sentence2_tok, sentence2, sentence1_tok. If sentence1, sentence2_tok, sentence2, sentence1_tok are not expected by `GPT2LMHeadModel.forward`,  you can safely ignore this message.\n",
      "***** Running Evaluation *****\n",
      "  Num examples = 408\n",
      "  Batch size = 8\n",
      "The following columns in the evaluation set don't have a corresponding argument in `GPT2LMHeadModel.forward` and have been ignored: sentence1, sentence2_tok, sentence2, sentence1_tok. If sentence1, sentence2_tok, sentence2, sentence1_tok are not expected by `GPT2LMHeadModel.forward`,  you can safely ignore this message.\n",
      "***** Running Evaluation *****\n",
      "  Num examples = 408\n",
      "  Batch size = 8\n",
      "The following columns in the evaluation set don't have a corresponding argument in `GPT2LMHeadModel.forward` and have been ignored: sentence1, sentence2_tok, sentence2, sentence1_tok. If sentence1, sentence2_tok, sentence2, sentence1_tok are not expected by `GPT2LMHeadModel.forward`,  you can safely ignore this message.\n",
      "***** Running Evaluation *****\n",
      "  Num examples = 408\n",
      "  Batch size = 8\n",
      "The following columns in the evaluation set don't have a corresponding argument in `GPT2LMHeadModel.forward` and have been ignored: sentence1, sentence2_tok, sentence2, sentence1_tok. If sentence1, sentence2_tok, sentence2, sentence1_tok are not expected by `GPT2LMHeadModel.forward`,  you can safely ignore this message.\n",
      "***** Running Evaluation *****\n",
      "  Num examples = 408\n",
      "  Batch size = 8\n",
      "The following columns in the evaluation set don't have a corresponding argument in `GPT2LMHeadModel.forward` and have been ignored: sentence1, sentence2_tok, sentence2, sentence1_tok. If sentence1, sentence2_tok, sentence2, sentence1_tok are not expected by `GPT2LMHeadModel.forward`,  you can safely ignore this message.\n",
      "***** Running Evaluation *****\n",
      "  Num examples = 408\n",
      "  Batch size = 8\n",
      "The following columns in the evaluation set don't have a corresponding argument in `GPT2LMHeadModel.forward` and have been ignored: sentence1, sentence2_tok, sentence2, sentence1_tok. If sentence1, sentence2_tok, sentence2, sentence1_tok are not expected by `GPT2LMHeadModel.forward`,  you can safely ignore this message.\n",
      "***** Running Evaluation *****\n",
      "  Num examples = 408\n",
      "  Batch size = 8\n",
      "The following columns in the evaluation set don't have a corresponding argument in `GPT2LMHeadModel.forward` and have been ignored: sentence1, sentence2_tok, sentence2, sentence1_tok. If sentence1, sentence2_tok, sentence2, sentence1_tok are not expected by `GPT2LMHeadModel.forward`,  you can safely ignore this message.\n",
      "***** Running Evaluation *****\n",
      "  Num examples = 408\n",
      "  Batch size = 8\n",
      "The following columns in the evaluation set don't have a corresponding argument in `GPT2LMHeadModel.forward` and have been ignored: sentence1, sentence2_tok, sentence2, sentence1_tok. If sentence1, sentence2_tok, sentence2, sentence1_tok are not expected by `GPT2LMHeadModel.forward`,  you can safely ignore this message.\n",
      "***** Running Evaluation *****\n",
      "  Num examples = 408\n",
      "  Batch size = 8\n",
      "The following columns in the evaluation set don't have a corresponding argument in `GPT2LMHeadModel.forward` and have been ignored: sentence1, sentence2_tok, sentence2, sentence1_tok. If sentence1, sentence2_tok, sentence2, sentence1_tok are not expected by `GPT2LMHeadModel.forward`,  you can safely ignore this message.\n",
      "***** Running Evaluation *****\n",
      "  Num examples = 408\n",
      "  Batch size = 8\n",
      "The following columns in the evaluation set don't have a corresponding argument in `GPT2LMHeadModel.forward` and have been ignored: sentence1, sentence2_tok, sentence2, sentence1_tok. If sentence1, sentence2_tok, sentence2, sentence1_tok are not expected by `GPT2LMHeadModel.forward`,  you can safely ignore this message.\n",
      "***** Running Evaluation *****\n",
      "  Num examples = 408\n",
      "  Batch size = 8\n",
      "The following columns in the evaluation set don't have a corresponding argument in `GPT2LMHeadModel.forward` and have been ignored: sentence1, sentence2_tok, sentence2, sentence1_tok. If sentence1, sentence2_tok, sentence2, sentence1_tok are not expected by `GPT2LMHeadModel.forward`,  you can safely ignore this message.\n",
      "***** Running Evaluation *****\n",
      "  Num examples = 408\n",
      "  Batch size = 8\n",
      "The following columns in the evaluation set don't have a corresponding argument in `GPT2LMHeadModel.forward` and have been ignored: sentence1, sentence2_tok, sentence2, sentence1_tok. If sentence1, sentence2_tok, sentence2, sentence1_tok are not expected by `GPT2LMHeadModel.forward`,  you can safely ignore this message.\n",
      "***** Running Evaluation *****\n",
      "  Num examples = 408\n",
      "  Batch size = 8\n",
      "The following columns in the evaluation set don't have a corresponding argument in `GPT2LMHeadModel.forward` and have been ignored: sentence1, sentence2_tok, sentence2, sentence1_tok. If sentence1, sentence2_tok, sentence2, sentence1_tok are not expected by `GPT2LMHeadModel.forward`,  you can safely ignore this message.\n",
      "***** Running Evaluation *****\n",
      "  Num examples = 408\n",
      "  Batch size = 8\n",
      "The following columns in the evaluation set don't have a corresponding argument in `GPT2LMHeadModel.forward` and have been ignored: sentence1, sentence2_tok, sentence2, sentence1_tok. If sentence1, sentence2_tok, sentence2, sentence1_tok are not expected by `GPT2LMHeadModel.forward`,  you can safely ignore this message.\n",
      "***** Running Evaluation *****\n",
      "  Num examples = 408\n",
      "  Batch size = 8\n",
      "The following columns in the evaluation set don't have a corresponding argument in `GPT2LMHeadModel.forward` and have been ignored: sentence1, sentence2_tok, sentence2, sentence1_tok. If sentence1, sentence2_tok, sentence2, sentence1_tok are not expected by `GPT2LMHeadModel.forward`,  you can safely ignore this message.\n",
      "***** Running Evaluation *****\n",
      "  Num examples = 408\n",
      "  Batch size = 8\n",
      "The following columns in the evaluation set don't have a corresponding argument in `GPT2LMHeadModel.forward` and have been ignored: sentence1, sentence2_tok, sentence2, sentence1_tok. If sentence1, sentence2_tok, sentence2, sentence1_tok are not expected by `GPT2LMHeadModel.forward`,  you can safely ignore this message.\n",
      "***** Running Evaluation *****\n",
      "  Num examples = 408\n",
      "  Batch size = 8\n",
      "The following columns in the evaluation set don't have a corresponding argument in `GPT2LMHeadModel.forward` and have been ignored: sentence1, sentence2_tok, sentence2, sentence1_tok. If sentence1, sentence2_tok, sentence2, sentence1_tok are not expected by `GPT2LMHeadModel.forward`,  you can safely ignore this message.\n",
      "***** Running Evaluation *****\n",
      "  Num examples = 408\n",
      "  Batch size = 8\n",
      "The following columns in the evaluation set don't have a corresponding argument in `GPT2LMHeadModel.forward` and have been ignored: sentence1, sentence2_tok, sentence2, sentence1_tok. If sentence1, sentence2_tok, sentence2, sentence1_tok are not expected by `GPT2LMHeadModel.forward`,  you can safely ignore this message.\n",
      "***** Running Evaluation *****\n",
      "  Num examples = 408\n",
      "  Batch size = 8\n",
      "The following columns in the evaluation set don't have a corresponding argument in `GPT2LMHeadModel.forward` and have been ignored: sentence1, sentence2_tok, sentence2, sentence1_tok. If sentence1, sentence2_tok, sentence2, sentence1_tok are not expected by `GPT2LMHeadModel.forward`,  you can safely ignore this message.\n",
      "***** Running Evaluation *****\n",
      "  Num examples = 408\n",
      "  Batch size = 8\n",
      "\n",
      "\n",
      "Training completed. Do not forget to share your model on huggingface.co/models =)\n",
      "\n",
      "\n"
     ]
    }
   ],
   "source": [
    "# Run training using the Trainer class\n",
    "\n",
    "paraphrasing_trainer = Trainer(model=gpt2_pretrained_model,\n",
    "                               args=training_args,\n",
    "                               train_dataset=mrpc_train_dataset,\n",
    "                               eval_dataset=mrpc_eval_dataset,\n",
    "                               tokenizer=tokenizer_pretrained_gpt,\n",
    "                               )\n",
    "\n",
    "paraphrasing_trainer.train()\n",
    "torch.save(paraphrasing_trainer.model.state_dict(), 'models/finetune-distilgpt2-mrpc.pt')"
   ]
  },
  {
   "cell_type": "markdown",
   "metadata": {
    "id": "M0honxSuiTAq"
   },
   "source": [
    "### Evaluate model with ROUGE scores"
   ]
  },
  {
   "cell_type": "markdown",
   "metadata": {
    "id": "y-9rIf4tiTAq"
   },
   "source": [
    "<div style=\"padding:15px 15px 15px 15px;border-left:3px solid #03befc;background-color:#eff7fe;border-radius: 15px;\">\n",
    "\n",
    "🎯 Goal: For each sample in evaluation set, generate 5 outputs and perform the ROUGE evaluation as presented in the question description above.\n",
    "\n",
    "💻 Implementation hint: Use the following API call to get top-k generations\n",
    "    \n",
    "    generated_sequences = paraphrasing_trainer.model.generate(\n",
    "        context_ids,\n",
    "        do_sample=True, \n",
    "        max_length=MAX_SEQ_LENGTH, \n",
    "        top_k=20, \n",
    "        top_p=0.95, \n",
    "        no_repeat_ngram_size=2, \n",
    "        num_return_sequences=5\n",
    "    )\n",
    "\n",
    "_Note 1: For simplicity, you can ignore the contexts that have more than 1 sentence._\n",
    "\n",
    "_Note 2: On the generated reference, if there is more that 1 sentence generated, keep only the first one._\n",
    "\n",
    "_Note 3: To split into sentences, you can use [`nltk.sent_tokenize()`](https://www.nltk.org/api/nltk.tokenize.html)._\n",
    "\n",
    "_Note 4: Use the [`evaluate.load('rouge')`](https://huggingface.co/spaces/evaluate-metric/rouge) function to compute the ROUGE metrics._\n",
    "\n",
    " \n",
    "</div>"
   ]
  },
  {
   "cell_type": "code",
   "execution_count": 29,
   "metadata": {},
   "outputs": [
    {
     "name": "stdout",
     "output_type": "stream",
     "text": [
      "Size of the mrpc_eval_dataset BEFORE is 408\n"
     ]
    },
    {
     "name": "stderr",
     "output_type": "stream",
     "text": [
      "                                                                                                                       "
     ]
    },
    {
     "name": "stdout",
     "output_type": "stream",
     "text": [
      "Size of the mrpc_eval_dataset AFTER is 399\n"
     ]
    },
    {
     "name": "stderr",
     "output_type": "stream",
     "text": [
      "\r"
     ]
    }
   ],
   "source": [
    "# Remove samples where the context contains more than one sentence in mrpc_eval_dataset\n",
    "\n",
    "print(f\"Size of the mrpc_eval_dataset BEFORE is {len(mrpc_eval_dataset)}\")\n",
    "mrpc_eval_dataset = mrpc_eval_dataset.filter(lambda x: len(sent_tokenize(x[\"sentence1\"]))<2)\n",
    "print(f\"Size of the mrpc_eval_dataset AFTER is {len(mrpc_eval_dataset)}\")"
   ]
  },
  {
   "cell_type": "code",
   "execution_count": null,
   "metadata": {},
   "outputs": [],
   "source": [
    "DEVICE = 'cuda' if torch.cuda.is_available() else 'cpu'\n",
    "rouge = evaluate.load('rouge')\n",
    "\n",
    "rouge_values = []\n",
    "\n",
    "for sample in tqdm(mrpc_eval_dataset):\n",
    "    \n",
    "    # Generate five sequences\n",
    "    generated_sequences = paraphrasing_trainer.model.generate(sample['sentence1_tok']['input_ids'].view(1,-1).to(DEVICE),\n",
    "                                                              attention_mask = sample['sentence1_tok']['attention_mask'].view(1,-1).to(DEVICE),\n",
    "                                                              do_sample=True, \n",
    "                                                              max_length=MAX_SEQ_LENGTH, \n",
    "                                                              top_k=20, \n",
    "                                                              top_p=0.95, \n",
    "                                                              no_repeat_ngram_size=2, \n",
    "                                                              num_return_sequences=5\n",
    "                                                             )\n",
    "    \n",
    "    rougeL_values = []\n",
    "    generations = []\n",
    "    for i in range(len(generated_sequences)):\n",
    "        \n",
    "        # Split into context and generationX\n",
    "        context = generated_sequences[i][:int(MAX_SEQ_LENGTH/2)]\n",
    "        generationX = generated_sequences[i][int(MAX_SEQ_LENGTH/2):]\n",
    "        \n",
    "        # Remove eos_token_id\n",
    "        context = context[context!=eos_token_id]\n",
    "        generationX = generationX[generationX!=eos_token_id]\n",
    "        \n",
    "        # Decode the sentences\n",
    "        context = tokenizer_pretrained_gpt.decode(context)\n",
    "        generationX = tokenizer_pretrained_gpt.decode(generationX)\n",
    "        \n",
    "        # Keep only the first sentence for generationX\n",
    "        if len(sent_tokenize(generationX))>1:\n",
    "            generationX = sent_tokenize(generationX)[0]\n",
    "        \n",
    "        # Keep generationX and its rougeL score between context and generationX\n",
    "        rougeL_values.append(rouge.compute(predictions=[context], references=[generationX])['rougeL'])\n",
    "        generations.append(generationX)\n",
    "    \n",
    "    # Pick the best candidate given ROUGE similarity to context\n",
    "    top_generation = generations[np.argmax(rougeL_values)]\n",
    "    \n",
    "    # Get the reference\n",
    "    reference = sample['sentence2_tok']['input_ids']\n",
    "        # Remove eos_token_id\n",
    "    reference = reference[reference!=eos_token_id]\n",
    "        # Decode the reference\n",
    "    reference = tokenizer_pretrained_gpt.decode(reference)\n",
    "        # Keep only the first sentence\n",
    "    if len(sent_tokenize(reference))>1:\n",
    "        reference = sent_tokenize(reference)[0]\n",
    "            \n",
    "    # Compute the ROUGE value of the best candidate with the reference\n",
    "    rouge_values.append(rouge.compute(predictions=[top_generation], references=[reference]))"
   ]
  },
  {
   "cell_type": "code",
   "execution_count": 31,
   "metadata": {},
   "outputs": [
    {
     "name": "stdout",
     "output_type": "stream",
     "text": [
      "Average ROUGE scores for all the test dataset samples:\n"
     ]
    },
    {
     "data": {
      "text/plain": [
       "rouge1       0.304555\n",
       "rouge2       0.062201\n",
       "rougeL       0.257588\n",
       "rougeLsum    0.257588\n",
       "dtype: float64"
      ]
     },
     "execution_count": 31,
     "metadata": {},
     "output_type": "execute_result"
    }
   ],
   "source": [
    "# Compute average rouge scores\n",
    "print(\"Average ROUGE scores for all the test dataset samples:\")\n",
    "pd.DataFrame.from_dict(rouge_values).mean(axis=0)"
   ]
  },
  {
   "cell_type": "markdown",
   "metadata": {
    "id": "tbWpKRKpiTAr"
   },
   "source": [
    "<div style=\"padding:15px 15px 15px 15px;border-left:3px solid #8e7cc3;background-color:#e4e1eb;border-radius: 15px;\">\n",
    "\n",
    "🎉 Excellent work! You just finished the code implementation parts of the assignment. \n",
    "\n",
    "#### Part 3 - Checklist\n",
    "Here are the elements you will need for the report in Part 4:\n",
    "   \n",
    "- [X] LSTM-variants scores on perplexity and their checkpoints.\n",
    "- [X] DistilGPT2 score on perplexity and its checkpoint.\n",
    "- [X] Encoder-decoder variant train/validation loss score and its checkpoint.\n",
    "- [X] DistilGPT2 ROUGE scores and its fine-tuned checkpoint.\n",
    "\n",
    "_Note: Don't forget to include the tensorboard log to every model you trained._\n",
    "\n",
    "\n",
    "</div>"
   ]
  },
  {
   "cell_type": "markdown",
   "metadata": {
    "id": "drEstqDkUvcp"
   },
   "source": [
    "---\n",
    "\n",
    "<a name=\"4\"></a>\n",
    "# PART 4: Write your report 📘\n",
    "\n",
    "Fill in the tables with the respective scores. "
   ]
  },
  {
   "cell_type": "markdown",
   "metadata": {
    "id": "TaCft7HUw4uh"
   },
   "source": [
    "<div style=\"padding:15px 15px 15px 15px;border-left:3px solid #03befc;background-color:#eff7fe;border-radius: 15px;text-align:center;\">\n",
    "\n",
    "#### Perplexity results on Language Models\n",
    "\n",
    "| Model - Variant | PPL |\n",
    "|:--------- | :-----: |\n",
    "| LSTM Variant A - Embeddings trained from scratch | 2.494 |\n",
    "| LSTM Variant B - Pre-trained embeddings & frozen | 2.497 |\n",
    "| LSTM Variant C - Pre-trained embeddings & trainable | 2.494 |\n",
    "||||\n",
    "| DistilGPT2 - Trained from scratch | 149.519 |\n",
    "| Pre-trained DistilGPT2 | 1601.897 |\n",
    "    \n",
    "#### Performance scores on Text Paraphrasing\n",
    "| Model - Variant | ROUGE-1 | ROUGE-2 | ROUGE-L | ROUGE-Lsum |\n",
    "|:--------- | :-----: | :-----: |  :-----: |  :-----: | \n",
    "| Pre-trained DistilGPT2 | 0.305 | 0.062 | 0.258 | 0.258 |\n",
    "\n",
    "</div>"
   ]
  },
  {
   "cell_type": "markdown",
   "metadata": {},
   "source": [
    "***Remarque:*** It seems to me that the perplexities for LSTMs are unusually low. Moreover, they are very close between the different LSTMs. Despite several checks, I have not been able to find where the error could be."
   ]
  }
 ],
 "metadata": {
  "colab": {
   "provenance": []
  },
  "kernelspec": {
   "display_name": "Python [conda env:nlp] *",
   "language": "python",
   "name": "conda-env-nlp-py"
  },
  "language_info": {
   "codemirror_mode": {
    "name": "ipython",
    "version": 3
   },
   "file_extension": ".py",
   "mimetype": "text/x-python",
   "name": "python",
   "nbconvert_exporter": "python",
   "pygments_lexer": "ipython3",
   "version": "3.8.16"
  },
  "widgets": {
   "application/vnd.jupyter.widget-state+json": {
    "026113b67e5744ef83128004cbb4b5e3": {
     "model_module": "@jupyter-widgets/base",
     "model_module_version": "1.2.0",
     "model_name": "LayoutModel",
     "state": {
      "_model_module": "@jupyter-widgets/base",
      "_model_module_version": "1.2.0",
      "_model_name": "LayoutModel",
      "_view_count": null,
      "_view_module": "@jupyter-widgets/base",
      "_view_module_version": "1.2.0",
      "_view_name": "LayoutView",
      "align_content": null,
      "align_items": null,
      "align_self": null,
      "border": null,
      "bottom": null,
      "display": null,
      "flex": null,
      "flex_flow": null,
      "grid_area": null,
      "grid_auto_columns": null,
      "grid_auto_flow": null,
      "grid_auto_rows": null,
      "grid_column": null,
      "grid_gap": null,
      "grid_row": null,
      "grid_template_areas": null,
      "grid_template_columns": null,
      "grid_template_rows": null,
      "height": null,
      "justify_content": null,
      "justify_items": null,
      "left": null,
      "margin": null,
      "max_height": null,
      "max_width": null,
      "min_height": null,
      "min_width": null,
      "object_fit": null,
      "object_position": null,
      "order": null,
      "overflow": null,
      "overflow_x": null,
      "overflow_y": null,
      "padding": null,
      "right": null,
      "top": null,
      "visibility": "hidden",
      "width": null
     }
    },
    "02b1c1d8257d4fb3ad023524e7e3c592": {
     "model_module": "@jupyter-widgets/controls",
     "model_module_version": "1.5.0",
     "model_name": "HTMLModel",
     "state": {
      "_dom_classes": [],
      "_model_module": "@jupyter-widgets/controls",
      "_model_module_version": "1.5.0",
      "_model_name": "HTMLModel",
      "_view_count": null,
      "_view_module": "@jupyter-widgets/controls",
      "_view_module_version": "1.5.0",
      "_view_name": "HTMLView",
      "description": "",
      "description_tooltip": null,
      "layout": "IPY_MODEL_c571f69dbc4c4fc6beb4a9319a28855f",
      "placeholder": "​",
      "style": "IPY_MODEL_287e5682bc624311a421b5f1a74a511e",
      "value": "Filter:  97%"
     }
    },
    "02f7d8ad7a184e40bb32a29eee94b7ed": {
     "model_module": "@jupyter-widgets/base",
     "model_module_version": "1.2.0",
     "model_name": "LayoutModel",
     "state": {
      "_model_module": "@jupyter-widgets/base",
      "_model_module_version": "1.2.0",
      "_model_name": "LayoutModel",
      "_view_count": null,
      "_view_module": "@jupyter-widgets/base",
      "_view_module_version": "1.2.0",
      "_view_name": "LayoutView",
      "align_content": null,
      "align_items": null,
      "align_self": null,
      "border": null,
      "bottom": null,
      "display": null,
      "flex": null,
      "flex_flow": null,
      "grid_area": null,
      "grid_auto_columns": null,
      "grid_auto_flow": null,
      "grid_auto_rows": null,
      "grid_column": null,
      "grid_gap": null,
      "grid_row": null,
      "grid_template_areas": null,
      "grid_template_columns": null,
      "grid_template_rows": null,
      "height": null,
      "justify_content": null,
      "justify_items": null,
      "left": null,
      "margin": null,
      "max_height": null,
      "max_width": null,
      "min_height": null,
      "min_width": null,
      "object_fit": null,
      "object_position": null,
      "order": null,
      "overflow": null,
      "overflow_x": null,
      "overflow_y": null,
      "padding": null,
      "right": null,
      "top": null,
      "visibility": "hidden",
      "width": null
     }
    },
    "05210d8e72c54cbeaac502bafb63416c": {
     "model_module": "@jupyter-widgets/controls",
     "model_module_version": "1.5.0",
     "model_name": "ProgressStyleModel",
     "state": {
      "_model_module": "@jupyter-widgets/controls",
      "_model_module_version": "1.5.0",
      "_model_name": "ProgressStyleModel",
      "_view_count": null,
      "_view_module": "@jupyter-widgets/base",
      "_view_module_version": "1.2.0",
      "_view_name": "StyleView",
      "bar_color": null,
      "description_width": ""
     }
    },
    "05bc8433a0c748f39f7085ee7fb41a7f": {
     "model_module": "@jupyter-widgets/base",
     "model_module_version": "1.2.0",
     "model_name": "LayoutModel",
     "state": {
      "_model_module": "@jupyter-widgets/base",
      "_model_module_version": "1.2.0",
      "_model_name": "LayoutModel",
      "_view_count": null,
      "_view_module": "@jupyter-widgets/base",
      "_view_module_version": "1.2.0",
      "_view_name": "LayoutView",
      "align_content": null,
      "align_items": null,
      "align_self": null,
      "border": null,
      "bottom": null,
      "display": null,
      "flex": null,
      "flex_flow": null,
      "grid_area": null,
      "grid_auto_columns": null,
      "grid_auto_flow": null,
      "grid_auto_rows": null,
      "grid_column": null,
      "grid_gap": null,
      "grid_row": null,
      "grid_template_areas": null,
      "grid_template_columns": null,
      "grid_template_rows": null,
      "height": null,
      "justify_content": null,
      "justify_items": null,
      "left": null,
      "margin": null,
      "max_height": null,
      "max_width": null,
      "min_height": null,
      "min_width": null,
      "object_fit": null,
      "object_position": null,
      "order": null,
      "overflow": null,
      "overflow_x": null,
      "overflow_y": null,
      "padding": null,
      "right": null,
      "top": null,
      "visibility": "hidden",
      "width": null
     }
    },
    "06e53dc2d68e47d78f5bfa7544d88c31": {
     "model_module": "@jupyter-widgets/base",
     "model_module_version": "1.2.0",
     "model_name": "LayoutModel",
     "state": {
      "_model_module": "@jupyter-widgets/base",
      "_model_module_version": "1.2.0",
      "_model_name": "LayoutModel",
      "_view_count": null,
      "_view_module": "@jupyter-widgets/base",
      "_view_module_version": "1.2.0",
      "_view_name": "LayoutView",
      "align_content": null,
      "align_items": null,
      "align_self": null,
      "border": null,
      "bottom": null,
      "display": null,
      "flex": null,
      "flex_flow": null,
      "grid_area": null,
      "grid_auto_columns": null,
      "grid_auto_flow": null,
      "grid_auto_rows": null,
      "grid_column": null,
      "grid_gap": null,
      "grid_row": null,
      "grid_template_areas": null,
      "grid_template_columns": null,
      "grid_template_rows": null,
      "height": null,
      "justify_content": null,
      "justify_items": null,
      "left": null,
      "margin": null,
      "max_height": null,
      "max_width": null,
      "min_height": null,
      "min_width": null,
      "object_fit": null,
      "object_position": null,
      "order": null,
      "overflow": null,
      "overflow_x": null,
      "overflow_y": null,
      "padding": null,
      "right": null,
      "top": null,
      "visibility": null,
      "width": null
     }
    },
    "070788c038944c3d9d837e7a70f2a40c": {
     "model_module": "@jupyter-widgets/controls",
     "model_module_version": "1.5.0",
     "model_name": "DescriptionStyleModel",
     "state": {
      "_model_module": "@jupyter-widgets/controls",
      "_model_module_version": "1.5.0",
      "_model_name": "DescriptionStyleModel",
      "_view_count": null,
      "_view_module": "@jupyter-widgets/base",
      "_view_module_version": "1.2.0",
      "_view_name": "StyleView",
      "description_width": ""
     }
    },
    "08ac9985ffda4dd1a4308cfc6b1c7eee": {
     "model_module": "@jupyter-widgets/base",
     "model_module_version": "1.2.0",
     "model_name": "LayoutModel",
     "state": {
      "_model_module": "@jupyter-widgets/base",
      "_model_module_version": "1.2.0",
      "_model_name": "LayoutModel",
      "_view_count": null,
      "_view_module": "@jupyter-widgets/base",
      "_view_module_version": "1.2.0",
      "_view_name": "LayoutView",
      "align_content": null,
      "align_items": null,
      "align_self": null,
      "border": null,
      "bottom": null,
      "display": null,
      "flex": null,
      "flex_flow": null,
      "grid_area": null,
      "grid_auto_columns": null,
      "grid_auto_flow": null,
      "grid_auto_rows": null,
      "grid_column": null,
      "grid_gap": null,
      "grid_row": null,
      "grid_template_areas": null,
      "grid_template_columns": null,
      "grid_template_rows": null,
      "height": null,
      "justify_content": null,
      "justify_items": null,
      "left": null,
      "margin": null,
      "max_height": null,
      "max_width": null,
      "min_height": null,
      "min_width": null,
      "object_fit": null,
      "object_position": null,
      "order": null,
      "overflow": null,
      "overflow_x": null,
      "overflow_y": null,
      "padding": null,
      "right": null,
      "top": null,
      "visibility": null,
      "width": null
     }
    },
    "0a7a233ed48a45f7943a99d69ebfa000": {
     "model_module": "@jupyter-widgets/controls",
     "model_module_version": "1.5.0",
     "model_name": "DescriptionStyleModel",
     "state": {
      "_model_module": "@jupyter-widgets/controls",
      "_model_module_version": "1.5.0",
      "_model_name": "DescriptionStyleModel",
      "_view_count": null,
      "_view_module": "@jupyter-widgets/base",
      "_view_module_version": "1.2.0",
      "_view_name": "StyleView",
      "description_width": ""
     }
    },
    "0b324fcfb3c64b1da0831475e29a03e8": {
     "model_module": "@jupyter-widgets/base",
     "model_module_version": "1.2.0",
     "model_name": "LayoutModel",
     "state": {
      "_model_module": "@jupyter-widgets/base",
      "_model_module_version": "1.2.0",
      "_model_name": "LayoutModel",
      "_view_count": null,
      "_view_module": "@jupyter-widgets/base",
      "_view_module_version": "1.2.0",
      "_view_name": "LayoutView",
      "align_content": null,
      "align_items": null,
      "align_self": null,
      "border": null,
      "bottom": null,
      "display": null,
      "flex": null,
      "flex_flow": null,
      "grid_area": null,
      "grid_auto_columns": null,
      "grid_auto_flow": null,
      "grid_auto_rows": null,
      "grid_column": null,
      "grid_gap": null,
      "grid_row": null,
      "grid_template_areas": null,
      "grid_template_columns": null,
      "grid_template_rows": null,
      "height": null,
      "justify_content": null,
      "justify_items": null,
      "left": null,
      "margin": null,
      "max_height": null,
      "max_width": null,
      "min_height": null,
      "min_width": null,
      "object_fit": null,
      "object_position": null,
      "order": null,
      "overflow": null,
      "overflow_x": null,
      "overflow_y": null,
      "padding": null,
      "right": null,
      "top": null,
      "visibility": null,
      "width": null
     }
    },
    "0b9333c10a724b4d898ce386f533d18c": {
     "model_module": "@jupyter-widgets/controls",
     "model_module_version": "1.5.0",
     "model_name": "ProgressStyleModel",
     "state": {
      "_model_module": "@jupyter-widgets/controls",
      "_model_module_version": "1.5.0",
      "_model_name": "ProgressStyleModel",
      "_view_count": null,
      "_view_module": "@jupyter-widgets/base",
      "_view_module_version": "1.2.0",
      "_view_name": "StyleView",
      "bar_color": null,
      "description_width": ""
     }
    },
    "0e0ed8fba81b467e98458bc0526af2e4": {
     "model_module": "@jupyter-widgets/base",
     "model_module_version": "1.2.0",
     "model_name": "LayoutModel",
     "state": {
      "_model_module": "@jupyter-widgets/base",
      "_model_module_version": "1.2.0",
      "_model_name": "LayoutModel",
      "_view_count": null,
      "_view_module": "@jupyter-widgets/base",
      "_view_module_version": "1.2.0",
      "_view_name": "LayoutView",
      "align_content": null,
      "align_items": null,
      "align_self": null,
      "border": null,
      "bottom": null,
      "display": null,
      "flex": null,
      "flex_flow": null,
      "grid_area": null,
      "grid_auto_columns": null,
      "grid_auto_flow": null,
      "grid_auto_rows": null,
      "grid_column": null,
      "grid_gap": null,
      "grid_row": null,
      "grid_template_areas": null,
      "grid_template_columns": null,
      "grid_template_rows": null,
      "height": null,
      "justify_content": null,
      "justify_items": null,
      "left": null,
      "margin": null,
      "max_height": null,
      "max_width": null,
      "min_height": null,
      "min_width": null,
      "object_fit": null,
      "object_position": null,
      "order": null,
      "overflow": null,
      "overflow_x": null,
      "overflow_y": null,
      "padding": null,
      "right": null,
      "top": null,
      "visibility": null,
      "width": null
     }
    },
    "0ee78c98e9f642b2b2e54e7f9f50dcb8": {
     "model_module": "@jupyter-widgets/controls",
     "model_module_version": "1.5.0",
     "model_name": "DescriptionStyleModel",
     "state": {
      "_model_module": "@jupyter-widgets/controls",
      "_model_module_version": "1.5.0",
      "_model_name": "DescriptionStyleModel",
      "_view_count": null,
      "_view_module": "@jupyter-widgets/base",
      "_view_module_version": "1.2.0",
      "_view_name": "StyleView",
      "description_width": ""
     }
    },
    "0f7be45791a043b386e18bd7036f0777": {
     "model_module": "@jupyter-widgets/controls",
     "model_module_version": "1.5.0",
     "model_name": "DescriptionStyleModel",
     "state": {
      "_model_module": "@jupyter-widgets/controls",
      "_model_module_version": "1.5.0",
      "_model_name": "DescriptionStyleModel",
      "_view_count": null,
      "_view_module": "@jupyter-widgets/base",
      "_view_module_version": "1.2.0",
      "_view_name": "StyleView",
      "description_width": ""
     }
    },
    "0ff89b0082944004b20477321f6d77a5": {
     "model_module": "@jupyter-widgets/base",
     "model_module_version": "1.2.0",
     "model_name": "LayoutModel",
     "state": {
      "_model_module": "@jupyter-widgets/base",
      "_model_module_version": "1.2.0",
      "_model_name": "LayoutModel",
      "_view_count": null,
      "_view_module": "@jupyter-widgets/base",
      "_view_module_version": "1.2.0",
      "_view_name": "LayoutView",
      "align_content": null,
      "align_items": null,
      "align_self": null,
      "border": null,
      "bottom": null,
      "display": null,
      "flex": null,
      "flex_flow": null,
      "grid_area": null,
      "grid_auto_columns": null,
      "grid_auto_flow": null,
      "grid_auto_rows": null,
      "grid_column": null,
      "grid_gap": null,
      "grid_row": null,
      "grid_template_areas": null,
      "grid_template_columns": null,
      "grid_template_rows": null,
      "height": null,
      "justify_content": null,
      "justify_items": null,
      "left": null,
      "margin": null,
      "max_height": null,
      "max_width": null,
      "min_height": null,
      "min_width": null,
      "object_fit": null,
      "object_position": null,
      "order": null,
      "overflow": null,
      "overflow_x": null,
      "overflow_y": null,
      "padding": null,
      "right": null,
      "top": null,
      "visibility": null,
      "width": null
     }
    },
    "1266d2fbb288419e9f804417faa6168f": {
     "model_module": "@jupyter-widgets/base",
     "model_module_version": "1.2.0",
     "model_name": "LayoutModel",
     "state": {
      "_model_module": "@jupyter-widgets/base",
      "_model_module_version": "1.2.0",
      "_model_name": "LayoutModel",
      "_view_count": null,
      "_view_module": "@jupyter-widgets/base",
      "_view_module_version": "1.2.0",
      "_view_name": "LayoutView",
      "align_content": null,
      "align_items": null,
      "align_self": null,
      "border": null,
      "bottom": null,
      "display": null,
      "flex": null,
      "flex_flow": null,
      "grid_area": null,
      "grid_auto_columns": null,
      "grid_auto_flow": null,
      "grid_auto_rows": null,
      "grid_column": null,
      "grid_gap": null,
      "grid_row": null,
      "grid_template_areas": null,
      "grid_template_columns": null,
      "grid_template_rows": null,
      "height": null,
      "justify_content": null,
      "justify_items": null,
      "left": null,
      "margin": null,
      "max_height": null,
      "max_width": null,
      "min_height": null,
      "min_width": null,
      "object_fit": null,
      "object_position": null,
      "order": null,
      "overflow": null,
      "overflow_x": null,
      "overflow_y": null,
      "padding": null,
      "right": null,
      "top": null,
      "visibility": "hidden",
      "width": null
     }
    },
    "13144e4540ef42bca7db99a03f75b21a": {
     "model_module": "@jupyter-widgets/controls",
     "model_module_version": "1.5.0",
     "model_name": "HTMLModel",
     "state": {
      "_dom_classes": [],
      "_model_module": "@jupyter-widgets/controls",
      "_model_module_version": "1.5.0",
      "_model_name": "HTMLModel",
      "_view_count": null,
      "_view_module": "@jupyter-widgets/controls",
      "_view_module_version": "1.5.0",
      "_view_name": "HTMLView",
      "description": "",
      "description_tooltip": null,
      "layout": "IPY_MODEL_f11dd951a4e544fd80a3f23152366488",
      "placeholder": "​",
      "style": "IPY_MODEL_9c095ced5a8949a686e906f04dce009f",
      "value": "Generating validation split: 100%"
     }
    },
    "15d6a8890a6b4668b0fa07e66c91813c": {
     "model_module": "@jupyter-widgets/controls",
     "model_module_version": "1.5.0",
     "model_name": "DescriptionStyleModel",
     "state": {
      "_model_module": "@jupyter-widgets/controls",
      "_model_module_version": "1.5.0",
      "_model_name": "DescriptionStyleModel",
      "_view_count": null,
      "_view_module": "@jupyter-widgets/base",
      "_view_module_version": "1.2.0",
      "_view_name": "StyleView",
      "description_width": ""
     }
    },
    "17a9b412f7614076848275387f128000": {
     "model_module": "@jupyter-widgets/base",
     "model_module_version": "1.2.0",
     "model_name": "LayoutModel",
     "state": {
      "_model_module": "@jupyter-widgets/base",
      "_model_module_version": "1.2.0",
      "_model_name": "LayoutModel",
      "_view_count": null,
      "_view_module": "@jupyter-widgets/base",
      "_view_module_version": "1.2.0",
      "_view_name": "LayoutView",
      "align_content": null,
      "align_items": null,
      "align_self": null,
      "border": null,
      "bottom": null,
      "display": null,
      "flex": null,
      "flex_flow": null,
      "grid_area": null,
      "grid_auto_columns": null,
      "grid_auto_flow": null,
      "grid_auto_rows": null,
      "grid_column": null,
      "grid_gap": null,
      "grid_row": null,
      "grid_template_areas": null,
      "grid_template_columns": null,
      "grid_template_rows": null,
      "height": null,
      "justify_content": null,
      "justify_items": null,
      "left": null,
      "margin": null,
      "max_height": null,
      "max_width": null,
      "min_height": null,
      "min_width": null,
      "object_fit": null,
      "object_position": null,
      "order": null,
      "overflow": null,
      "overflow_x": null,
      "overflow_y": null,
      "padding": null,
      "right": null,
      "top": null,
      "visibility": null,
      "width": null
     }
    },
    "17f5328ff449427d8d1155d14af2ba93": {
     "model_module": "@jupyter-widgets/base",
     "model_module_version": "1.2.0",
     "model_name": "LayoutModel",
     "state": {
      "_model_module": "@jupyter-widgets/base",
      "_model_module_version": "1.2.0",
      "_model_name": "LayoutModel",
      "_view_count": null,
      "_view_module": "@jupyter-widgets/base",
      "_view_module_version": "1.2.0",
      "_view_name": "LayoutView",
      "align_content": null,
      "align_items": null,
      "align_self": null,
      "border": null,
      "bottom": null,
      "display": null,
      "flex": null,
      "flex_flow": null,
      "grid_area": null,
      "grid_auto_columns": null,
      "grid_auto_flow": null,
      "grid_auto_rows": null,
      "grid_column": null,
      "grid_gap": null,
      "grid_row": null,
      "grid_template_areas": null,
      "grid_template_columns": null,
      "grid_template_rows": null,
      "height": null,
      "justify_content": null,
      "justify_items": null,
      "left": null,
      "margin": null,
      "max_height": null,
      "max_width": null,
      "min_height": null,
      "min_width": null,
      "object_fit": null,
      "object_position": null,
      "order": null,
      "overflow": null,
      "overflow_x": null,
      "overflow_y": null,
      "padding": null,
      "right": null,
      "top": null,
      "visibility": null,
      "width": null
     }
    },
    "18d588aa2925437b814f2bd5442ffc51": {
     "model_module": "@jupyter-widgets/controls",
     "model_module_version": "1.5.0",
     "model_name": "HTMLModel",
     "state": {
      "_dom_classes": [],
      "_model_module": "@jupyter-widgets/controls",
      "_model_module_version": "1.5.0",
      "_model_name": "HTMLModel",
      "_view_count": null,
      "_view_module": "@jupyter-widgets/controls",
      "_view_module_version": "1.5.0",
      "_view_name": "HTMLView",
      "description": "",
      "description_tooltip": null,
      "layout": "IPY_MODEL_8e37a50542f64cc9b480b9e2a5a6e2a3",
      "placeholder": "​",
      "style": "IPY_MODEL_0f7be45791a043b386e18bd7036f0777",
      "value": "Filter: 100%"
     }
    },
    "1c69171f88534056ba0b7516f65a5cb7": {
     "model_module": "@jupyter-widgets/base",
     "model_module_version": "1.2.0",
     "model_name": "LayoutModel",
     "state": {
      "_model_module": "@jupyter-widgets/base",
      "_model_module_version": "1.2.0",
      "_model_name": "LayoutModel",
      "_view_count": null,
      "_view_module": "@jupyter-widgets/base",
      "_view_module_version": "1.2.0",
      "_view_name": "LayoutView",
      "align_content": null,
      "align_items": null,
      "align_self": null,
      "border": null,
      "bottom": null,
      "display": null,
      "flex": null,
      "flex_flow": null,
      "grid_area": null,
      "grid_auto_columns": null,
      "grid_auto_flow": null,
      "grid_auto_rows": null,
      "grid_column": null,
      "grid_gap": null,
      "grid_row": null,
      "grid_template_areas": null,
      "grid_template_columns": null,
      "grid_template_rows": null,
      "height": null,
      "justify_content": null,
      "justify_items": null,
      "left": null,
      "margin": null,
      "max_height": null,
      "max_width": null,
      "min_height": null,
      "min_width": null,
      "object_fit": null,
      "object_position": null,
      "order": null,
      "overflow": null,
      "overflow_x": null,
      "overflow_y": null,
      "padding": null,
      "right": null,
      "top": null,
      "visibility": null,
      "width": null
     }
    },
    "1e8233ff3b794373ba934766dd650063": {
     "model_module": "@jupyter-widgets/controls",
     "model_module_version": "1.5.0",
     "model_name": "HTMLModel",
     "state": {
      "_dom_classes": [],
      "_model_module": "@jupyter-widgets/controls",
      "_model_module_version": "1.5.0",
      "_model_name": "HTMLModel",
      "_view_count": null,
      "_view_module": "@jupyter-widgets/controls",
      "_view_module_version": "1.5.0",
      "_view_name": "HTMLView",
      "description": "",
      "description_tooltip": null,
      "layout": "IPY_MODEL_23135b6e6a674fb2a9483da63455c647",
      "placeholder": "​",
      "style": "IPY_MODEL_b880a08d82d14a27977f1a98873f5872",
      "value": "Map: 100%"
     }
    },
    "1e9078107aec408b95dcf65bfbd21784": {
     "model_module": "@jupyter-widgets/base",
     "model_module_version": "1.2.0",
     "model_name": "LayoutModel",
     "state": {
      "_model_module": "@jupyter-widgets/base",
      "_model_module_version": "1.2.0",
      "_model_name": "LayoutModel",
      "_view_count": null,
      "_view_module": "@jupyter-widgets/base",
      "_view_module_version": "1.2.0",
      "_view_name": "LayoutView",
      "align_content": null,
      "align_items": null,
      "align_self": null,
      "border": null,
      "bottom": null,
      "display": null,
      "flex": null,
      "flex_flow": null,
      "grid_area": null,
      "grid_auto_columns": null,
      "grid_auto_flow": null,
      "grid_auto_rows": null,
      "grid_column": null,
      "grid_gap": null,
      "grid_row": null,
      "grid_template_areas": null,
      "grid_template_columns": null,
      "grid_template_rows": null,
      "height": null,
      "justify_content": null,
      "justify_items": null,
      "left": null,
      "margin": null,
      "max_height": null,
      "max_width": null,
      "min_height": null,
      "min_width": null,
      "object_fit": null,
      "object_position": null,
      "order": null,
      "overflow": null,
      "overflow_x": null,
      "overflow_y": null,
      "padding": null,
      "right": null,
      "top": null,
      "visibility": null,
      "width": null
     }
    },
    "1e9a06241eb841408ba4f903969c3187": {
     "model_module": "@jupyter-widgets/controls",
     "model_module_version": "1.5.0",
     "model_name": "HTMLModel",
     "state": {
      "_dom_classes": [],
      "_model_module": "@jupyter-widgets/controls",
      "_model_module_version": "1.5.0",
      "_model_name": "HTMLModel",
      "_view_count": null,
      "_view_module": "@jupyter-widgets/controls",
      "_view_module_version": "1.5.0",
      "_view_name": "HTMLView",
      "description": "",
      "description_tooltip": null,
      "layout": "IPY_MODEL_99c8a364094149df8223032123cbbcb8",
      "placeholder": "​",
      "style": "IPY_MODEL_9035b1af75b74be8968df50de6ead0bc",
      "value": " 296627/296705 [07:25&lt;00:00, 817.67 examples/s]"
     }
    },
    "1f387e74e59c449483b5e3a96ec05447": {
     "model_module": "@jupyter-widgets/controls",
     "model_module_version": "1.5.0",
     "model_name": "FloatProgressModel",
     "state": {
      "_dom_classes": [],
      "_model_module": "@jupyter-widgets/controls",
      "_model_module_version": "1.5.0",
      "_model_name": "FloatProgressModel",
      "_view_count": null,
      "_view_module": "@jupyter-widgets/controls",
      "_view_module_version": "1.5.0",
      "_view_name": "ProgressView",
      "bar_style": "",
      "description": "",
      "description_tooltip": null,
      "layout": "IPY_MODEL_8d0d24afcbc740d1826cb3843437e796",
      "max": 432479,
      "min": 0,
      "orientation": "horizontal",
      "style": "IPY_MODEL_eef41833b13d4aa4b2853836198d3995",
      "value": 432479
     }
    },
    "1fca44c8cc5b45dcb7756c62ce82f14d": {
     "model_module": "@jupyter-widgets/controls",
     "model_module_version": "1.5.0",
     "model_name": "DescriptionStyleModel",
     "state": {
      "_model_module": "@jupyter-widgets/controls",
      "_model_module_version": "1.5.0",
      "_model_name": "DescriptionStyleModel",
      "_view_count": null,
      "_view_module": "@jupyter-widgets/base",
      "_view_module_version": "1.2.0",
      "_view_name": "StyleView",
      "description_width": ""
     }
    },
    "22ff805b3f974143a99990c4e414adaf": {
     "model_module": "@jupyter-widgets/controls",
     "model_module_version": "1.5.0",
     "model_name": "ProgressStyleModel",
     "state": {
      "_model_module": "@jupyter-widgets/controls",
      "_model_module_version": "1.5.0",
      "_model_name": "ProgressStyleModel",
      "_view_count": null,
      "_view_module": "@jupyter-widgets/base",
      "_view_module_version": "1.2.0",
      "_view_name": "StyleView",
      "bar_color": null,
      "description_width": ""
     }
    },
    "23135b6e6a674fb2a9483da63455c647": {
     "model_module": "@jupyter-widgets/base",
     "model_module_version": "1.2.0",
     "model_name": "LayoutModel",
     "state": {
      "_model_module": "@jupyter-widgets/base",
      "_model_module_version": "1.2.0",
      "_model_name": "LayoutModel",
      "_view_count": null,
      "_view_module": "@jupyter-widgets/base",
      "_view_module_version": "1.2.0",
      "_view_name": "LayoutView",
      "align_content": null,
      "align_items": null,
      "align_self": null,
      "border": null,
      "bottom": null,
      "display": null,
      "flex": null,
      "flex_flow": null,
      "grid_area": null,
      "grid_auto_columns": null,
      "grid_auto_flow": null,
      "grid_auto_rows": null,
      "grid_column": null,
      "grid_gap": null,
      "grid_row": null,
      "grid_template_areas": null,
      "grid_template_columns": null,
      "grid_template_rows": null,
      "height": null,
      "justify_content": null,
      "justify_items": null,
      "left": null,
      "margin": null,
      "max_height": null,
      "max_width": null,
      "min_height": null,
      "min_width": null,
      "object_fit": null,
      "object_position": null,
      "order": null,
      "overflow": null,
      "overflow_x": null,
      "overflow_y": null,
      "padding": null,
      "right": null,
      "top": null,
      "visibility": null,
      "width": null
     }
    },
    "257a544308774fc79b6887d9d22e6663": {
     "model_module": "@jupyter-widgets/controls",
     "model_module_version": "1.5.0",
     "model_name": "HBoxModel",
     "state": {
      "_dom_classes": [],
      "_model_module": "@jupyter-widgets/controls",
      "_model_module_version": "1.5.0",
      "_model_name": "HBoxModel",
      "_view_count": null,
      "_view_module": "@jupyter-widgets/controls",
      "_view_module_version": "1.5.0",
      "_view_name": "HBoxView",
      "box_style": "",
      "children": [
       "IPY_MODEL_719714e25ae6424cb0ab06bb8bba57e2",
       "IPY_MODEL_ad183cc295b84908988d341dc7fac5f1",
       "IPY_MODEL_3a2e9d08253945ff831ea613068925bc"
      ],
      "layout": "IPY_MODEL_e5530ff88d394cfdbfb05f02e8af5a18"
     }
    },
    "2684cbc9cba745ab83446fdf84dfacb6": {
     "model_module": "@jupyter-widgets/controls",
     "model_module_version": "1.5.0",
     "model_name": "HTMLModel",
     "state": {
      "_dom_classes": [],
      "_model_module": "@jupyter-widgets/controls",
      "_model_module_version": "1.5.0",
      "_model_name": "HTMLModel",
      "_view_count": null,
      "_view_module": "@jupyter-widgets/controls",
      "_view_module_version": "1.5.0",
      "_view_name": "HTMLView",
      "description": "",
      "description_tooltip": null,
      "layout": "IPY_MODEL_d8a81582c8ab4d308cbd78108e3e7586",
      "placeholder": "​",
      "style": "IPY_MODEL_ebeac2a2234847059a83712539afdd13",
      "value": " 296529/296705 [01:58&lt;00:00, 2977.47 examples/s]"
     }
    },
    "287e5682bc624311a421b5f1a74a511e": {
     "model_module": "@jupyter-widgets/controls",
     "model_module_version": "1.5.0",
     "model_name": "DescriptionStyleModel",
     "state": {
      "_model_module": "@jupyter-widgets/controls",
      "_model_module_version": "1.5.0",
      "_model_name": "DescriptionStyleModel",
      "_view_count": null,
      "_view_module": "@jupyter-widgets/base",
      "_view_module_version": "1.2.0",
      "_view_name": "StyleView",
      "description_width": ""
     }
    },
    "28c394a89d5646c59012f068a3e7fd07": {
     "model_module": "@jupyter-widgets/controls",
     "model_module_version": "1.5.0",
     "model_name": "HBoxModel",
     "state": {
      "_dom_classes": [],
      "_model_module": "@jupyter-widgets/controls",
      "_model_module_version": "1.5.0",
      "_model_name": "HBoxModel",
      "_view_count": null,
      "_view_module": "@jupyter-widgets/controls",
      "_view_module_version": "1.5.0",
      "_view_name": "HBoxView",
      "box_style": "",
      "children": [
       "IPY_MODEL_f354c7c7eb7e4ea4adee0d916fec5f53",
       "IPY_MODEL_1f387e74e59c449483b5e3a96ec05447",
       "IPY_MODEL_7f543f77c3684140a44a5399b126bbf0"
      ],
      "layout": "IPY_MODEL_467cc3bbf4a04e68bc7239155d80a13f"
     }
    },
    "2b9dfe847dfc4f6885ceca18ebc760c4": {
     "model_module": "@jupyter-widgets/controls",
     "model_module_version": "1.5.0",
     "model_name": "HTMLModel",
     "state": {
      "_dom_classes": [],
      "_model_module": "@jupyter-widgets/controls",
      "_model_module_version": "1.5.0",
      "_model_name": "HTMLModel",
      "_view_count": null,
      "_view_module": "@jupyter-widgets/controls",
      "_view_module_version": "1.5.0",
      "_view_name": "HTMLView",
      "description": "",
      "description_tooltip": null,
      "layout": "IPY_MODEL_06e53dc2d68e47d78f5bfa7544d88c31",
      "placeholder": "​",
      "style": "IPY_MODEL_73773b2aa7f2466fb65281f069e40993",
      "value": " 1798000/1801350 [00:16&lt;00:00, 82026.49 examples/s]"
     }
    },
    "2bddf5abec064c98b68942e62aa0de66": {
     "model_module": "@jupyter-widgets/controls",
     "model_module_version": "1.5.0",
     "model_name": "DescriptionStyleModel",
     "state": {
      "_model_module": "@jupyter-widgets/controls",
      "_model_module_version": "1.5.0",
      "_model_name": "DescriptionStyleModel",
      "_view_count": null,
      "_view_module": "@jupyter-widgets/base",
      "_view_module_version": "1.2.0",
      "_view_name": "StyleView",
      "description_width": ""
     }
    },
    "2c24142d9dcc4d2e92a5bd55d23298d4": {
     "model_module": "@jupyter-widgets/controls",
     "model_module_version": "1.5.0",
     "model_name": "ProgressStyleModel",
     "state": {
      "_model_module": "@jupyter-widgets/controls",
      "_model_module_version": "1.5.0",
      "_model_name": "ProgressStyleModel",
      "_view_count": null,
      "_view_module": "@jupyter-widgets/base",
      "_view_module_version": "1.2.0",
      "_view_name": "StyleView",
      "bar_color": null,
      "description_width": ""
     }
    },
    "2db97f10b7e844a296d415563a228f45": {
     "model_module": "@jupyter-widgets/controls",
     "model_module_version": "1.5.0",
     "model_name": "ProgressStyleModel",
     "state": {
      "_model_module": "@jupyter-widgets/controls",
      "_model_module_version": "1.5.0",
      "_model_name": "ProgressStyleModel",
      "_view_count": null,
      "_view_module": "@jupyter-widgets/base",
      "_view_module_version": "1.2.0",
      "_view_name": "StyleView",
      "bar_color": null,
      "description_width": ""
     }
    },
    "2e8bffa2ba504b03a0d714e9dc88352c": {
     "model_module": "@jupyter-widgets/controls",
     "model_module_version": "1.5.0",
     "model_name": "FloatProgressModel",
     "state": {
      "_dom_classes": [],
      "_model_module": "@jupyter-widgets/controls",
      "_model_module_version": "1.5.0",
      "_model_name": "FloatProgressModel",
      "_view_count": null,
      "_view_module": "@jupyter-widgets/controls",
      "_view_module_version": "1.5.0",
      "_view_name": "ProgressView",
      "bar_style": "",
      "description": "",
      "description_tooltip": null,
      "layout": "IPY_MODEL_cdae6a5df53648ee871de7120a9be23f",
      "max": 3760,
      "min": 0,
      "orientation": "horizontal",
      "style": "IPY_MODEL_2db97f10b7e844a296d415563a228f45",
      "value": 3760
     }
    },
    "2f00401b8465447988064680e02284fa": {
     "model_module": "@jupyter-widgets/base",
     "model_module_version": "1.2.0",
     "model_name": "LayoutModel",
     "state": {
      "_model_module": "@jupyter-widgets/base",
      "_model_module_version": "1.2.0",
      "_model_name": "LayoutModel",
      "_view_count": null,
      "_view_module": "@jupyter-widgets/base",
      "_view_module_version": "1.2.0",
      "_view_name": "LayoutView",
      "align_content": null,
      "align_items": null,
      "align_self": null,
      "border": null,
      "bottom": null,
      "display": null,
      "flex": null,
      "flex_flow": null,
      "grid_area": null,
      "grid_auto_columns": null,
      "grid_auto_flow": null,
      "grid_auto_rows": null,
      "grid_column": null,
      "grid_gap": null,
      "grid_row": null,
      "grid_template_areas": null,
      "grid_template_columns": null,
      "grid_template_rows": null,
      "height": null,
      "justify_content": null,
      "justify_items": null,
      "left": null,
      "margin": null,
      "max_height": null,
      "max_width": null,
      "min_height": null,
      "min_width": null,
      "object_fit": null,
      "object_position": null,
      "order": null,
      "overflow": null,
      "overflow_x": null,
      "overflow_y": null,
      "padding": null,
      "right": null,
      "top": null,
      "visibility": null,
      "width": null
     }
    },
    "2fa88a9782354cd09a02949b58d17e7f": {
     "model_module": "@jupyter-widgets/base",
     "model_module_version": "1.2.0",
     "model_name": "LayoutModel",
     "state": {
      "_model_module": "@jupyter-widgets/base",
      "_model_module_version": "1.2.0",
      "_model_name": "LayoutModel",
      "_view_count": null,
      "_view_module": "@jupyter-widgets/base",
      "_view_module_version": "1.2.0",
      "_view_name": "LayoutView",
      "align_content": null,
      "align_items": null,
      "align_self": null,
      "border": null,
      "bottom": null,
      "display": null,
      "flex": null,
      "flex_flow": null,
      "grid_area": null,
      "grid_auto_columns": null,
      "grid_auto_flow": null,
      "grid_auto_rows": null,
      "grid_column": null,
      "grid_gap": null,
      "grid_row": null,
      "grid_template_areas": null,
      "grid_template_columns": null,
      "grid_template_rows": null,
      "height": null,
      "justify_content": null,
      "justify_items": null,
      "left": null,
      "margin": null,
      "max_height": null,
      "max_width": null,
      "min_height": null,
      "min_width": null,
      "object_fit": null,
      "object_position": null,
      "order": null,
      "overflow": null,
      "overflow_x": null,
      "overflow_y": null,
      "padding": null,
      "right": null,
      "top": null,
      "visibility": null,
      "width": null
     }
    },
    "3073072cfbef4114b0737a819155b265": {
     "model_module": "@jupyter-widgets/controls",
     "model_module_version": "1.5.0",
     "model_name": "HBoxModel",
     "state": {
      "_dom_classes": [],
      "_model_module": "@jupyter-widgets/controls",
      "_model_module_version": "1.5.0",
      "_model_name": "HBoxModel",
      "_view_count": null,
      "_view_module": "@jupyter-widgets/controls",
      "_view_module_version": "1.5.0",
      "_view_name": "HBoxView",
      "box_style": "",
      "children": [
       "IPY_MODEL_1e8233ff3b794373ba934766dd650063",
       "IPY_MODEL_b0799fba07424c7b90b79e5840b00f2b",
       "IPY_MODEL_6282cc6dbb154cf4be9f3749bd55fd21"
      ],
      "layout": "IPY_MODEL_adf31c8f271a4f36972655d3e332efa4"
     }
    },
    "322ddc7e80df4872bc4ad4548f5850cb": {
     "model_module": "@jupyter-widgets/base",
     "model_module_version": "1.2.0",
     "model_name": "LayoutModel",
     "state": {
      "_model_module": "@jupyter-widgets/base",
      "_model_module_version": "1.2.0",
      "_model_name": "LayoutModel",
      "_view_count": null,
      "_view_module": "@jupyter-widgets/base",
      "_view_module_version": "1.2.0",
      "_view_name": "LayoutView",
      "align_content": null,
      "align_items": null,
      "align_self": null,
      "border": null,
      "bottom": null,
      "display": null,
      "flex": null,
      "flex_flow": null,
      "grid_area": null,
      "grid_auto_columns": null,
      "grid_auto_flow": null,
      "grid_auto_rows": null,
      "grid_column": null,
      "grid_gap": null,
      "grid_row": null,
      "grid_template_areas": null,
      "grid_template_columns": null,
      "grid_template_rows": null,
      "height": null,
      "justify_content": null,
      "justify_items": null,
      "left": null,
      "margin": null,
      "max_height": null,
      "max_width": null,
      "min_height": null,
      "min_width": null,
      "object_fit": null,
      "object_position": null,
      "order": null,
      "overflow": null,
      "overflow_x": null,
      "overflow_y": null,
      "padding": null,
      "right": null,
      "top": null,
      "visibility": null,
      "width": null
     }
    },
    "34329ea3357446f594cad4b5b3a6349b": {
     "model_module": "@jupyter-widgets/controls",
     "model_module_version": "1.5.0",
     "model_name": "ProgressStyleModel",
     "state": {
      "_model_module": "@jupyter-widgets/controls",
      "_model_module_version": "1.5.0",
      "_model_name": "ProgressStyleModel",
      "_view_count": null,
      "_view_module": "@jupyter-widgets/base",
      "_view_module_version": "1.2.0",
      "_view_name": "StyleView",
      "bar_color": null,
      "description_width": ""
     }
    },
    "3447c1f610204c7bbf01865ec209a497": {
     "model_module": "@jupyter-widgets/base",
     "model_module_version": "1.2.0",
     "model_name": "LayoutModel",
     "state": {
      "_model_module": "@jupyter-widgets/base",
      "_model_module_version": "1.2.0",
      "_model_name": "LayoutModel",
      "_view_count": null,
      "_view_module": "@jupyter-widgets/base",
      "_view_module_version": "1.2.0",
      "_view_name": "LayoutView",
      "align_content": null,
      "align_items": null,
      "align_self": null,
      "border": null,
      "bottom": null,
      "display": null,
      "flex": null,
      "flex_flow": null,
      "grid_area": null,
      "grid_auto_columns": null,
      "grid_auto_flow": null,
      "grid_auto_rows": null,
      "grid_column": null,
      "grid_gap": null,
      "grid_row": null,
      "grid_template_areas": null,
      "grid_template_columns": null,
      "grid_template_rows": null,
      "height": null,
      "justify_content": null,
      "justify_items": null,
      "left": null,
      "margin": null,
      "max_height": null,
      "max_width": null,
      "min_height": null,
      "min_width": null,
      "object_fit": null,
      "object_position": null,
      "order": null,
      "overflow": null,
      "overflow_x": null,
      "overflow_y": null,
      "padding": null,
      "right": null,
      "top": null,
      "visibility": null,
      "width": null
     }
    },
    "351fc7fc14314a03b48a5e37e1cb8455": {
     "model_module": "@jupyter-widgets/base",
     "model_module_version": "1.2.0",
     "model_name": "LayoutModel",
     "state": {
      "_model_module": "@jupyter-widgets/base",
      "_model_module_version": "1.2.0",
      "_model_name": "LayoutModel",
      "_view_count": null,
      "_view_module": "@jupyter-widgets/base",
      "_view_module_version": "1.2.0",
      "_view_name": "LayoutView",
      "align_content": null,
      "align_items": null,
      "align_self": null,
      "border": null,
      "bottom": null,
      "display": null,
      "flex": null,
      "flex_flow": null,
      "grid_area": null,
      "grid_auto_columns": null,
      "grid_auto_flow": null,
      "grid_auto_rows": null,
      "grid_column": null,
      "grid_gap": null,
      "grid_row": null,
      "grid_template_areas": null,
      "grid_template_columns": null,
      "grid_template_rows": null,
      "height": null,
      "justify_content": null,
      "justify_items": null,
      "left": null,
      "margin": null,
      "max_height": null,
      "max_width": null,
      "min_height": null,
      "min_width": null,
      "object_fit": null,
      "object_position": null,
      "order": null,
      "overflow": null,
      "overflow_x": null,
      "overflow_y": null,
      "padding": null,
      "right": null,
      "top": null,
      "visibility": null,
      "width": null
     }
    },
    "3527c387486c4a938689bd7fa1c9b91a": {
     "model_module": "@jupyter-widgets/controls",
     "model_module_version": "1.5.0",
     "model_name": "HTMLModel",
     "state": {
      "_dom_classes": [],
      "_model_module": "@jupyter-widgets/controls",
      "_model_module_version": "1.5.0",
      "_model_name": "HTMLModel",
      "_view_count": null,
      "_view_module": "@jupyter-widgets/controls",
      "_view_module_version": "1.5.0",
      "_view_name": "HTMLView",
      "description": "",
      "description_tooltip": null,
      "layout": "IPY_MODEL_53386d80c61344398573c94de82d1424",
      "placeholder": "​",
      "style": "IPY_MODEL_aa4b667e5d1c407fb55b71e453c4f738",
      "value": "Filter: 100%"
     }
    },
    "37c049c7650c425bbcd218246cc735a9": {
     "model_module": "@jupyter-widgets/controls",
     "model_module_version": "1.5.0",
     "model_name": "HTMLModel",
     "state": {
      "_dom_classes": [],
      "_model_module": "@jupyter-widgets/controls",
      "_model_module_version": "1.5.0",
      "_model_name": "HTMLModel",
      "_view_count": null,
      "_view_module": "@jupyter-widgets/controls",
      "_view_module_version": "1.5.0",
      "_view_name": "HTMLView",
      "description": "",
      "description_tooltip": null,
      "layout": "IPY_MODEL_1e9078107aec408b95dcf65bfbd21784",
      "placeholder": "​",
      "style": "IPY_MODEL_15d6a8890a6b4668b0fa07e66c91813c",
      "value": " 826329/826663 [01:30&lt;00:00, 10559.32 examples/s]"
     }
    },
    "37f2ec3a9f4e4ce4baa71cfadf4a30e5": {
     "model_module": "@jupyter-widgets/base",
     "model_module_version": "1.2.0",
     "model_name": "LayoutModel",
     "state": {
      "_model_module": "@jupyter-widgets/base",
      "_model_module_version": "1.2.0",
      "_model_name": "LayoutModel",
      "_view_count": null,
      "_view_module": "@jupyter-widgets/base",
      "_view_module_version": "1.2.0",
      "_view_name": "LayoutView",
      "align_content": null,
      "align_items": null,
      "align_self": null,
      "border": null,
      "bottom": null,
      "display": null,
      "flex": null,
      "flex_flow": null,
      "grid_area": null,
      "grid_auto_columns": null,
      "grid_auto_flow": null,
      "grid_auto_rows": null,
      "grid_column": null,
      "grid_gap": null,
      "grid_row": null,
      "grid_template_areas": null,
      "grid_template_columns": null,
      "grid_template_rows": null,
      "height": null,
      "justify_content": null,
      "justify_items": null,
      "left": null,
      "margin": null,
      "max_height": null,
      "max_width": null,
      "min_height": null,
      "min_width": null,
      "object_fit": null,
      "object_position": null,
      "order": null,
      "overflow": null,
      "overflow_x": null,
      "overflow_y": null,
      "padding": null,
      "right": null,
      "top": null,
      "visibility": null,
      "width": null
     }
    },
    "382fd73ad59e4702ad6403d8f9f14e11": {
     "model_module": "@jupyter-widgets/controls",
     "model_module_version": "1.5.0",
     "model_name": "HTMLModel",
     "state": {
      "_dom_classes": [],
      "_model_module": "@jupyter-widgets/controls",
      "_model_module_version": "1.5.0",
      "_model_name": "HTMLModel",
      "_view_count": null,
      "_view_module": "@jupyter-widgets/controls",
      "_view_module_version": "1.5.0",
      "_view_name": "HTMLView",
      "description": "",
      "description_tooltip": null,
      "layout": "IPY_MODEL_0b324fcfb3c64b1da0831475e29a03e8",
      "placeholder": "​",
      "style": "IPY_MODEL_d0c7dec26a8f40fc846f641b364200fd",
      "value": " 1165029/1165029 [00:35&lt;00:00, 40765.96 examples/s]"
     }
    },
    "3945fc931f084af8a3e34c2bce6d7ae3": {
     "model_module": "@jupyter-widgets/base",
     "model_module_version": "1.2.0",
     "model_name": "LayoutModel",
     "state": {
      "_model_module": "@jupyter-widgets/base",
      "_model_module_version": "1.2.0",
      "_model_name": "LayoutModel",
      "_view_count": null,
      "_view_module": "@jupyter-widgets/base",
      "_view_module_version": "1.2.0",
      "_view_name": "LayoutView",
      "align_content": null,
      "align_items": null,
      "align_self": null,
      "border": null,
      "bottom": null,
      "display": null,
      "flex": null,
      "flex_flow": null,
      "grid_area": null,
      "grid_auto_columns": null,
      "grid_auto_flow": null,
      "grid_auto_rows": null,
      "grid_column": null,
      "grid_gap": null,
      "grid_row": null,
      "grid_template_areas": null,
      "grid_template_columns": null,
      "grid_template_rows": null,
      "height": null,
      "justify_content": null,
      "justify_items": null,
      "left": null,
      "margin": null,
      "max_height": null,
      "max_width": null,
      "min_height": null,
      "min_width": null,
      "object_fit": null,
      "object_position": null,
      "order": null,
      "overflow": null,
      "overflow_x": null,
      "overflow_y": null,
      "padding": null,
      "right": null,
      "top": null,
      "visibility": null,
      "width": null
     }
    },
    "39f9a60a70364ecea0bcf2352c63c444": {
     "model_module": "@jupyter-widgets/controls",
     "model_module_version": "1.5.0",
     "model_name": "DescriptionStyleModel",
     "state": {
      "_model_module": "@jupyter-widgets/controls",
      "_model_module_version": "1.5.0",
      "_model_name": "DescriptionStyleModel",
      "_view_count": null,
      "_view_module": "@jupyter-widgets/base",
      "_view_module_version": "1.2.0",
      "_view_name": "StyleView",
      "description_width": ""
     }
    },
    "3a2e9d08253945ff831ea613068925bc": {
     "model_module": "@jupyter-widgets/controls",
     "model_module_version": "1.5.0",
     "model_name": "HTMLModel",
     "state": {
      "_dom_classes": [],
      "_model_module": "@jupyter-widgets/controls",
      "_model_module_version": "1.5.0",
      "_model_name": "HTMLModel",
      "_view_count": null,
      "_view_module": "@jupyter-widgets/controls",
      "_view_module_version": "1.5.0",
      "_view_name": "HTMLView",
      "description": "",
      "description_tooltip": null,
      "layout": "IPY_MODEL_351fc7fc14314a03b48a5e37e1cb8455",
      "placeholder": "​",
      "style": "IPY_MODEL_39f9a60a70364ecea0bcf2352c63c444",
      "value": " 425000/432479 [00:03&lt;00:00, 78697.35 examples/s]"
     }
    },
    "3b8bd7b153e94858a4ee16ce20bed969": {
     "model_module": "@jupyter-widgets/controls",
     "model_module_version": "1.5.0",
     "model_name": "HTMLModel",
     "state": {
      "_dom_classes": [],
      "_model_module": "@jupyter-widgets/controls",
      "_model_module_version": "1.5.0",
      "_model_name": "HTMLModel",
      "_view_count": null,
      "_view_module": "@jupyter-widgets/controls",
      "_view_module_version": "1.5.0",
      "_view_name": "HTMLView",
      "description": "",
      "description_tooltip": null,
      "layout": "IPY_MODEL_fecd49409641440fa4e1b4fc0fc7039f",
      "placeholder": "​",
      "style": "IPY_MODEL_3c9a581453a1468cace0f39c708ffcdc",
      "value": " 190M/190M [00:14&lt;00:00, 14.0MB/s]"
     }
    },
    "3c9a581453a1468cace0f39c708ffcdc": {
     "model_module": "@jupyter-widgets/controls",
     "model_module_version": "1.5.0",
     "model_name": "DescriptionStyleModel",
     "state": {
      "_model_module": "@jupyter-widgets/controls",
      "_model_module_version": "1.5.0",
      "_model_name": "DescriptionStyleModel",
      "_view_count": null,
      "_view_module": "@jupyter-widgets/base",
      "_view_module_version": "1.2.0",
      "_view_name": "StyleView",
      "description_width": ""
     }
    },
    "3d1dd07704ae4b0a8f291ff10dc8a1ad": {
     "model_module": "@jupyter-widgets/controls",
     "model_module_version": "1.5.0",
     "model_name": "FloatProgressModel",
     "state": {
      "_dom_classes": [],
      "_model_module": "@jupyter-widgets/controls",
      "_model_module_version": "1.5.0",
      "_model_name": "FloatProgressModel",
      "_view_count": null,
      "_view_module": "@jupyter-widgets/controls",
      "_view_module_version": "1.5.0",
      "_view_name": "ProgressView",
      "bar_style": "",
      "description": "",
      "description_tooltip": null,
      "layout": "IPY_MODEL_d4cff5fd4ec14f20a8d463205dafaf7d",
      "max": 1801350,
      "min": 0,
      "orientation": "horizontal",
      "style": "IPY_MODEL_2c24142d9dcc4d2e92a5bd55d23298d4",
      "value": 1801350
     }
    },
    "3fbae1bd988d434c88b2468355443e38": {
     "model_module": "@jupyter-widgets/controls",
     "model_module_version": "1.5.0",
     "model_name": "FloatProgressModel",
     "state": {
      "_dom_classes": [],
      "_model_module": "@jupyter-widgets/controls",
      "_model_module_version": "1.5.0",
      "_model_name": "FloatProgressModel",
      "_view_count": null,
      "_view_module": "@jupyter-widgets/controls",
      "_view_module_version": "1.5.0",
      "_view_name": "ProgressView",
      "bar_style": "",
      "description": "",
      "description_tooltip": null,
      "layout": "IPY_MODEL_be2076b47db14f07ab7fcecc66c9af23",
      "max": 1801350,
      "min": 0,
      "orientation": "horizontal",
      "style": "IPY_MODEL_bd53d856f53c478e96e967d41ad409e2",
      "value": 1801350
     }
    },
    "428f6e8ccc1c49a092e3aece98777b54": {
     "model_module": "@jupyter-widgets/base",
     "model_module_version": "1.2.0",
     "model_name": "LayoutModel",
     "state": {
      "_model_module": "@jupyter-widgets/base",
      "_model_module_version": "1.2.0",
      "_model_name": "LayoutModel",
      "_view_count": null,
      "_view_module": "@jupyter-widgets/base",
      "_view_module_version": "1.2.0",
      "_view_name": "LayoutView",
      "align_content": null,
      "align_items": null,
      "align_self": null,
      "border": null,
      "bottom": null,
      "display": null,
      "flex": null,
      "flex_flow": null,
      "grid_area": null,
      "grid_auto_columns": null,
      "grid_auto_flow": null,
      "grid_auto_rows": null,
      "grid_column": null,
      "grid_gap": null,
      "grid_row": null,
      "grid_template_areas": null,
      "grid_template_columns": null,
      "grid_template_rows": null,
      "height": null,
      "justify_content": null,
      "justify_items": null,
      "left": null,
      "margin": null,
      "max_height": null,
      "max_width": null,
      "min_height": null,
      "min_width": null,
      "object_fit": null,
      "object_position": null,
      "order": null,
      "overflow": null,
      "overflow_x": null,
      "overflow_y": null,
      "padding": null,
      "right": null,
      "top": null,
      "visibility": null,
      "width": null
     }
    },
    "42beef7b33b4467e91307187de553006": {
     "model_module": "@jupyter-widgets/controls",
     "model_module_version": "1.5.0",
     "model_name": "ProgressStyleModel",
     "state": {
      "_model_module": "@jupyter-widgets/controls",
      "_model_module_version": "1.5.0",
      "_model_name": "ProgressStyleModel",
      "_view_count": null,
      "_view_module": "@jupyter-widgets/base",
      "_view_module_version": "1.2.0",
      "_view_name": "StyleView",
      "bar_color": null,
      "description_width": ""
     }
    },
    "452c7810050f4a398a907f56023751d5": {
     "model_module": "@jupyter-widgets/controls",
     "model_module_version": "1.5.0",
     "model_name": "DescriptionStyleModel",
     "state": {
      "_model_module": "@jupyter-widgets/controls",
      "_model_module_version": "1.5.0",
      "_model_name": "DescriptionStyleModel",
      "_view_count": null,
      "_view_module": "@jupyter-widgets/base",
      "_view_module_version": "1.2.0",
      "_view_name": "StyleView",
      "description_width": ""
     }
    },
    "467cc3bbf4a04e68bc7239155d80a13f": {
     "model_module": "@jupyter-widgets/base",
     "model_module_version": "1.2.0",
     "model_name": "LayoutModel",
     "state": {
      "_model_module": "@jupyter-widgets/base",
      "_model_module_version": "1.2.0",
      "_model_name": "LayoutModel",
      "_view_count": null,
      "_view_module": "@jupyter-widgets/base",
      "_view_module_version": "1.2.0",
      "_view_name": "LayoutView",
      "align_content": null,
      "align_items": null,
      "align_self": null,
      "border": null,
      "bottom": null,
      "display": null,
      "flex": null,
      "flex_flow": null,
      "grid_area": null,
      "grid_auto_columns": null,
      "grid_auto_flow": null,
      "grid_auto_rows": null,
      "grid_column": null,
      "grid_gap": null,
      "grid_row": null,
      "grid_template_areas": null,
      "grid_template_columns": null,
      "grid_template_rows": null,
      "height": null,
      "justify_content": null,
      "justify_items": null,
      "left": null,
      "margin": null,
      "max_height": null,
      "max_width": null,
      "min_height": null,
      "min_width": null,
      "object_fit": null,
      "object_position": null,
      "order": null,
      "overflow": null,
      "overflow_x": null,
      "overflow_y": null,
      "padding": null,
      "right": null,
      "top": null,
      "visibility": "hidden",
      "width": null
     }
    },
    "46acd73bb60d4d6487ea394e0994c340": {
     "model_module": "@jupyter-widgets/controls",
     "model_module_version": "1.5.0",
     "model_name": "HBoxModel",
     "state": {
      "_dom_classes": [],
      "_model_module": "@jupyter-widgets/controls",
      "_model_module_version": "1.5.0",
      "_model_name": "HBoxModel",
      "_view_count": null,
      "_view_module": "@jupyter-widgets/controls",
      "_view_module_version": "1.5.0",
      "_view_name": "HBoxView",
      "box_style": "",
      "children": [
       "IPY_MODEL_4ed5a6ca3e574c778a238fe31b47fb4b",
       "IPY_MODEL_68805cc03a2e46cf8004d46cd4b33743",
       "IPY_MODEL_bec58345685444619a05f969bab3f2c2"
      ],
      "layout": "IPY_MODEL_69d4bb9ed62c4610b74de45a6afb78d4"
     }
    },
    "4820bdf0cffc41e7bfbb908556b57e6f": {
     "model_module": "@jupyter-widgets/controls",
     "model_module_version": "1.5.0",
     "model_name": "HTMLModel",
     "state": {
      "_dom_classes": [],
      "_model_module": "@jupyter-widgets/controls",
      "_model_module_version": "1.5.0",
      "_model_name": "HTMLModel",
      "_view_count": null,
      "_view_module": "@jupyter-widgets/controls",
      "_view_module_version": "1.5.0",
      "_view_name": "HTMLView",
      "description": "",
      "description_tooltip": null,
      "layout": "IPY_MODEL_d96191f48c0b40679268be2fe6c23f9b",
      "placeholder": "​",
      "style": "IPY_MODEL_88eae98c137e47f68c373be08678ca78",
      "value": "Filter: 100%"
     }
    },
    "485b4e28461e4a648f7152e00505d466": {
     "model_module": "@jupyter-widgets/base",
     "model_module_version": "1.2.0",
     "model_name": "LayoutModel",
     "state": {
      "_model_module": "@jupyter-widgets/base",
      "_model_module_version": "1.2.0",
      "_model_name": "LayoutModel",
      "_view_count": null,
      "_view_module": "@jupyter-widgets/base",
      "_view_module_version": "1.2.0",
      "_view_name": "LayoutView",
      "align_content": null,
      "align_items": null,
      "align_self": null,
      "border": null,
      "bottom": null,
      "display": null,
      "flex": null,
      "flex_flow": null,
      "grid_area": null,
      "grid_auto_columns": null,
      "grid_auto_flow": null,
      "grid_auto_rows": null,
      "grid_column": null,
      "grid_gap": null,
      "grid_row": null,
      "grid_template_areas": null,
      "grid_template_columns": null,
      "grid_template_rows": null,
      "height": null,
      "justify_content": null,
      "justify_items": null,
      "left": null,
      "margin": null,
      "max_height": null,
      "max_width": null,
      "min_height": null,
      "min_width": null,
      "object_fit": null,
      "object_position": null,
      "order": null,
      "overflow": null,
      "overflow_x": null,
      "overflow_y": null,
      "padding": null,
      "right": null,
      "top": null,
      "visibility": null,
      "width": null
     }
    },
    "485bf813101844c6ab615fda1a904d60": {
     "model_module": "@jupyter-widgets/controls",
     "model_module_version": "1.5.0",
     "model_name": "DescriptionStyleModel",
     "state": {
      "_model_module": "@jupyter-widgets/controls",
      "_model_module_version": "1.5.0",
      "_model_name": "DescriptionStyleModel",
      "_view_count": null,
      "_view_module": "@jupyter-widgets/base",
      "_view_module_version": "1.2.0",
      "_view_name": "StyleView",
      "description_width": ""
     }
    },
    "49623ff36ddf436f867708f5b0b5c43b": {
     "model_module": "@jupyter-widgets/base",
     "model_module_version": "1.2.0",
     "model_name": "LayoutModel",
     "state": {
      "_model_module": "@jupyter-widgets/base",
      "_model_module_version": "1.2.0",
      "_model_name": "LayoutModel",
      "_view_count": null,
      "_view_module": "@jupyter-widgets/base",
      "_view_module_version": "1.2.0",
      "_view_name": "LayoutView",
      "align_content": null,
      "align_items": null,
      "align_self": null,
      "border": null,
      "bottom": null,
      "display": null,
      "flex": null,
      "flex_flow": null,
      "grid_area": null,
      "grid_auto_columns": null,
      "grid_auto_flow": null,
      "grid_auto_rows": null,
      "grid_column": null,
      "grid_gap": null,
      "grid_row": null,
      "grid_template_areas": null,
      "grid_template_columns": null,
      "grid_template_rows": null,
      "height": null,
      "justify_content": null,
      "justify_items": null,
      "left": null,
      "margin": null,
      "max_height": null,
      "max_width": null,
      "min_height": null,
      "min_width": null,
      "object_fit": null,
      "object_position": null,
      "order": null,
      "overflow": null,
      "overflow_x": null,
      "overflow_y": null,
      "padding": null,
      "right": null,
      "top": null,
      "visibility": null,
      "width": null
     }
    },
    "49fc912e81934c0f971719fad72ce342": {
     "model_module": "@jupyter-widgets/controls",
     "model_module_version": "1.5.0",
     "model_name": "DescriptionStyleModel",
     "state": {
      "_model_module": "@jupyter-widgets/controls",
      "_model_module_version": "1.5.0",
      "_model_name": "DescriptionStyleModel",
      "_view_count": null,
      "_view_module": "@jupyter-widgets/base",
      "_view_module_version": "1.2.0",
      "_view_name": "StyleView",
      "description_width": ""
     }
    },
    "4a20b87b73534115a97153645a85230d": {
     "model_module": "@jupyter-widgets/controls",
     "model_module_version": "1.5.0",
     "model_name": "DescriptionStyleModel",
     "state": {
      "_model_module": "@jupyter-widgets/controls",
      "_model_module_version": "1.5.0",
      "_model_name": "DescriptionStyleModel",
      "_view_count": null,
      "_view_module": "@jupyter-widgets/base",
      "_view_module_version": "1.2.0",
      "_view_name": "StyleView",
      "description_width": ""
     }
    },
    "4a8c220f893841d2be92ff0f2171635f": {
     "model_module": "@jupyter-widgets/controls",
     "model_module_version": "1.5.0",
     "model_name": "FloatProgressModel",
     "state": {
      "_dom_classes": [],
      "_model_module": "@jupyter-widgets/controls",
      "_model_module_version": "1.5.0",
      "_model_name": "FloatProgressModel",
      "_view_count": null,
      "_view_module": "@jupyter-widgets/controls",
      "_view_module_version": "1.5.0",
      "_view_name": "ProgressView",
      "bar_style": "success",
      "description": "",
      "description_tooltip": null,
      "layout": "IPY_MODEL_58d713412bd346b294bb63cfdd8283d3",
      "max": 9252,
      "min": 0,
      "orientation": "horizontal",
      "style": "IPY_MODEL_b9a57048a5d64e73ba84c18a64a4114f",
      "value": 9252
     }
    },
    "4b30a0de5a2d4d2187444959fd405bd4": {
     "model_module": "@jupyter-widgets/controls",
     "model_module_version": "1.5.0",
     "model_name": "HBoxModel",
     "state": {
      "_dom_classes": [],
      "_model_module": "@jupyter-widgets/controls",
      "_model_module_version": "1.5.0",
      "_model_name": "HBoxModel",
      "_view_count": null,
      "_view_module": "@jupyter-widgets/controls",
      "_view_module_version": "1.5.0",
      "_view_name": "HBoxView",
      "box_style": "",
      "children": [
       "IPY_MODEL_e8eff109fa4e4e17a99160aaa09e066a",
       "IPY_MODEL_cca28900c9a647cabbcbf91071c9bbea",
       "IPY_MODEL_1e9a06241eb841408ba4f903969c3187"
      ],
      "layout": "IPY_MODEL_02f7d8ad7a184e40bb32a29eee94b7ed"
     }
    },
    "4b86c970b16d454ab6d726817a5aff7b": {
     "model_module": "@jupyter-widgets/controls",
     "model_module_version": "1.5.0",
     "model_name": "HBoxModel",
     "state": {
      "_dom_classes": [],
      "_model_module": "@jupyter-widgets/controls",
      "_model_module_version": "1.5.0",
      "_model_name": "HBoxModel",
      "_view_count": null,
      "_view_module": "@jupyter-widgets/controls",
      "_view_module_version": "1.5.0",
      "_view_name": "HBoxView",
      "box_style": "",
      "children": [
       "IPY_MODEL_991065e4804c4249bb0752fe94aac26d",
       "IPY_MODEL_7053f6f3336d4970936753d5f00279e8",
       "IPY_MODEL_37c049c7650c425bbcd218246cc735a9"
      ],
      "layout": "IPY_MODEL_99b668868cca446491ed5c6535b037af"
     }
    },
    "4d5562c388344ae0aadde6f7120b9a81": {
     "model_module": "@jupyter-widgets/controls",
     "model_module_version": "1.5.0",
     "model_name": "HBoxModel",
     "state": {
      "_dom_classes": [],
      "_model_module": "@jupyter-widgets/controls",
      "_model_module_version": "1.5.0",
      "_model_name": "HBoxModel",
      "_view_count": null,
      "_view_module": "@jupyter-widgets/controls",
      "_view_module_version": "1.5.0",
      "_view_name": "HBoxView",
      "box_style": "",
      "children": [
       "IPY_MODEL_e01b25e11a164fd696355c88dfef5879",
       "IPY_MODEL_89f8a34632264ed7ab272ecf6f9a75f2",
       "IPY_MODEL_2684cbc9cba745ab83446fdf84dfacb6"
      ],
      "layout": "IPY_MODEL_c53d4b80ce22406caf04caedb52d3123"
     }
    },
    "4ed5a6ca3e574c778a238fe31b47fb4b": {
     "model_module": "@jupyter-widgets/controls",
     "model_module_version": "1.5.0",
     "model_name": "HTMLModel",
     "state": {
      "_dom_classes": [],
      "_model_module": "@jupyter-widgets/controls",
      "_model_module_version": "1.5.0",
      "_model_name": "HTMLModel",
      "_view_count": null,
      "_view_module": "@jupyter-widgets/controls",
      "_view_module_version": "1.5.0",
      "_view_name": "HTMLView",
      "description": "",
      "description_tooltip": null,
      "layout": "IPY_MODEL_749a758703c644989a9e1326704493d8",
      "placeholder": "​",
      "style": "IPY_MODEL_4a20b87b73534115a97153645a85230d",
      "value": "Downloading builder script: 100%"
     }
    },
    "4ee36f0f0a184a0483100d50a080a78a": {
     "model_module": "@jupyter-widgets/controls",
     "model_module_version": "1.5.0",
     "model_name": "HTMLModel",
     "state": {
      "_dom_classes": [],
      "_model_module": "@jupyter-widgets/controls",
      "_model_module_version": "1.5.0",
      "_model_name": "HTMLModel",
      "_view_count": null,
      "_view_module": "@jupyter-widgets/controls",
      "_view_module_version": "1.5.0",
      "_view_name": "HTMLView",
      "description": "",
      "description_tooltip": null,
      "layout": "IPY_MODEL_3447c1f610204c7bbf01865ec209a497",
      "placeholder": "​",
      "style": "IPY_MODEL_6c7d8e75ec4e40519709dd640f7796fe",
      "value": "Filter: 100%"
     }
    },
    "4efe7d8b2d5e4bafbc80c71d0cde4644": {
     "model_module": "@jupyter-widgets/controls",
     "model_module_version": "1.5.0",
     "model_name": "DescriptionStyleModel",
     "state": {
      "_model_module": "@jupyter-widgets/controls",
      "_model_module_version": "1.5.0",
      "_model_name": "DescriptionStyleModel",
      "_view_count": null,
      "_view_module": "@jupyter-widgets/base",
      "_view_module_version": "1.2.0",
      "_view_name": "StyleView",
      "description_width": ""
     }
    },
    "50721311a9ea41aa8e43d6335169894d": {
     "model_module": "@jupyter-widgets/controls",
     "model_module_version": "1.5.0",
     "model_name": "FloatProgressModel",
     "state": {
      "_dom_classes": [],
      "_model_module": "@jupyter-widgets/controls",
      "_model_module_version": "1.5.0",
      "_model_name": "FloatProgressModel",
      "_view_count": null,
      "_view_module": "@jupyter-widgets/controls",
      "_view_module_version": "1.5.0",
      "_view_name": "ProgressView",
      "bar_style": "success",
      "description": "",
      "description_tooltip": null,
      "layout": "IPY_MODEL_5410fde240504da899cfbafabd53d117",
      "max": 6838,
      "min": 0,
      "orientation": "horizontal",
      "style": "IPY_MODEL_7f6a28f0ee8644b1b732ec0dfa358aa7",
      "value": 6838
     }
    },
    "5138226ab5b64fa6bbe55181fadc8db3": {
     "model_module": "@jupyter-widgets/controls",
     "model_module_version": "1.5.0",
     "model_name": "DescriptionStyleModel",
     "state": {
      "_model_module": "@jupyter-widgets/controls",
      "_model_module_version": "1.5.0",
      "_model_name": "DescriptionStyleModel",
      "_view_count": null,
      "_view_module": "@jupyter-widgets/base",
      "_view_module_version": "1.2.0",
      "_view_name": "StyleView",
      "description_width": ""
     }
    },
    "516ae6d358d64047b3e6bd1da6ab3c7f": {
     "model_module": "@jupyter-widgets/controls",
     "model_module_version": "1.5.0",
     "model_name": "DescriptionStyleModel",
     "state": {
      "_model_module": "@jupyter-widgets/controls",
      "_model_module_version": "1.5.0",
      "_model_name": "DescriptionStyleModel",
      "_view_count": null,
      "_view_module": "@jupyter-widgets/base",
      "_view_module_version": "1.2.0",
      "_view_name": "StyleView",
      "description_width": ""
     }
    },
    "53386d80c61344398573c94de82d1424": {
     "model_module": "@jupyter-widgets/base",
     "model_module_version": "1.2.0",
     "model_name": "LayoutModel",
     "state": {
      "_model_module": "@jupyter-widgets/base",
      "_model_module_version": "1.2.0",
      "_model_name": "LayoutModel",
      "_view_count": null,
      "_view_module": "@jupyter-widgets/base",
      "_view_module_version": "1.2.0",
      "_view_name": "LayoutView",
      "align_content": null,
      "align_items": null,
      "align_self": null,
      "border": null,
      "bottom": null,
      "display": null,
      "flex": null,
      "flex_flow": null,
      "grid_area": null,
      "grid_auto_columns": null,
      "grid_auto_flow": null,
      "grid_auto_rows": null,
      "grid_column": null,
      "grid_gap": null,
      "grid_row": null,
      "grid_template_areas": null,
      "grid_template_columns": null,
      "grid_template_rows": null,
      "height": null,
      "justify_content": null,
      "justify_items": null,
      "left": null,
      "margin": null,
      "max_height": null,
      "max_width": null,
      "min_height": null,
      "min_width": null,
      "object_fit": null,
      "object_position": null,
      "order": null,
      "overflow": null,
      "overflow_x": null,
      "overflow_y": null,
      "padding": null,
      "right": null,
      "top": null,
      "visibility": null,
      "width": null
     }
    },
    "5410fde240504da899cfbafabd53d117": {
     "model_module": "@jupyter-widgets/base",
     "model_module_version": "1.2.0",
     "model_name": "LayoutModel",
     "state": {
      "_model_module": "@jupyter-widgets/base",
      "_model_module_version": "1.2.0",
      "_model_name": "LayoutModel",
      "_view_count": null,
      "_view_module": "@jupyter-widgets/base",
      "_view_module_version": "1.2.0",
      "_view_name": "LayoutView",
      "align_content": null,
      "align_items": null,
      "align_self": null,
      "border": null,
      "bottom": null,
      "display": null,
      "flex": null,
      "flex_flow": null,
      "grid_area": null,
      "grid_auto_columns": null,
      "grid_auto_flow": null,
      "grid_auto_rows": null,
      "grid_column": null,
      "grid_gap": null,
      "grid_row": null,
      "grid_template_areas": null,
      "grid_template_columns": null,
      "grid_template_rows": null,
      "height": null,
      "justify_content": null,
      "justify_items": null,
      "left": null,
      "margin": null,
      "max_height": null,
      "max_width": null,
      "min_height": null,
      "min_width": null,
      "object_fit": null,
      "object_position": null,
      "order": null,
      "overflow": null,
      "overflow_x": null,
      "overflow_y": null,
      "padding": null,
      "right": null,
      "top": null,
      "visibility": null,
      "width": null
     }
    },
    "58d713412bd346b294bb63cfdd8283d3": {
     "model_module": "@jupyter-widgets/base",
     "model_module_version": "1.2.0",
     "model_name": "LayoutModel",
     "state": {
      "_model_module": "@jupyter-widgets/base",
      "_model_module_version": "1.2.0",
      "_model_name": "LayoutModel",
      "_view_count": null,
      "_view_module": "@jupyter-widgets/base",
      "_view_module_version": "1.2.0",
      "_view_name": "LayoutView",
      "align_content": null,
      "align_items": null,
      "align_self": null,
      "border": null,
      "bottom": null,
      "display": null,
      "flex": null,
      "flex_flow": null,
      "grid_area": null,
      "grid_auto_columns": null,
      "grid_auto_flow": null,
      "grid_auto_rows": null,
      "grid_column": null,
      "grid_gap": null,
      "grid_row": null,
      "grid_template_areas": null,
      "grid_template_columns": null,
      "grid_template_rows": null,
      "height": null,
      "justify_content": null,
      "justify_items": null,
      "left": null,
      "margin": null,
      "max_height": null,
      "max_width": null,
      "min_height": null,
      "min_width": null,
      "object_fit": null,
      "object_position": null,
      "order": null,
      "overflow": null,
      "overflow_x": null,
      "overflow_y": null,
      "padding": null,
      "right": null,
      "top": null,
      "visibility": null,
      "width": null
     }
    },
    "5c3a309fed5a4965b53f0cef0a9f98ac": {
     "model_module": "@jupyter-widgets/controls",
     "model_module_version": "1.5.0",
     "model_name": "DescriptionStyleModel",
     "state": {
      "_model_module": "@jupyter-widgets/controls",
      "_model_module_version": "1.5.0",
      "_model_name": "DescriptionStyleModel",
      "_view_count": null,
      "_view_module": "@jupyter-widgets/base",
      "_view_module_version": "1.2.0",
      "_view_name": "StyleView",
      "description_width": ""
     }
    },
    "5c9003ac017d4cfc841c913368c253f9": {
     "model_module": "@jupyter-widgets/controls",
     "model_module_version": "1.5.0",
     "model_name": "HTMLModel",
     "state": {
      "_dom_classes": [],
      "_model_module": "@jupyter-widgets/controls",
      "_model_module_version": "1.5.0",
      "_model_name": "HTMLModel",
      "_view_count": null,
      "_view_module": "@jupyter-widgets/controls",
      "_view_module_version": "1.5.0",
      "_view_name": "HTMLView",
      "description": "",
      "description_tooltip": null,
      "layout": "IPY_MODEL_605436f66cd54ff3ac33b70ff1ffc39c",
      "placeholder": "​",
      "style": "IPY_MODEL_2bddf5abec064c98b68942e62aa0de66",
      "value": "Generating train split: 100%"
     }
    },
    "5ec4226a8a384535ae01fa4580ad5cf0": {
     "model_module": "@jupyter-widgets/base",
     "model_module_version": "1.2.0",
     "model_name": "LayoutModel",
     "state": {
      "_model_module": "@jupyter-widgets/base",
      "_model_module_version": "1.2.0",
      "_model_name": "LayoutModel",
      "_view_count": null,
      "_view_module": "@jupyter-widgets/base",
      "_view_module_version": "1.2.0",
      "_view_name": "LayoutView",
      "align_content": null,
      "align_items": null,
      "align_self": null,
      "border": null,
      "bottom": null,
      "display": null,
      "flex": null,
      "flex_flow": null,
      "grid_area": null,
      "grid_auto_columns": null,
      "grid_auto_flow": null,
      "grid_auto_rows": null,
      "grid_column": null,
      "grid_gap": null,
      "grid_row": null,
      "grid_template_areas": null,
      "grid_template_columns": null,
      "grid_template_rows": null,
      "height": null,
      "justify_content": null,
      "justify_items": null,
      "left": null,
      "margin": null,
      "max_height": null,
      "max_width": null,
      "min_height": null,
      "min_width": null,
      "object_fit": null,
      "object_position": null,
      "order": null,
      "overflow": null,
      "overflow_x": null,
      "overflow_y": null,
      "padding": null,
      "right": null,
      "top": null,
      "visibility": null,
      "width": null
     }
    },
    "605436f66cd54ff3ac33b70ff1ffc39c": {
     "model_module": "@jupyter-widgets/base",
     "model_module_version": "1.2.0",
     "model_name": "LayoutModel",
     "state": {
      "_model_module": "@jupyter-widgets/base",
      "_model_module_version": "1.2.0",
      "_model_name": "LayoutModel",
      "_view_count": null,
      "_view_module": "@jupyter-widgets/base",
      "_view_module_version": "1.2.0",
      "_view_name": "LayoutView",
      "align_content": null,
      "align_items": null,
      "align_self": null,
      "border": null,
      "bottom": null,
      "display": null,
      "flex": null,
      "flex_flow": null,
      "grid_area": null,
      "grid_auto_columns": null,
      "grid_auto_flow": null,
      "grid_auto_rows": null,
      "grid_column": null,
      "grid_gap": null,
      "grid_row": null,
      "grid_template_areas": null,
      "grid_template_columns": null,
      "grid_template_rows": null,
      "height": null,
      "justify_content": null,
      "justify_items": null,
      "left": null,
      "margin": null,
      "max_height": null,
      "max_width": null,
      "min_height": null,
      "min_width": null,
      "object_fit": null,
      "object_position": null,
      "order": null,
      "overflow": null,
      "overflow_x": null,
      "overflow_y": null,
      "padding": null,
      "right": null,
      "top": null,
      "visibility": null,
      "width": null
     }
    },
    "618fc4130bdc4c72a5967b3982d4b6ab": {
     "model_module": "@jupyter-widgets/controls",
     "model_module_version": "1.5.0",
     "model_name": "ProgressStyleModel",
     "state": {
      "_model_module": "@jupyter-widgets/controls",
      "_model_module_version": "1.5.0",
      "_model_name": "ProgressStyleModel",
      "_view_count": null,
      "_view_module": "@jupyter-widgets/base",
      "_view_module_version": "1.2.0",
      "_view_name": "StyleView",
      "bar_color": null,
      "description_width": ""
     }
    },
    "6282cc6dbb154cf4be9f3749bd55fd21": {
     "model_module": "@jupyter-widgets/controls",
     "model_module_version": "1.5.0",
     "model_name": "HTMLModel",
     "state": {
      "_dom_classes": [],
      "_model_module": "@jupyter-widgets/controls",
      "_model_module_version": "1.5.0",
      "_model_name": "HTMLModel",
      "_view_count": null,
      "_view_module": "@jupyter-widgets/controls",
      "_view_module_version": "1.5.0",
      "_view_name": "HTMLView",
      "description": "",
      "description_tooltip": null,
      "layout": "IPY_MODEL_999f0164582940a386639cd8c15b7a21",
      "placeholder": "​",
      "style": "IPY_MODEL_e8c0bc1e78a44f6797baddbe1208fe65",
      "value": " 521591/521591 [01:53&lt;00:00, 5123.53 examples/s]"
     }
    },
    "63194aa591d045459fe082caefa11dd2": {
     "model_module": "@jupyter-widgets/controls",
     "model_module_version": "1.5.0",
     "model_name": "HBoxModel",
     "state": {
      "_dom_classes": [],
      "_model_module": "@jupyter-widgets/controls",
      "_model_module_version": "1.5.0",
      "_model_name": "HBoxModel",
      "_view_count": null,
      "_view_module": "@jupyter-widgets/controls",
      "_view_module_version": "1.5.0",
      "_view_name": "HBoxView",
      "box_style": "",
      "children": [
       "IPY_MODEL_5c9003ac017d4cfc841c913368c253f9",
       "IPY_MODEL_3fbae1bd988d434c88b2468355443e38",
       "IPY_MODEL_6932bede73bc4519be6b950d30497049"
      ],
      "layout": "IPY_MODEL_cc3d1afc8d344a30ae3d5df976bc5db8"
     }
    },
    "6328dcb1baa644f6b4d2144ba21e67bc": {
     "model_module": "@jupyter-widgets/base",
     "model_module_version": "1.2.0",
     "model_name": "LayoutModel",
     "state": {
      "_model_module": "@jupyter-widgets/base",
      "_model_module_version": "1.2.0",
      "_model_name": "LayoutModel",
      "_view_count": null,
      "_view_module": "@jupyter-widgets/base",
      "_view_module_version": "1.2.0",
      "_view_name": "LayoutView",
      "align_content": null,
      "align_items": null,
      "align_self": null,
      "border": null,
      "bottom": null,
      "display": null,
      "flex": null,
      "flex_flow": null,
      "grid_area": null,
      "grid_auto_columns": null,
      "grid_auto_flow": null,
      "grid_auto_rows": null,
      "grid_column": null,
      "grid_gap": null,
      "grid_row": null,
      "grid_template_areas": null,
      "grid_template_columns": null,
      "grid_template_rows": null,
      "height": null,
      "justify_content": null,
      "justify_items": null,
      "left": null,
      "margin": null,
      "max_height": null,
      "max_width": null,
      "min_height": null,
      "min_width": null,
      "object_fit": null,
      "object_position": null,
      "order": null,
      "overflow": null,
      "overflow_x": null,
      "overflow_y": null,
      "padding": null,
      "right": null,
      "top": null,
      "visibility": null,
      "width": null
     }
    },
    "6381783b10304394b8f5cea5a8b6c6a9": {
     "model_module": "@jupyter-widgets/controls",
     "model_module_version": "1.5.0",
     "model_name": "HTMLModel",
     "state": {
      "_dom_classes": [],
      "_model_module": "@jupyter-widgets/controls",
      "_model_module_version": "1.5.0",
      "_model_name": "HTMLModel",
      "_view_count": null,
      "_view_module": "@jupyter-widgets/controls",
      "_view_module_version": "1.5.0",
      "_view_name": "HTMLView",
      "description": "",
      "description_tooltip": null,
      "layout": "IPY_MODEL_1c69171f88534056ba0b7516f65a5cb7",
      "placeholder": "​",
      "style": "IPY_MODEL_49fc912e81934c0f971719fad72ce342",
      "value": " 363805/363805 [04:50&lt;00:00, 1429.79 examples/s]"
     }
    },
    "654065bd08a94ed28dd04cd71f4b5049": {
     "model_module": "@jupyter-widgets/base",
     "model_module_version": "1.2.0",
     "model_name": "LayoutModel",
     "state": {
      "_model_module": "@jupyter-widgets/base",
      "_model_module_version": "1.2.0",
      "_model_name": "LayoutModel",
      "_view_count": null,
      "_view_module": "@jupyter-widgets/base",
      "_view_module_version": "1.2.0",
      "_view_name": "LayoutView",
      "align_content": null,
      "align_items": null,
      "align_self": null,
      "border": null,
      "bottom": null,
      "display": null,
      "flex": null,
      "flex_flow": null,
      "grid_area": null,
      "grid_auto_columns": null,
      "grid_auto_flow": null,
      "grid_auto_rows": null,
      "grid_column": null,
      "grid_gap": null,
      "grid_row": null,
      "grid_template_areas": null,
      "grid_template_columns": null,
      "grid_template_rows": null,
      "height": null,
      "justify_content": null,
      "justify_items": null,
      "left": null,
      "margin": null,
      "max_height": null,
      "max_width": null,
      "min_height": null,
      "min_width": null,
      "object_fit": null,
      "object_position": null,
      "order": null,
      "overflow": null,
      "overflow_x": null,
      "overflow_y": null,
      "padding": null,
      "right": null,
      "top": null,
      "visibility": "hidden",
      "width": null
     }
    },
    "68805cc03a2e46cf8004d46cd4b33743": {
     "model_module": "@jupyter-widgets/controls",
     "model_module_version": "1.5.0",
     "model_name": "FloatProgressModel",
     "state": {
      "_dom_classes": [],
      "_model_module": "@jupyter-widgets/controls",
      "_model_module_version": "1.5.0",
      "_model_name": "FloatProgressModel",
      "_view_count": null,
      "_view_module": "@jupyter-widgets/controls",
      "_view_module_version": "1.5.0",
      "_view_name": "ProgressView",
      "bar_style": "success",
      "description": "",
      "description_tooltip": null,
      "layout": "IPY_MODEL_37f2ec3a9f4e4ce4baa71cfadf4a30e5",
      "max": 8482,
      "min": 0,
      "orientation": "horizontal",
      "style": "IPY_MODEL_895185b1c09841afbff15f777ccbfc95",
      "value": 8482
     }
    },
    "68c18fde1c3f4e47840ca4f572587022": {
     "model_module": "@jupyter-widgets/controls",
     "model_module_version": "1.5.0",
     "model_name": "ProgressStyleModel",
     "state": {
      "_model_module": "@jupyter-widgets/controls",
      "_model_module_version": "1.5.0",
      "_model_name": "ProgressStyleModel",
      "_view_count": null,
      "_view_module": "@jupyter-widgets/base",
      "_view_module_version": "1.2.0",
      "_view_name": "StyleView",
      "bar_color": null,
      "description_width": ""
     }
    },
    "6932bede73bc4519be6b950d30497049": {
     "model_module": "@jupyter-widgets/controls",
     "model_module_version": "1.5.0",
     "model_name": "HTMLModel",
     "state": {
      "_dom_classes": [],
      "_model_module": "@jupyter-widgets/controls",
      "_model_module_version": "1.5.0",
      "_model_name": "HTMLModel",
      "_view_count": null,
      "_view_module": "@jupyter-widgets/controls",
      "_view_module_version": "1.5.0",
      "_view_name": "HTMLView",
      "description": "",
      "description_tooltip": null,
      "layout": "IPY_MODEL_49623ff36ddf436f867708f5b0b5c43b",
      "placeholder": "​",
      "style": "IPY_MODEL_7e4a49b253e244ecbcd847f17bcc9363",
      "value": " 1801350/1801350 [01:18&lt;00:00, 40296.32 examples/s]"
     }
    },
    "69d4bb9ed62c4610b74de45a6afb78d4": {
     "model_module": "@jupyter-widgets/base",
     "model_module_version": "1.2.0",
     "model_name": "LayoutModel",
     "state": {
      "_model_module": "@jupyter-widgets/base",
      "_model_module_version": "1.2.0",
      "_model_name": "LayoutModel",
      "_view_count": null,
      "_view_module": "@jupyter-widgets/base",
      "_view_module_version": "1.2.0",
      "_view_name": "LayoutView",
      "align_content": null,
      "align_items": null,
      "align_self": null,
      "border": null,
      "bottom": null,
      "display": null,
      "flex": null,
      "flex_flow": null,
      "grid_area": null,
      "grid_auto_columns": null,
      "grid_auto_flow": null,
      "grid_auto_rows": null,
      "grid_column": null,
      "grid_gap": null,
      "grid_row": null,
      "grid_template_areas": null,
      "grid_template_columns": null,
      "grid_template_rows": null,
      "height": null,
      "justify_content": null,
      "justify_items": null,
      "left": null,
      "margin": null,
      "max_height": null,
      "max_width": null,
      "min_height": null,
      "min_width": null,
      "object_fit": null,
      "object_position": null,
      "order": null,
      "overflow": null,
      "overflow_x": null,
      "overflow_y": null,
      "padding": null,
      "right": null,
      "top": null,
      "visibility": null,
      "width": null
     }
    },
    "6a2e9216ba764764b40a30ce827fb46e": {
     "model_module": "@jupyter-widgets/controls",
     "model_module_version": "1.5.0",
     "model_name": "FloatProgressModel",
     "state": {
      "_dom_classes": [],
      "_model_module": "@jupyter-widgets/controls",
      "_model_module_version": "1.5.0",
      "_model_name": "FloatProgressModel",
      "_view_count": null,
      "_view_module": "@jupyter-widgets/controls",
      "_view_module_version": "1.5.0",
      "_view_name": "ProgressView",
      "bar_style": "",
      "description": "",
      "description_tooltip": null,
      "layout": "IPY_MODEL_428f6e8ccc1c49a092e3aece98777b54",
      "max": 363805,
      "min": 0,
      "orientation": "horizontal",
      "style": "IPY_MODEL_05210d8e72c54cbeaac502bafb63416c",
      "value": 363805
     }
    },
    "6b0fe595b3684c65929f2d05825fe782": {
     "model_module": "@jupyter-widgets/controls",
     "model_module_version": "1.5.0",
     "model_name": "HTMLModel",
     "state": {
      "_dom_classes": [],
      "_model_module": "@jupyter-widgets/controls",
      "_model_module_version": "1.5.0",
      "_model_name": "HTMLModel",
      "_view_count": null,
      "_view_module": "@jupyter-widgets/controls",
      "_view_module_version": "1.5.0",
      "_view_name": "HTMLView",
      "description": "",
      "description_tooltip": null,
      "layout": "IPY_MODEL_a265eaf7642446d6aaa12dadf1c49ce6",
      "placeholder": "​",
      "style": "IPY_MODEL_5138226ab5b64fa6bbe55181fadc8db3",
      "value": " 521000/521591 [00:02&lt;00:00, 232669.39 examples/s]"
     }
    },
    "6b886f5ac5e24afea6903fdd59e84bc4": {
     "model_module": "@jupyter-widgets/controls",
     "model_module_version": "1.5.0",
     "model_name": "DescriptionStyleModel",
     "state": {
      "_model_module": "@jupyter-widgets/controls",
      "_model_module_version": "1.5.0",
      "_model_name": "DescriptionStyleModel",
      "_view_count": null,
      "_view_module": "@jupyter-widgets/base",
      "_view_module_version": "1.2.0",
      "_view_name": "StyleView",
      "description_width": ""
     }
    },
    "6c7d8e75ec4e40519709dd640f7796fe": {
     "model_module": "@jupyter-widgets/controls",
     "model_module_version": "1.5.0",
     "model_name": "DescriptionStyleModel",
     "state": {
      "_model_module": "@jupyter-widgets/controls",
      "_model_module_version": "1.5.0",
      "_model_name": "DescriptionStyleModel",
      "_view_count": null,
      "_view_module": "@jupyter-widgets/base",
      "_view_module_version": "1.2.0",
      "_view_name": "StyleView",
      "description_width": ""
     }
    },
    "6dba131fb5d646099125d747c9c508c9": {
     "model_module": "@jupyter-widgets/controls",
     "model_module_version": "1.5.0",
     "model_name": "HTMLModel",
     "state": {
      "_dom_classes": [],
      "_model_module": "@jupyter-widgets/controls",
      "_model_module_version": "1.5.0",
      "_model_name": "HTMLModel",
      "_view_count": null,
      "_view_module": "@jupyter-widgets/controls",
      "_view_module_version": "1.5.0",
      "_view_name": "HTMLView",
      "description": "",
      "description_tooltip": null,
      "layout": "IPY_MODEL_5ec4226a8a384535ae01fa4580ad5cf0",
      "placeholder": "​",
      "style": "IPY_MODEL_0ee78c98e9f642b2b2e54e7f9f50dcb8",
      "value": "Map: 100%"
     }
    },
    "7053f6f3336d4970936753d5f00279e8": {
     "model_module": "@jupyter-widgets/controls",
     "model_module_version": "1.5.0",
     "model_name": "FloatProgressModel",
     "state": {
      "_dom_classes": [],
      "_model_module": "@jupyter-widgets/controls",
      "_model_module_version": "1.5.0",
      "_model_name": "FloatProgressModel",
      "_view_count": null,
      "_view_module": "@jupyter-widgets/controls",
      "_view_module_version": "1.5.0",
      "_view_name": "ProgressView",
      "bar_style": "",
      "description": "",
      "description_tooltip": null,
      "layout": "IPY_MODEL_0e0ed8fba81b467e98458bc0526af2e4",
      "max": 826663,
      "min": 0,
      "orientation": "horizontal",
      "style": "IPY_MODEL_be1692c5310c45b191d89c63a735dc61",
      "value": 826663
     }
    },
    "718cdc645f414ced84bbc24d55a67420": {
     "model_module": "@jupyter-widgets/controls",
     "model_module_version": "1.5.0",
     "model_name": "FloatProgressModel",
     "state": {
      "_dom_classes": [],
      "_model_module": "@jupyter-widgets/controls",
      "_model_module_version": "1.5.0",
      "_model_name": "FloatProgressModel",
      "_view_count": null,
      "_view_module": "@jupyter-widgets/controls",
      "_view_module_version": "1.5.0",
      "_view_name": "ProgressView",
      "bar_style": "",
      "description": "",
      "description_tooltip": null,
      "layout": "IPY_MODEL_8965eca8c7a14035b8003ad6ad80787d",
      "max": 401709,
      "min": 0,
      "orientation": "horizontal",
      "style": "IPY_MODEL_618fc4130bdc4c72a5967b3982d4b6ab",
      "value": 401709
     }
    },
    "719714e25ae6424cb0ab06bb8bba57e2": {
     "model_module": "@jupyter-widgets/controls",
     "model_module_version": "1.5.0",
     "model_name": "HTMLModel",
     "state": {
      "_dom_classes": [],
      "_model_module": "@jupyter-widgets/controls",
      "_model_module_version": "1.5.0",
      "_model_name": "HTMLModel",
      "_view_count": null,
      "_view_module": "@jupyter-widgets/controls",
      "_view_module_version": "1.5.0",
      "_view_name": "HTMLView",
      "description": "",
      "description_tooltip": null,
      "layout": "IPY_MODEL_322ddc7e80df4872bc4ad4548f5850cb",
      "placeholder": "​",
      "style": "IPY_MODEL_b508882e58504d0fb2fbbb288598c1d6",
      "value": "Filter:  98%"
     }
    },
    "73773b2aa7f2466fb65281f069e40993": {
     "model_module": "@jupyter-widgets/controls",
     "model_module_version": "1.5.0",
     "model_name": "DescriptionStyleModel",
     "state": {
      "_model_module": "@jupyter-widgets/controls",
      "_model_module_version": "1.5.0",
      "_model_name": "DescriptionStyleModel",
      "_view_count": null,
      "_view_module": "@jupyter-widgets/base",
      "_view_module_version": "1.2.0",
      "_view_name": "StyleView",
      "description_width": ""
     }
    },
    "7436baa347884456a59ed4decdbe3cef": {
     "model_module": "@jupyter-widgets/controls",
     "model_module_version": "1.5.0",
     "model_name": "HBoxModel",
     "state": {
      "_dom_classes": [],
      "_model_module": "@jupyter-widgets/controls",
      "_model_module_version": "1.5.0",
      "_model_name": "HBoxModel",
      "_view_count": null,
      "_view_module": "@jupyter-widgets/controls",
      "_view_module_version": "1.5.0",
      "_view_name": "HBoxView",
      "box_style": "",
      "children": [
       "IPY_MODEL_3527c387486c4a938689bd7fa1c9b91a",
       "IPY_MODEL_77031deb7a644d1ea75c265dad744338",
       "IPY_MODEL_6b0fe595b3684c65929f2d05825fe782"
      ],
      "layout": "IPY_MODEL_b9d73b325f95402fba81f4582a34893a"
     }
    },
    "749a758703c644989a9e1326704493d8": {
     "model_module": "@jupyter-widgets/base",
     "model_module_version": "1.2.0",
     "model_name": "LayoutModel",
     "state": {
      "_model_module": "@jupyter-widgets/base",
      "_model_module_version": "1.2.0",
      "_model_name": "LayoutModel",
      "_view_count": null,
      "_view_module": "@jupyter-widgets/base",
      "_view_module_version": "1.2.0",
      "_view_name": "LayoutView",
      "align_content": null,
      "align_items": null,
      "align_self": null,
      "border": null,
      "bottom": null,
      "display": null,
      "flex": null,
      "flex_flow": null,
      "grid_area": null,
      "grid_auto_columns": null,
      "grid_auto_flow": null,
      "grid_auto_rows": null,
      "grid_column": null,
      "grid_gap": null,
      "grid_row": null,
      "grid_template_areas": null,
      "grid_template_columns": null,
      "grid_template_rows": null,
      "height": null,
      "justify_content": null,
      "justify_items": null,
      "left": null,
      "margin": null,
      "max_height": null,
      "max_width": null,
      "min_height": null,
      "min_width": null,
      "object_fit": null,
      "object_position": null,
      "order": null,
      "overflow": null,
      "overflow_x": null,
      "overflow_y": null,
      "padding": null,
      "right": null,
      "top": null,
      "visibility": null,
      "width": null
     }
    },
    "77031deb7a644d1ea75c265dad744338": {
     "model_module": "@jupyter-widgets/controls",
     "model_module_version": "1.5.0",
     "model_name": "FloatProgressModel",
     "state": {
      "_dom_classes": [],
      "_model_module": "@jupyter-widgets/controls",
      "_model_module_version": "1.5.0",
      "_model_name": "FloatProgressModel",
      "_view_count": null,
      "_view_module": "@jupyter-widgets/controls",
      "_view_module_version": "1.5.0",
      "_view_name": "ProgressView",
      "bar_style": "",
      "description": "",
      "description_tooltip": null,
      "layout": "IPY_MODEL_cfc07ef68cc9483cae33cf60b8b9dbf1",
      "max": 521591,
      "min": 0,
      "orientation": "horizontal",
      "style": "IPY_MODEL_f26884dbed1e4e419c5963eee617d1ee",
      "value": 521591
     }
    },
    "77263d5a8a0149d18100b7a644bfd24d": {
     "model_module": "@jupyter-widgets/base",
     "model_module_version": "1.2.0",
     "model_name": "LayoutModel",
     "state": {
      "_model_module": "@jupyter-widgets/base",
      "_model_module_version": "1.2.0",
      "_model_name": "LayoutModel",
      "_view_count": null,
      "_view_module": "@jupyter-widgets/base",
      "_view_module_version": "1.2.0",
      "_view_name": "LayoutView",
      "align_content": null,
      "align_items": null,
      "align_self": null,
      "border": null,
      "bottom": null,
      "display": null,
      "flex": null,
      "flex_flow": null,
      "grid_area": null,
      "grid_auto_columns": null,
      "grid_auto_flow": null,
      "grid_auto_rows": null,
      "grid_column": null,
      "grid_gap": null,
      "grid_row": null,
      "grid_template_areas": null,
      "grid_template_columns": null,
      "grid_template_rows": null,
      "height": null,
      "justify_content": null,
      "justify_items": null,
      "left": null,
      "margin": null,
      "max_height": null,
      "max_width": null,
      "min_height": null,
      "min_width": null,
      "object_fit": null,
      "object_position": null,
      "order": null,
      "overflow": null,
      "overflow_x": null,
      "overflow_y": null,
      "padding": null,
      "right": null,
      "top": null,
      "visibility": null,
      "width": null
     }
    },
    "7acb879b83e24a3b9e65b155fa4cd875": {
     "model_module": "@jupyter-widgets/base",
     "model_module_version": "1.2.0",
     "model_name": "LayoutModel",
     "state": {
      "_model_module": "@jupyter-widgets/base",
      "_model_module_version": "1.2.0",
      "_model_name": "LayoutModel",
      "_view_count": null,
      "_view_module": "@jupyter-widgets/base",
      "_view_module_version": "1.2.0",
      "_view_name": "LayoutView",
      "align_content": null,
      "align_items": null,
      "align_self": null,
      "border": null,
      "bottom": null,
      "display": null,
      "flex": null,
      "flex_flow": null,
      "grid_area": null,
      "grid_auto_columns": null,
      "grid_auto_flow": null,
      "grid_auto_rows": null,
      "grid_column": null,
      "grid_gap": null,
      "grid_row": null,
      "grid_template_areas": null,
      "grid_template_columns": null,
      "grid_template_rows": null,
      "height": null,
      "justify_content": null,
      "justify_items": null,
      "left": null,
      "margin": null,
      "max_height": null,
      "max_width": null,
      "min_height": null,
      "min_width": null,
      "object_fit": null,
      "object_position": null,
      "order": null,
      "overflow": null,
      "overflow_x": null,
      "overflow_y": null,
      "padding": null,
      "right": null,
      "top": null,
      "visibility": null,
      "width": null
     }
    },
    "7e19b26c1d5d4ef3945f328e187e7730": {
     "model_module": "@jupyter-widgets/controls",
     "model_module_version": "1.5.0",
     "model_name": "HTMLModel",
     "state": {
      "_dom_classes": [],
      "_model_module": "@jupyter-widgets/controls",
      "_model_module_version": "1.5.0",
      "_model_name": "HTMLModel",
      "_view_count": null,
      "_view_module": "@jupyter-widgets/controls",
      "_view_module_version": "1.5.0",
      "_view_name": "HTMLView",
      "description": "",
      "description_tooltip": null,
      "layout": "IPY_MODEL_17f5328ff449427d8d1155d14af2ba93",
      "placeholder": "​",
      "style": "IPY_MODEL_9bc9c809dde540c3bd163c37194cd6a6",
      "value": "Filter: 100%"
     }
    },
    "7e4a49b253e244ecbcd847f17bcc9363": {
     "model_module": "@jupyter-widgets/controls",
     "model_module_version": "1.5.0",
     "model_name": "DescriptionStyleModel",
     "state": {
      "_model_module": "@jupyter-widgets/controls",
      "_model_module_version": "1.5.0",
      "_model_name": "DescriptionStyleModel",
      "_view_count": null,
      "_view_module": "@jupyter-widgets/base",
      "_view_module_version": "1.2.0",
      "_view_name": "StyleView",
      "description_width": ""
     }
    },
    "7e6f37c5f5fa496eb5b7066a90229b90": {
     "model_module": "@jupyter-widgets/controls",
     "model_module_version": "1.5.0",
     "model_name": "HTMLModel",
     "state": {
      "_dom_classes": [],
      "_model_module": "@jupyter-widgets/controls",
      "_model_module_version": "1.5.0",
      "_model_name": "HTMLModel",
      "_view_count": null,
      "_view_module": "@jupyter-widgets/controls",
      "_view_module_version": "1.5.0",
      "_view_name": "HTMLView",
      "description": "",
      "description_tooltip": null,
      "layout": "IPY_MODEL_97d6ceb31b5d4e33a4f5183468ea8597",
      "placeholder": "​",
      "style": "IPY_MODEL_c0af179f4bd44267877325a9fe93ae5f",
      "value": " 4358/4358 [00:19&lt;00:00, 10238.73 examples/s]"
     }
    },
    "7f4a571378704cc499f7bd144661e78a": {
     "model_module": "@jupyter-widgets/controls",
     "model_module_version": "1.5.0",
     "model_name": "DescriptionStyleModel",
     "state": {
      "_model_module": "@jupyter-widgets/controls",
      "_model_module_version": "1.5.0",
      "_model_name": "DescriptionStyleModel",
      "_view_count": null,
      "_view_module": "@jupyter-widgets/base",
      "_view_module_version": "1.2.0",
      "_view_name": "StyleView",
      "description_width": ""
     }
    },
    "7f543f77c3684140a44a5399b126bbf0": {
     "model_module": "@jupyter-widgets/controls",
     "model_module_version": "1.5.0",
     "model_name": "HTMLModel",
     "state": {
      "_dom_classes": [],
      "_model_module": "@jupyter-widgets/controls",
      "_model_module_version": "1.5.0",
      "_model_name": "HTMLModel",
      "_view_count": null,
      "_view_module": "@jupyter-widgets/controls",
      "_view_module_version": "1.5.0",
      "_view_name": "HTMLView",
      "description": "",
      "description_tooltip": null,
      "layout": "IPY_MODEL_a5630599793f47b5a38a659124b0672f",
      "placeholder": "​",
      "style": "IPY_MODEL_c394e1d5884c4cdcb49f8c9849b952fc",
      "value": " 431890/432479 [00:59&lt;00:00, 9048.06 examples/s]"
     }
    },
    "7f6a28f0ee8644b1b732ec0dfa358aa7": {
     "model_module": "@jupyter-widgets/controls",
     "model_module_version": "1.5.0",
     "model_name": "ProgressStyleModel",
     "state": {
      "_model_module": "@jupyter-widgets/controls",
      "_model_module_version": "1.5.0",
      "_model_name": "ProgressStyleModel",
      "_view_count": null,
      "_view_module": "@jupyter-widgets/base",
      "_view_module_version": "1.2.0",
      "_view_name": "StyleView",
      "bar_color": null,
      "description_width": ""
     }
    },
    "810a3a2cafad4dac8c1e9647961d9cac": {
     "model_module": "@jupyter-widgets/controls",
     "model_module_version": "1.5.0",
     "model_name": "HTMLModel",
     "state": {
      "_dom_classes": [],
      "_model_module": "@jupyter-widgets/controls",
      "_model_module_version": "1.5.0",
      "_model_name": "HTMLModel",
      "_view_count": null,
      "_view_module": "@jupyter-widgets/controls",
      "_view_module_version": "1.5.0",
      "_view_name": "HTMLView",
      "description": "",
      "description_tooltip": null,
      "layout": "IPY_MODEL_fe23ec5e5169484db9008c946e59a18a",
      "placeholder": "​",
      "style": "IPY_MODEL_4efe7d8b2d5e4bafbc80c71d0cde4644",
      "value": "Downloading metadata: 100%"
     }
    },
    "8215b1e6e4054087b62fa3dbce420571": {
     "model_module": "@jupyter-widgets/controls",
     "model_module_version": "1.5.0",
     "model_name": "HTMLModel",
     "state": {
      "_dom_classes": [],
      "_model_module": "@jupyter-widgets/controls",
      "_model_module_version": "1.5.0",
      "_model_name": "HTMLModel",
      "_view_count": null,
      "_view_module": "@jupyter-widgets/controls",
      "_view_module_version": "1.5.0",
      "_view_name": "HTMLView",
      "description": "",
      "description_tooltip": null,
      "layout": "IPY_MODEL_b3221d71659d4026b1ed1695d4881239",
      "placeholder": "​",
      "style": "IPY_MODEL_6b886f5ac5e24afea6903fdd59e84bc4",
      "value": " 802000/826663 [00:02&lt;00:00, 302675.78 examples/s]"
     }
    },
    "824ef20c73b743f9a64707f28fe3a4d4": {
     "model_module": "@jupyter-widgets/base",
     "model_module_version": "1.2.0",
     "model_name": "LayoutModel",
     "state": {
      "_model_module": "@jupyter-widgets/base",
      "_model_module_version": "1.2.0",
      "_model_name": "LayoutModel",
      "_view_count": null,
      "_view_module": "@jupyter-widgets/base",
      "_view_module_version": "1.2.0",
      "_view_name": "LayoutView",
      "align_content": null,
      "align_items": null,
      "align_self": null,
      "border": null,
      "bottom": null,
      "display": null,
      "flex": null,
      "flex_flow": null,
      "grid_area": null,
      "grid_auto_columns": null,
      "grid_auto_flow": null,
      "grid_auto_rows": null,
      "grid_column": null,
      "grid_gap": null,
      "grid_row": null,
      "grid_template_areas": null,
      "grid_template_columns": null,
      "grid_template_rows": null,
      "height": null,
      "justify_content": null,
      "justify_items": null,
      "left": null,
      "margin": null,
      "max_height": null,
      "max_width": null,
      "min_height": null,
      "min_width": null,
      "object_fit": null,
      "object_position": null,
      "order": null,
      "overflow": null,
      "overflow_x": null,
      "overflow_y": null,
      "padding": null,
      "right": null,
      "top": null,
      "visibility": null,
      "width": null
     }
    },
    "874f21723d554d48865360a67e0936d4": {
     "model_module": "@jupyter-widgets/base",
     "model_module_version": "1.2.0",
     "model_name": "LayoutModel",
     "state": {
      "_model_module": "@jupyter-widgets/base",
      "_model_module_version": "1.2.0",
      "_model_name": "LayoutModel",
      "_view_count": null,
      "_view_module": "@jupyter-widgets/base",
      "_view_module_version": "1.2.0",
      "_view_name": "LayoutView",
      "align_content": null,
      "align_items": null,
      "align_self": null,
      "border": null,
      "bottom": null,
      "display": null,
      "flex": null,
      "flex_flow": null,
      "grid_area": null,
      "grid_auto_columns": null,
      "grid_auto_flow": null,
      "grid_auto_rows": null,
      "grid_column": null,
      "grid_gap": null,
      "grid_row": null,
      "grid_template_areas": null,
      "grid_template_columns": null,
      "grid_template_rows": null,
      "height": null,
      "justify_content": null,
      "justify_items": null,
      "left": null,
      "margin": null,
      "max_height": null,
      "max_width": null,
      "min_height": null,
      "min_width": null,
      "object_fit": null,
      "object_position": null,
      "order": null,
      "overflow": null,
      "overflow_x": null,
      "overflow_y": null,
      "padding": null,
      "right": null,
      "top": null,
      "visibility": null,
      "width": null
     }
    },
    "88eae98c137e47f68c373be08678ca78": {
     "model_module": "@jupyter-widgets/controls",
     "model_module_version": "1.5.0",
     "model_name": "DescriptionStyleModel",
     "state": {
      "_model_module": "@jupyter-widgets/controls",
      "_model_module_version": "1.5.0",
      "_model_name": "DescriptionStyleModel",
      "_view_count": null,
      "_view_module": "@jupyter-widgets/base",
      "_view_module_version": "1.2.0",
      "_view_name": "StyleView",
      "description_width": ""
     }
    },
    "895185b1c09841afbff15f777ccbfc95": {
     "model_module": "@jupyter-widgets/controls",
     "model_module_version": "1.5.0",
     "model_name": "ProgressStyleModel",
     "state": {
      "_model_module": "@jupyter-widgets/controls",
      "_model_module_version": "1.5.0",
      "_model_name": "ProgressStyleModel",
      "_view_count": null,
      "_view_module": "@jupyter-widgets/base",
      "_view_module_version": "1.2.0",
      "_view_name": "StyleView",
      "bar_color": null,
      "description_width": ""
     }
    },
    "8965eca8c7a14035b8003ad6ad80787d": {
     "model_module": "@jupyter-widgets/base",
     "model_module_version": "1.2.0",
     "model_name": "LayoutModel",
     "state": {
      "_model_module": "@jupyter-widgets/base",
      "_model_module_version": "1.2.0",
      "_model_name": "LayoutModel",
      "_view_count": null,
      "_view_module": "@jupyter-widgets/base",
      "_view_module_version": "1.2.0",
      "_view_name": "LayoutView",
      "align_content": null,
      "align_items": null,
      "align_self": null,
      "border": null,
      "bottom": null,
      "display": null,
      "flex": null,
      "flex_flow": null,
      "grid_area": null,
      "grid_auto_columns": null,
      "grid_auto_flow": null,
      "grid_auto_rows": null,
      "grid_column": null,
      "grid_gap": null,
      "grid_row": null,
      "grid_template_areas": null,
      "grid_template_columns": null,
      "grid_template_rows": null,
      "height": null,
      "justify_content": null,
      "justify_items": null,
      "left": null,
      "margin": null,
      "max_height": null,
      "max_width": null,
      "min_height": null,
      "min_width": null,
      "object_fit": null,
      "object_position": null,
      "order": null,
      "overflow": null,
      "overflow_x": null,
      "overflow_y": null,
      "padding": null,
      "right": null,
      "top": null,
      "visibility": null,
      "width": null
     }
    },
    "89f8a34632264ed7ab272ecf6f9a75f2": {
     "model_module": "@jupyter-widgets/controls",
     "model_module_version": "1.5.0",
     "model_name": "FloatProgressModel",
     "state": {
      "_dom_classes": [],
      "_model_module": "@jupyter-widgets/controls",
      "_model_module_version": "1.5.0",
      "_model_name": "FloatProgressModel",
      "_view_count": null,
      "_view_module": "@jupyter-widgets/controls",
      "_view_module_version": "1.5.0",
      "_view_name": "ProgressView",
      "bar_style": "",
      "description": "",
      "description_tooltip": null,
      "layout": "IPY_MODEL_ecc03a945e114299a2902c40158b1005",
      "max": 296705,
      "min": 0,
      "orientation": "horizontal",
      "style": "IPY_MODEL_34329ea3357446f594cad4b5b3a6349b",
      "value": 296705
     }
    },
    "8a64825340c64130bb0db2b19bd9d8d8": {
     "model_module": "@jupyter-widgets/controls",
     "model_module_version": "1.5.0",
     "model_name": "FloatProgressModel",
     "state": {
      "_dom_classes": [],
      "_model_module": "@jupyter-widgets/controls",
      "_model_module_version": "1.5.0",
      "_model_name": "FloatProgressModel",
      "_view_count": null,
      "_view_module": "@jupyter-widgets/controls",
      "_view_module_version": "1.5.0",
      "_view_name": "ProgressView",
      "bar_style": "",
      "description": "",
      "description_tooltip": null,
      "layout": "IPY_MODEL_824ef20c73b743f9a64707f28fe3a4d4",
      "max": 1165029,
      "min": 0,
      "orientation": "horizontal",
      "style": "IPY_MODEL_fd1bc4186c06414a8909381a4fae5189",
      "value": 1165029
     }
    },
    "8af6f0d46419400eb3a7e9bf443e5451": {
     "model_module": "@jupyter-widgets/controls",
     "model_module_version": "1.5.0",
     "model_name": "HBoxModel",
     "state": {
      "_dom_classes": [],
      "_model_module": "@jupyter-widgets/controls",
      "_model_module_version": "1.5.0",
      "_model_name": "HBoxModel",
      "_view_count": null,
      "_view_module": "@jupyter-widgets/controls",
      "_view_module_version": "1.5.0",
      "_view_name": "HBoxView",
      "box_style": "",
      "children": [
       "IPY_MODEL_7e19b26c1d5d4ef3945f328e187e7730",
       "IPY_MODEL_718cdc645f414ced84bbc24d55a67420",
       "IPY_MODEL_cae8b410f39046768606a1aa88ccc4ed"
      ],
      "layout": "IPY_MODEL_fe6ddd8cf564431ebbcdca0305c80684"
     }
    },
    "8d0d24afcbc740d1826cb3843437e796": {
     "model_module": "@jupyter-widgets/base",
     "model_module_version": "1.2.0",
     "model_name": "LayoutModel",
     "state": {
      "_model_module": "@jupyter-widgets/base",
      "_model_module_version": "1.2.0",
      "_model_name": "LayoutModel",
      "_view_count": null,
      "_view_module": "@jupyter-widgets/base",
      "_view_module_version": "1.2.0",
      "_view_name": "LayoutView",
      "align_content": null,
      "align_items": null,
      "align_self": null,
      "border": null,
      "bottom": null,
      "display": null,
      "flex": null,
      "flex_flow": null,
      "grid_area": null,
      "grid_auto_columns": null,
      "grid_auto_flow": null,
      "grid_auto_rows": null,
      "grid_column": null,
      "grid_gap": null,
      "grid_row": null,
      "grid_template_areas": null,
      "grid_template_columns": null,
      "grid_template_rows": null,
      "height": null,
      "justify_content": null,
      "justify_items": null,
      "left": null,
      "margin": null,
      "max_height": null,
      "max_width": null,
      "min_height": null,
      "min_width": null,
      "object_fit": null,
      "object_position": null,
      "order": null,
      "overflow": null,
      "overflow_x": null,
      "overflow_y": null,
      "padding": null,
      "right": null,
      "top": null,
      "visibility": null,
      "width": null
     }
    },
    "8d3495eaf48443919be6e49c27546af4": {
     "model_module": "@jupyter-widgets/controls",
     "model_module_version": "1.5.0",
     "model_name": "DescriptionStyleModel",
     "state": {
      "_model_module": "@jupyter-widgets/controls",
      "_model_module_version": "1.5.0",
      "_model_name": "DescriptionStyleModel",
      "_view_count": null,
      "_view_module": "@jupyter-widgets/base",
      "_view_module_version": "1.2.0",
      "_view_name": "StyleView",
      "description_width": ""
     }
    },
    "8e37a50542f64cc9b480b9e2a5a6e2a3": {
     "model_module": "@jupyter-widgets/base",
     "model_module_version": "1.2.0",
     "model_name": "LayoutModel",
     "state": {
      "_model_module": "@jupyter-widgets/base",
      "_model_module_version": "1.2.0",
      "_model_name": "LayoutModel",
      "_view_count": null,
      "_view_module": "@jupyter-widgets/base",
      "_view_module_version": "1.2.0",
      "_view_name": "LayoutView",
      "align_content": null,
      "align_items": null,
      "align_self": null,
      "border": null,
      "bottom": null,
      "display": null,
      "flex": null,
      "flex_flow": null,
      "grid_area": null,
      "grid_auto_columns": null,
      "grid_auto_flow": null,
      "grid_auto_rows": null,
      "grid_column": null,
      "grid_gap": null,
      "grid_row": null,
      "grid_template_areas": null,
      "grid_template_columns": null,
      "grid_template_rows": null,
      "height": null,
      "justify_content": null,
      "justify_items": null,
      "left": null,
      "margin": null,
      "max_height": null,
      "max_width": null,
      "min_height": null,
      "min_width": null,
      "object_fit": null,
      "object_position": null,
      "order": null,
      "overflow": null,
      "overflow_x": null,
      "overflow_y": null,
      "padding": null,
      "right": null,
      "top": null,
      "visibility": null,
      "width": null
     }
    },
    "8f9b7c10edae4dc9be99b519679c7254": {
     "model_module": "@jupyter-widgets/controls",
     "model_module_version": "1.5.0",
     "model_name": "FloatProgressModel",
     "state": {
      "_dom_classes": [],
      "_model_module": "@jupyter-widgets/controls",
      "_model_module_version": "1.5.0",
      "_model_name": "FloatProgressModel",
      "_view_count": null,
      "_view_module": "@jupyter-widgets/controls",
      "_view_module_version": "1.5.0",
      "_view_name": "ProgressView",
      "bar_style": "",
      "description": "",
      "description_tooltip": null,
      "layout": "IPY_MODEL_2fa88a9782354cd09a02949b58d17e7f",
      "max": 4358,
      "min": 0,
      "orientation": "horizontal",
      "style": "IPY_MODEL_98031a7c2e654983bcd4c9b198942468",
      "value": 4358
     }
    },
    "9035b1af75b74be8968df50de6ead0bc": {
     "model_module": "@jupyter-widgets/controls",
     "model_module_version": "1.5.0",
     "model_name": "DescriptionStyleModel",
     "state": {
      "_model_module": "@jupyter-widgets/controls",
      "_model_module_version": "1.5.0",
      "_model_name": "DescriptionStyleModel",
      "_view_count": null,
      "_view_module": "@jupyter-widgets/base",
      "_view_module_version": "1.2.0",
      "_view_name": "StyleView",
      "description_width": ""
     }
    },
    "908f3478d31d4bb3969bad70ce11f8d3": {
     "model_module": "@jupyter-widgets/controls",
     "model_module_version": "1.5.0",
     "model_name": "HBoxModel",
     "state": {
      "_dom_classes": [],
      "_model_module": "@jupyter-widgets/controls",
      "_model_module_version": "1.5.0",
      "_model_name": "HBoxModel",
      "_view_count": null,
      "_view_module": "@jupyter-widgets/controls",
      "_view_module_version": "1.5.0",
      "_view_name": "HBoxView",
      "box_style": "",
      "children": [
       "IPY_MODEL_810a3a2cafad4dac8c1e9647961d9cac",
       "IPY_MODEL_50721311a9ea41aa8e43d6335169894d",
       "IPY_MODEL_b7836293261e4802b82300320f65ddf5"
      ],
      "layout": "IPY_MODEL_2f00401b8465447988064680e02284fa"
     }
    },
    "97d6ceb31b5d4e33a4f5183468ea8597": {
     "model_module": "@jupyter-widgets/base",
     "model_module_version": "1.2.0",
     "model_name": "LayoutModel",
     "state": {
      "_model_module": "@jupyter-widgets/base",
      "_model_module_version": "1.2.0",
      "_model_name": "LayoutModel",
      "_view_count": null,
      "_view_module": "@jupyter-widgets/base",
      "_view_module_version": "1.2.0",
      "_view_name": "LayoutView",
      "align_content": null,
      "align_items": null,
      "align_self": null,
      "border": null,
      "bottom": null,
      "display": null,
      "flex": null,
      "flex_flow": null,
      "grid_area": null,
      "grid_auto_columns": null,
      "grid_auto_flow": null,
      "grid_auto_rows": null,
      "grid_column": null,
      "grid_gap": null,
      "grid_row": null,
      "grid_template_areas": null,
      "grid_template_columns": null,
      "grid_template_rows": null,
      "height": null,
      "justify_content": null,
      "justify_items": null,
      "left": null,
      "margin": null,
      "max_height": null,
      "max_width": null,
      "min_height": null,
      "min_width": null,
      "object_fit": null,
      "object_position": null,
      "order": null,
      "overflow": null,
      "overflow_x": null,
      "overflow_y": null,
      "padding": null,
      "right": null,
      "top": null,
      "visibility": null,
      "width": null
     }
    },
    "98031a7c2e654983bcd4c9b198942468": {
     "model_module": "@jupyter-widgets/controls",
     "model_module_version": "1.5.0",
     "model_name": "ProgressStyleModel",
     "state": {
      "_model_module": "@jupyter-widgets/controls",
      "_model_module_version": "1.5.0",
      "_model_name": "ProgressStyleModel",
      "_view_count": null,
      "_view_module": "@jupyter-widgets/base",
      "_view_module_version": "1.2.0",
      "_view_name": "StyleView",
      "bar_color": null,
      "description_width": ""
     }
    },
    "991065e4804c4249bb0752fe94aac26d": {
     "model_module": "@jupyter-widgets/controls",
     "model_module_version": "1.5.0",
     "model_name": "HTMLModel",
     "state": {
      "_dom_classes": [],
      "_model_module": "@jupyter-widgets/controls",
      "_model_module_version": "1.5.0",
      "_model_name": "HTMLModel",
      "_view_count": null,
      "_view_module": "@jupyter-widgets/controls",
      "_view_module_version": "1.5.0",
      "_view_name": "HTMLView",
      "description": "",
      "description_tooltip": null,
      "layout": "IPY_MODEL_7acb879b83e24a3b9e65b155fa4cd875",
      "placeholder": "​",
      "style": "IPY_MODEL_1fca44c8cc5b45dcb7756c62ce82f14d",
      "value": "Map: 100%"
     }
    },
    "999f0164582940a386639cd8c15b7a21": {
     "model_module": "@jupyter-widgets/base",
     "model_module_version": "1.2.0",
     "model_name": "LayoutModel",
     "state": {
      "_model_module": "@jupyter-widgets/base",
      "_model_module_version": "1.2.0",
      "_model_name": "LayoutModel",
      "_view_count": null,
      "_view_module": "@jupyter-widgets/base",
      "_view_module_version": "1.2.0",
      "_view_name": "LayoutView",
      "align_content": null,
      "align_items": null,
      "align_self": null,
      "border": null,
      "bottom": null,
      "display": null,
      "flex": null,
      "flex_flow": null,
      "grid_area": null,
      "grid_auto_columns": null,
      "grid_auto_flow": null,
      "grid_auto_rows": null,
      "grid_column": null,
      "grid_gap": null,
      "grid_row": null,
      "grid_template_areas": null,
      "grid_template_columns": null,
      "grid_template_rows": null,
      "height": null,
      "justify_content": null,
      "justify_items": null,
      "left": null,
      "margin": null,
      "max_height": null,
      "max_width": null,
      "min_height": null,
      "min_width": null,
      "object_fit": null,
      "object_position": null,
      "order": null,
      "overflow": null,
      "overflow_x": null,
      "overflow_y": null,
      "padding": null,
      "right": null,
      "top": null,
      "visibility": null,
      "width": null
     }
    },
    "99b668868cca446491ed5c6535b037af": {
     "model_module": "@jupyter-widgets/base",
     "model_module_version": "1.2.0",
     "model_name": "LayoutModel",
     "state": {
      "_model_module": "@jupyter-widgets/base",
      "_model_module_version": "1.2.0",
      "_model_name": "LayoutModel",
      "_view_count": null,
      "_view_module": "@jupyter-widgets/base",
      "_view_module_version": "1.2.0",
      "_view_name": "LayoutView",
      "align_content": null,
      "align_items": null,
      "align_self": null,
      "border": null,
      "bottom": null,
      "display": null,
      "flex": null,
      "flex_flow": null,
      "grid_area": null,
      "grid_auto_columns": null,
      "grid_auto_flow": null,
      "grid_auto_rows": null,
      "grid_column": null,
      "grid_gap": null,
      "grid_row": null,
      "grid_template_areas": null,
      "grid_template_columns": null,
      "grid_template_rows": null,
      "height": null,
      "justify_content": null,
      "justify_items": null,
      "left": null,
      "margin": null,
      "max_height": null,
      "max_width": null,
      "min_height": null,
      "min_width": null,
      "object_fit": null,
      "object_position": null,
      "order": null,
      "overflow": null,
      "overflow_x": null,
      "overflow_y": null,
      "padding": null,
      "right": null,
      "top": null,
      "visibility": "hidden",
      "width": null
     }
    },
    "99c8a364094149df8223032123cbbcb8": {
     "model_module": "@jupyter-widgets/base",
     "model_module_version": "1.2.0",
     "model_name": "LayoutModel",
     "state": {
      "_model_module": "@jupyter-widgets/base",
      "_model_module_version": "1.2.0",
      "_model_name": "LayoutModel",
      "_view_count": null,
      "_view_module": "@jupyter-widgets/base",
      "_view_module_version": "1.2.0",
      "_view_name": "LayoutView",
      "align_content": null,
      "align_items": null,
      "align_self": null,
      "border": null,
      "bottom": null,
      "display": null,
      "flex": null,
      "flex_flow": null,
      "grid_area": null,
      "grid_auto_columns": null,
      "grid_auto_flow": null,
      "grid_auto_rows": null,
      "grid_column": null,
      "grid_gap": null,
      "grid_row": null,
      "grid_template_areas": null,
      "grid_template_columns": null,
      "grid_template_rows": null,
      "height": null,
      "justify_content": null,
      "justify_items": null,
      "left": null,
      "margin": null,
      "max_height": null,
      "max_width": null,
      "min_height": null,
      "min_width": null,
      "object_fit": null,
      "object_position": null,
      "order": null,
      "overflow": null,
      "overflow_x": null,
      "overflow_y": null,
      "padding": null,
      "right": null,
      "top": null,
      "visibility": null,
      "width": null
     }
    },
    "9bc9c809dde540c3bd163c37194cd6a6": {
     "model_module": "@jupyter-widgets/controls",
     "model_module_version": "1.5.0",
     "model_name": "DescriptionStyleModel",
     "state": {
      "_model_module": "@jupyter-widgets/controls",
      "_model_module_version": "1.5.0",
      "_model_name": "DescriptionStyleModel",
      "_view_count": null,
      "_view_module": "@jupyter-widgets/base",
      "_view_module_version": "1.2.0",
      "_view_name": "StyleView",
      "description_width": ""
     }
    },
    "9c095ced5a8949a686e906f04dce009f": {
     "model_module": "@jupyter-widgets/controls",
     "model_module_version": "1.5.0",
     "model_name": "DescriptionStyleModel",
     "state": {
      "_model_module": "@jupyter-widgets/controls",
      "_model_module_version": "1.5.0",
      "_model_name": "DescriptionStyleModel",
      "_view_count": null,
      "_view_module": "@jupyter-widgets/base",
      "_view_module_version": "1.2.0",
      "_view_name": "StyleView",
      "description_width": ""
     }
    },
    "9e957abbac0c487885b5783dc6e975bc": {
     "model_module": "@jupyter-widgets/base",
     "model_module_version": "1.2.0",
     "model_name": "LayoutModel",
     "state": {
      "_model_module": "@jupyter-widgets/base",
      "_model_module_version": "1.2.0",
      "_model_name": "LayoutModel",
      "_view_count": null,
      "_view_module": "@jupyter-widgets/base",
      "_view_module_version": "1.2.0",
      "_view_name": "LayoutView",
      "align_content": null,
      "align_items": null,
      "align_self": null,
      "border": null,
      "bottom": null,
      "display": null,
      "flex": null,
      "flex_flow": null,
      "grid_area": null,
      "grid_auto_columns": null,
      "grid_auto_flow": null,
      "grid_auto_rows": null,
      "grid_column": null,
      "grid_gap": null,
      "grid_row": null,
      "grid_template_areas": null,
      "grid_template_columns": null,
      "grid_template_rows": null,
      "height": null,
      "justify_content": null,
      "justify_items": null,
      "left": null,
      "margin": null,
      "max_height": null,
      "max_width": null,
      "min_height": null,
      "min_width": null,
      "object_fit": null,
      "object_position": null,
      "order": null,
      "overflow": null,
      "overflow_x": null,
      "overflow_y": null,
      "padding": null,
      "right": null,
      "top": null,
      "visibility": "hidden",
      "width": null
     }
    },
    "9fd582e417bf42a58b721fad84635eb5": {
     "model_module": "@jupyter-widgets/base",
     "model_module_version": "1.2.0",
     "model_name": "LayoutModel",
     "state": {
      "_model_module": "@jupyter-widgets/base",
      "_model_module_version": "1.2.0",
      "_model_name": "LayoutModel",
      "_view_count": null,
      "_view_module": "@jupyter-widgets/base",
      "_view_module_version": "1.2.0",
      "_view_name": "LayoutView",
      "align_content": null,
      "align_items": null,
      "align_self": null,
      "border": null,
      "bottom": null,
      "display": null,
      "flex": null,
      "flex_flow": null,
      "grid_area": null,
      "grid_auto_columns": null,
      "grid_auto_flow": null,
      "grid_auto_rows": null,
      "grid_column": null,
      "grid_gap": null,
      "grid_row": null,
      "grid_template_areas": null,
      "grid_template_columns": null,
      "grid_template_rows": null,
      "height": null,
      "justify_content": null,
      "justify_items": null,
      "left": null,
      "margin": null,
      "max_height": null,
      "max_width": null,
      "min_height": null,
      "min_width": null,
      "object_fit": null,
      "object_position": null,
      "order": null,
      "overflow": null,
      "overflow_x": null,
      "overflow_y": null,
      "padding": null,
      "right": null,
      "top": null,
      "visibility": null,
      "width": null
     }
    },
    "a0e119ec72c945df8e35384abd01c879": {
     "model_module": "@jupyter-widgets/controls",
     "model_module_version": "1.5.0",
     "model_name": "DescriptionStyleModel",
     "state": {
      "_model_module": "@jupyter-widgets/controls",
      "_model_module_version": "1.5.0",
      "_model_name": "DescriptionStyleModel",
      "_view_count": null,
      "_view_module": "@jupyter-widgets/base",
      "_view_module_version": "1.2.0",
      "_view_name": "StyleView",
      "description_width": ""
     }
    },
    "a1686fe37c8e43968ae8b6da322f92e3": {
     "model_module": "@jupyter-widgets/controls",
     "model_module_version": "1.5.0",
     "model_name": "FloatProgressModel",
     "state": {
      "_dom_classes": [],
      "_model_module": "@jupyter-widgets/controls",
      "_model_module_version": "1.5.0",
      "_model_name": "FloatProgressModel",
      "_view_count": null,
      "_view_module": "@jupyter-widgets/controls",
      "_view_module_version": "1.5.0",
      "_view_name": "ProgressView",
      "bar_style": "",
      "description": "",
      "description_tooltip": null,
      "layout": "IPY_MODEL_b016ad1941c14d809b2a981e3ae63ee7",
      "max": 826663,
      "min": 0,
      "orientation": "horizontal",
      "style": "IPY_MODEL_22ff805b3f974143a99990c4e414adaf",
      "value": 826663
     }
    },
    "a265eaf7642446d6aaa12dadf1c49ce6": {
     "model_module": "@jupyter-widgets/base",
     "model_module_version": "1.2.0",
     "model_name": "LayoutModel",
     "state": {
      "_model_module": "@jupyter-widgets/base",
      "_model_module_version": "1.2.0",
      "_model_name": "LayoutModel",
      "_view_count": null,
      "_view_module": "@jupyter-widgets/base",
      "_view_module_version": "1.2.0",
      "_view_name": "LayoutView",
      "align_content": null,
      "align_items": null,
      "align_self": null,
      "border": null,
      "bottom": null,
      "display": null,
      "flex": null,
      "flex_flow": null,
      "grid_area": null,
      "grid_auto_columns": null,
      "grid_auto_flow": null,
      "grid_auto_rows": null,
      "grid_column": null,
      "grid_gap": null,
      "grid_row": null,
      "grid_template_areas": null,
      "grid_template_columns": null,
      "grid_template_rows": null,
      "height": null,
      "justify_content": null,
      "justify_items": null,
      "left": null,
      "margin": null,
      "max_height": null,
      "max_width": null,
      "min_height": null,
      "min_width": null,
      "object_fit": null,
      "object_position": null,
      "order": null,
      "overflow": null,
      "overflow_x": null,
      "overflow_y": null,
      "padding": null,
      "right": null,
      "top": null,
      "visibility": null,
      "width": null
     }
    },
    "a5630599793f47b5a38a659124b0672f": {
     "model_module": "@jupyter-widgets/base",
     "model_module_version": "1.2.0",
     "model_name": "LayoutModel",
     "state": {
      "_model_module": "@jupyter-widgets/base",
      "_model_module_version": "1.2.0",
      "_model_name": "LayoutModel",
      "_view_count": null,
      "_view_module": "@jupyter-widgets/base",
      "_view_module_version": "1.2.0",
      "_view_name": "LayoutView",
      "align_content": null,
      "align_items": null,
      "align_self": null,
      "border": null,
      "bottom": null,
      "display": null,
      "flex": null,
      "flex_flow": null,
      "grid_area": null,
      "grid_auto_columns": null,
      "grid_auto_flow": null,
      "grid_auto_rows": null,
      "grid_column": null,
      "grid_gap": null,
      "grid_row": null,
      "grid_template_areas": null,
      "grid_template_columns": null,
      "grid_template_rows": null,
      "height": null,
      "justify_content": null,
      "justify_items": null,
      "left": null,
      "margin": null,
      "max_height": null,
      "max_width": null,
      "min_height": null,
      "min_width": null,
      "object_fit": null,
      "object_position": null,
      "order": null,
      "overflow": null,
      "overflow_x": null,
      "overflow_y": null,
      "padding": null,
      "right": null,
      "top": null,
      "visibility": null,
      "width": null
     }
    },
    "a6dd15c2c54e4604be40bcb5fa706911": {
     "model_module": "@jupyter-widgets/controls",
     "model_module_version": "1.5.0",
     "model_name": "HTMLModel",
     "state": {
      "_dom_classes": [],
      "_model_module": "@jupyter-widgets/controls",
      "_model_module_version": "1.5.0",
      "_model_name": "HTMLModel",
      "_view_count": null,
      "_view_module": "@jupyter-widgets/controls",
      "_view_module_version": "1.5.0",
      "_view_name": "HTMLView",
      "description": "",
      "description_tooltip": null,
      "layout": "IPY_MODEL_f2992081e02641c6b4a93872070c7324",
      "placeholder": "​",
      "style": "IPY_MODEL_5c3a309fed5a4965b53f0cef0a9f98ac",
      "value": " 363805/363805 [06:38&lt;00:00, 914.23 examples/s]"
     }
    },
    "a7b2547e4f8241a0b2797dd192ccb07d": {
     "model_module": "@jupyter-widgets/base",
     "model_module_version": "1.2.0",
     "model_name": "LayoutModel",
     "state": {
      "_model_module": "@jupyter-widgets/base",
      "_model_module_version": "1.2.0",
      "_model_name": "LayoutModel",
      "_view_count": null,
      "_view_module": "@jupyter-widgets/base",
      "_view_module_version": "1.2.0",
      "_view_name": "LayoutView",
      "align_content": null,
      "align_items": null,
      "align_self": null,
      "border": null,
      "bottom": null,
      "display": null,
      "flex": null,
      "flex_flow": null,
      "grid_area": null,
      "grid_auto_columns": null,
      "grid_auto_flow": null,
      "grid_auto_rows": null,
      "grid_column": null,
      "grid_gap": null,
      "grid_row": null,
      "grid_template_areas": null,
      "grid_template_columns": null,
      "grid_template_rows": null,
      "height": null,
      "justify_content": null,
      "justify_items": null,
      "left": null,
      "margin": null,
      "max_height": null,
      "max_width": null,
      "min_height": null,
      "min_width": null,
      "object_fit": null,
      "object_position": null,
      "order": null,
      "overflow": null,
      "overflow_x": null,
      "overflow_y": null,
      "padding": null,
      "right": null,
      "top": null,
      "visibility": null,
      "width": null
     }
    },
    "aa4b667e5d1c407fb55b71e453c4f738": {
     "model_module": "@jupyter-widgets/controls",
     "model_module_version": "1.5.0",
     "model_name": "DescriptionStyleModel",
     "state": {
      "_model_module": "@jupyter-widgets/controls",
      "_model_module_version": "1.5.0",
      "_model_name": "DescriptionStyleModel",
      "_view_count": null,
      "_view_module": "@jupyter-widgets/base",
      "_view_module_version": "1.2.0",
      "_view_name": "StyleView",
      "description_width": ""
     }
    },
    "ab897f61a6c6407898dc08c3b8dfcc4a": {
     "model_module": "@jupyter-widgets/controls",
     "model_module_version": "1.5.0",
     "model_name": "HBoxModel",
     "state": {
      "_dom_classes": [],
      "_model_module": "@jupyter-widgets/controls",
      "_model_module_version": "1.5.0",
      "_model_name": "HBoxModel",
      "_view_count": null,
      "_view_module": "@jupyter-widgets/controls",
      "_view_module_version": "1.5.0",
      "_view_name": "HBoxView",
      "box_style": "",
      "children": [
       "IPY_MODEL_b1a04c62b3cb4498998d0d0daed80a35",
       "IPY_MODEL_cb6c89019f234618bf3489f9d4697b51",
       "IPY_MODEL_3b8bd7b153e94858a4ee16ce20bed969"
      ],
      "layout": "IPY_MODEL_874f21723d554d48865360a67e0936d4"
     }
    },
    "ad183cc295b84908988d341dc7fac5f1": {
     "model_module": "@jupyter-widgets/controls",
     "model_module_version": "1.5.0",
     "model_name": "FloatProgressModel",
     "state": {
      "_dom_classes": [],
      "_model_module": "@jupyter-widgets/controls",
      "_model_module_version": "1.5.0",
      "_model_name": "FloatProgressModel",
      "_view_count": null,
      "_view_module": "@jupyter-widgets/controls",
      "_view_module_version": "1.5.0",
      "_view_name": "ProgressView",
      "bar_style": "",
      "description": "",
      "description_tooltip": null,
      "layout": "IPY_MODEL_dc4d419fc8d64c88a718f86742044752",
      "max": 432479,
      "min": 0,
      "orientation": "horizontal",
      "style": "IPY_MODEL_0b9333c10a724b4d898ce386f533d18c",
      "value": 432479
     }
    },
    "ada37dd5ab6f4bc393bb4d55157a8167": {
     "model_module": "@jupyter-widgets/controls",
     "model_module_version": "1.5.0",
     "model_name": "HBoxModel",
     "state": {
      "_dom_classes": [],
      "_model_module": "@jupyter-widgets/controls",
      "_model_module_version": "1.5.0",
      "_model_name": "HBoxModel",
      "_view_count": null,
      "_view_module": "@jupyter-widgets/controls",
      "_view_module_version": "1.5.0",
      "_view_name": "HBoxView",
      "box_style": "",
      "children": [
       "IPY_MODEL_6dba131fb5d646099125d747c9c508c9",
       "IPY_MODEL_d382d1ee85774cf1a0c25fb040b2742f",
       "IPY_MODEL_6381783b10304394b8f5cea5a8b6c6a9"
      ],
      "layout": "IPY_MODEL_cf14531217eb4007aa7a3c26c8a475ff"
     }
    },
    "adf31c8f271a4f36972655d3e332efa4": {
     "model_module": "@jupyter-widgets/base",
     "model_module_version": "1.2.0",
     "model_name": "LayoutModel",
     "state": {
      "_model_module": "@jupyter-widgets/base",
      "_model_module_version": "1.2.0",
      "_model_name": "LayoutModel",
      "_view_count": null,
      "_view_module": "@jupyter-widgets/base",
      "_view_module_version": "1.2.0",
      "_view_name": "LayoutView",
      "align_content": null,
      "align_items": null,
      "align_self": null,
      "border": null,
      "bottom": null,
      "display": null,
      "flex": null,
      "flex_flow": null,
      "grid_area": null,
      "grid_auto_columns": null,
      "grid_auto_flow": null,
      "grid_auto_rows": null,
      "grid_column": null,
      "grid_gap": null,
      "grid_row": null,
      "grid_template_areas": null,
      "grid_template_columns": null,
      "grid_template_rows": null,
      "height": null,
      "justify_content": null,
      "justify_items": null,
      "left": null,
      "margin": null,
      "max_height": null,
      "max_width": null,
      "min_height": null,
      "min_width": null,
      "object_fit": null,
      "object_position": null,
      "order": null,
      "overflow": null,
      "overflow_x": null,
      "overflow_y": null,
      "padding": null,
      "right": null,
      "top": null,
      "visibility": "hidden",
      "width": null
     }
    },
    "b016ad1941c14d809b2a981e3ae63ee7": {
     "model_module": "@jupyter-widgets/base",
     "model_module_version": "1.2.0",
     "model_name": "LayoutModel",
     "state": {
      "_model_module": "@jupyter-widgets/base",
      "_model_module_version": "1.2.0",
      "_model_name": "LayoutModel",
      "_view_count": null,
      "_view_module": "@jupyter-widgets/base",
      "_view_module_version": "1.2.0",
      "_view_name": "LayoutView",
      "align_content": null,
      "align_items": null,
      "align_self": null,
      "border": null,
      "bottom": null,
      "display": null,
      "flex": null,
      "flex_flow": null,
      "grid_area": null,
      "grid_auto_columns": null,
      "grid_auto_flow": null,
      "grid_auto_rows": null,
      "grid_column": null,
      "grid_gap": null,
      "grid_row": null,
      "grid_template_areas": null,
      "grid_template_columns": null,
      "grid_template_rows": null,
      "height": null,
      "justify_content": null,
      "justify_items": null,
      "left": null,
      "margin": null,
      "max_height": null,
      "max_width": null,
      "min_height": null,
      "min_width": null,
      "object_fit": null,
      "object_position": null,
      "order": null,
      "overflow": null,
      "overflow_x": null,
      "overflow_y": null,
      "padding": null,
      "right": null,
      "top": null,
      "visibility": null,
      "width": null
     }
    },
    "b0799fba07424c7b90b79e5840b00f2b": {
     "model_module": "@jupyter-widgets/controls",
     "model_module_version": "1.5.0",
     "model_name": "FloatProgressModel",
     "state": {
      "_dom_classes": [],
      "_model_module": "@jupyter-widgets/controls",
      "_model_module_version": "1.5.0",
      "_model_name": "FloatProgressModel",
      "_view_count": null,
      "_view_module": "@jupyter-widgets/controls",
      "_view_module_version": "1.5.0",
      "_view_name": "ProgressView",
      "bar_style": "",
      "description": "",
      "description_tooltip": null,
      "layout": "IPY_MODEL_3945fc931f084af8a3e34c2bce6d7ae3",
      "max": 521591,
      "min": 0,
      "orientation": "horizontal",
      "style": "IPY_MODEL_68c18fde1c3f4e47840ca4f572587022",
      "value": 521591
     }
    },
    "b1a04c62b3cb4498998d0d0daed80a35": {
     "model_module": "@jupyter-widgets/controls",
     "model_module_version": "1.5.0",
     "model_name": "HTMLModel",
     "state": {
      "_dom_classes": [],
      "_model_module": "@jupyter-widgets/controls",
      "_model_module_version": "1.5.0",
      "_model_name": "HTMLModel",
      "_view_count": null,
      "_view_module": "@jupyter-widgets/controls",
      "_view_module_version": "1.5.0",
      "_view_name": "HTMLView",
      "description": "",
      "description_tooltip": null,
      "layout": "IPY_MODEL_485b4e28461e4a648f7152e00505d466",
      "placeholder": "​",
      "style": "IPY_MODEL_516ae6d358d64047b3e6bd1da6ab3c7f",
      "value": "Downloading data: 100%"
     }
    },
    "b271f2f129ca4634ab692d14d7b40a20": {
     "model_module": "@jupyter-widgets/base",
     "model_module_version": "1.2.0",
     "model_name": "LayoutModel",
     "state": {
      "_model_module": "@jupyter-widgets/base",
      "_model_module_version": "1.2.0",
      "_model_name": "LayoutModel",
      "_view_count": null,
      "_view_module": "@jupyter-widgets/base",
      "_view_module_version": "1.2.0",
      "_view_name": "LayoutView",
      "align_content": null,
      "align_items": null,
      "align_self": null,
      "border": null,
      "bottom": null,
      "display": null,
      "flex": null,
      "flex_flow": null,
      "grid_area": null,
      "grid_auto_columns": null,
      "grid_auto_flow": null,
      "grid_auto_rows": null,
      "grid_column": null,
      "grid_gap": null,
      "grid_row": null,
      "grid_template_areas": null,
      "grid_template_columns": null,
      "grid_template_rows": null,
      "height": null,
      "justify_content": null,
      "justify_items": null,
      "left": null,
      "margin": null,
      "max_height": null,
      "max_width": null,
      "min_height": null,
      "min_width": null,
      "object_fit": null,
      "object_position": null,
      "order": null,
      "overflow": null,
      "overflow_x": null,
      "overflow_y": null,
      "padding": null,
      "right": null,
      "top": null,
      "visibility": null,
      "width": null
     }
    },
    "b2b8f1b3407a48abaa1b89bb2167a743": {
     "model_module": "@jupyter-widgets/base",
     "model_module_version": "1.2.0",
     "model_name": "LayoutModel",
     "state": {
      "_model_module": "@jupyter-widgets/base",
      "_model_module_version": "1.2.0",
      "_model_name": "LayoutModel",
      "_view_count": null,
      "_view_module": "@jupyter-widgets/base",
      "_view_module_version": "1.2.0",
      "_view_name": "LayoutView",
      "align_content": null,
      "align_items": null,
      "align_self": null,
      "border": null,
      "bottom": null,
      "display": null,
      "flex": null,
      "flex_flow": null,
      "grid_area": null,
      "grid_auto_columns": null,
      "grid_auto_flow": null,
      "grid_auto_rows": null,
      "grid_column": null,
      "grid_gap": null,
      "grid_row": null,
      "grid_template_areas": null,
      "grid_template_columns": null,
      "grid_template_rows": null,
      "height": null,
      "justify_content": null,
      "justify_items": null,
      "left": null,
      "margin": null,
      "max_height": null,
      "max_width": null,
      "min_height": null,
      "min_width": null,
      "object_fit": null,
      "object_position": null,
      "order": null,
      "overflow": null,
      "overflow_x": null,
      "overflow_y": null,
      "padding": null,
      "right": null,
      "top": null,
      "visibility": null,
      "width": null
     }
    },
    "b3221d71659d4026b1ed1695d4881239": {
     "model_module": "@jupyter-widgets/base",
     "model_module_version": "1.2.0",
     "model_name": "LayoutModel",
     "state": {
      "_model_module": "@jupyter-widgets/base",
      "_model_module_version": "1.2.0",
      "_model_name": "LayoutModel",
      "_view_count": null,
      "_view_module": "@jupyter-widgets/base",
      "_view_module_version": "1.2.0",
      "_view_name": "LayoutView",
      "align_content": null,
      "align_items": null,
      "align_self": null,
      "border": null,
      "bottom": null,
      "display": null,
      "flex": null,
      "flex_flow": null,
      "grid_area": null,
      "grid_auto_columns": null,
      "grid_auto_flow": null,
      "grid_auto_rows": null,
      "grid_column": null,
      "grid_gap": null,
      "grid_row": null,
      "grid_template_areas": null,
      "grid_template_columns": null,
      "grid_template_rows": null,
      "height": null,
      "justify_content": null,
      "justify_items": null,
      "left": null,
      "margin": null,
      "max_height": null,
      "max_width": null,
      "min_height": null,
      "min_width": null,
      "object_fit": null,
      "object_position": null,
      "order": null,
      "overflow": null,
      "overflow_x": null,
      "overflow_y": null,
      "padding": null,
      "right": null,
      "top": null,
      "visibility": null,
      "width": null
     }
    },
    "b508882e58504d0fb2fbbb288598c1d6": {
     "model_module": "@jupyter-widgets/controls",
     "model_module_version": "1.5.0",
     "model_name": "DescriptionStyleModel",
     "state": {
      "_model_module": "@jupyter-widgets/controls",
      "_model_module_version": "1.5.0",
      "_model_name": "DescriptionStyleModel",
      "_view_count": null,
      "_view_module": "@jupyter-widgets/base",
      "_view_module_version": "1.2.0",
      "_view_name": "StyleView",
      "description_width": ""
     }
    },
    "b6461ff498f645ea938c2d6a2fc8b9b3": {
     "model_module": "@jupyter-widgets/controls",
     "model_module_version": "1.5.0",
     "model_name": "HBoxModel",
     "state": {
      "_dom_classes": [],
      "_model_module": "@jupyter-widgets/controls",
      "_model_module_version": "1.5.0",
      "_model_name": "HBoxModel",
      "_view_count": null,
      "_view_module": "@jupyter-widgets/controls",
      "_view_module_version": "1.5.0",
      "_view_name": "HBoxView",
      "box_style": "",
      "children": [
       "IPY_MODEL_4820bdf0cffc41e7bfbb908556b57e6f",
       "IPY_MODEL_3d1dd07704ae4b0a8f291ff10dc8a1ad",
       "IPY_MODEL_2b9dfe847dfc4f6885ceca18ebc760c4"
      ],
      "layout": "IPY_MODEL_05bc8433a0c748f39f7085ee7fb41a7f"
     }
    },
    "b7836293261e4802b82300320f65ddf5": {
     "model_module": "@jupyter-widgets/controls",
     "model_module_version": "1.5.0",
     "model_name": "HTMLModel",
     "state": {
      "_dom_classes": [],
      "_model_module": "@jupyter-widgets/controls",
      "_model_module_version": "1.5.0",
      "_model_name": "HTMLModel",
      "_view_count": null,
      "_view_module": "@jupyter-widgets/controls",
      "_view_module_version": "1.5.0",
      "_view_name": "HTMLView",
      "description": "",
      "description_tooltip": null,
      "layout": "IPY_MODEL_dd31fbe092984937bd6f2189f4fd7fd6",
      "placeholder": "​",
      "style": "IPY_MODEL_7f4a571378704cc499f7bd144661e78a",
      "value": " 6.84k/6.84k [00:00&lt;00:00, 124kB/s]"
     }
    },
    "b880a08d82d14a27977f1a98873f5872": {
     "model_module": "@jupyter-widgets/controls",
     "model_module_version": "1.5.0",
     "model_name": "DescriptionStyleModel",
     "state": {
      "_model_module": "@jupyter-widgets/controls",
      "_model_module_version": "1.5.0",
      "_model_name": "DescriptionStyleModel",
      "_view_count": null,
      "_view_module": "@jupyter-widgets/base",
      "_view_module_version": "1.2.0",
      "_view_name": "StyleView",
      "description_width": ""
     }
    },
    "b9a57048a5d64e73ba84c18a64a4114f": {
     "model_module": "@jupyter-widgets/controls",
     "model_module_version": "1.5.0",
     "model_name": "ProgressStyleModel",
     "state": {
      "_model_module": "@jupyter-widgets/controls",
      "_model_module_version": "1.5.0",
      "_model_name": "ProgressStyleModel",
      "_view_count": null,
      "_view_module": "@jupyter-widgets/base",
      "_view_module_version": "1.2.0",
      "_view_name": "StyleView",
      "bar_color": null,
      "description_width": ""
     }
    },
    "b9d73b325f95402fba81f4582a34893a": {
     "model_module": "@jupyter-widgets/base",
     "model_module_version": "1.2.0",
     "model_name": "LayoutModel",
     "state": {
      "_model_module": "@jupyter-widgets/base",
      "_model_module_version": "1.2.0",
      "_model_name": "LayoutModel",
      "_view_count": null,
      "_view_module": "@jupyter-widgets/base",
      "_view_module_version": "1.2.0",
      "_view_name": "LayoutView",
      "align_content": null,
      "align_items": null,
      "align_self": null,
      "border": null,
      "bottom": null,
      "display": null,
      "flex": null,
      "flex_flow": null,
      "grid_area": null,
      "grid_auto_columns": null,
      "grid_auto_flow": null,
      "grid_auto_rows": null,
      "grid_column": null,
      "grid_gap": null,
      "grid_row": null,
      "grid_template_areas": null,
      "grid_template_columns": null,
      "grid_template_rows": null,
      "height": null,
      "justify_content": null,
      "justify_items": null,
      "left": null,
      "margin": null,
      "max_height": null,
      "max_width": null,
      "min_height": null,
      "min_width": null,
      "object_fit": null,
      "object_position": null,
      "order": null,
      "overflow": null,
      "overflow_x": null,
      "overflow_y": null,
      "padding": null,
      "right": null,
      "top": null,
      "visibility": "hidden",
      "width": null
     }
    },
    "bb684df4aaec4553b6cff4b21d5a2da6": {
     "model_module": "@jupyter-widgets/controls",
     "model_module_version": "1.5.0",
     "model_name": "HTMLModel",
     "state": {
      "_dom_classes": [],
      "_model_module": "@jupyter-widgets/controls",
      "_model_module_version": "1.5.0",
      "_model_name": "HTMLModel",
      "_view_count": null,
      "_view_module": "@jupyter-widgets/controls",
      "_view_module_version": "1.5.0",
      "_view_name": "HTMLView",
      "description": "",
      "description_tooltip": null,
      "layout": "IPY_MODEL_fa484a5090c141f5991929293a6e286e",
      "placeholder": "​",
      "style": "IPY_MODEL_a0e119ec72c945df8e35384abd01c879",
      "value": "Downloading readme: 100%"
     }
    },
    "bd53d856f53c478e96e967d41ad409e2": {
     "model_module": "@jupyter-widgets/controls",
     "model_module_version": "1.5.0",
     "model_name": "ProgressStyleModel",
     "state": {
      "_model_module": "@jupyter-widgets/controls",
      "_model_module_version": "1.5.0",
      "_model_name": "ProgressStyleModel",
      "_view_count": null,
      "_view_module": "@jupyter-widgets/base",
      "_view_module_version": "1.2.0",
      "_view_name": "StyleView",
      "bar_color": null,
      "description_width": ""
     }
    },
    "be1692c5310c45b191d89c63a735dc61": {
     "model_module": "@jupyter-widgets/controls",
     "model_module_version": "1.5.0",
     "model_name": "ProgressStyleModel",
     "state": {
      "_model_module": "@jupyter-widgets/controls",
      "_model_module_version": "1.5.0",
      "_model_name": "ProgressStyleModel",
      "_view_count": null,
      "_view_module": "@jupyter-widgets/base",
      "_view_module_version": "1.2.0",
      "_view_name": "StyleView",
      "bar_color": null,
      "description_width": ""
     }
    },
    "be2076b47db14f07ab7fcecc66c9af23": {
     "model_module": "@jupyter-widgets/base",
     "model_module_version": "1.2.0",
     "model_name": "LayoutModel",
     "state": {
      "_model_module": "@jupyter-widgets/base",
      "_model_module_version": "1.2.0",
      "_model_name": "LayoutModel",
      "_view_count": null,
      "_view_module": "@jupyter-widgets/base",
      "_view_module_version": "1.2.0",
      "_view_name": "LayoutView",
      "align_content": null,
      "align_items": null,
      "align_self": null,
      "border": null,
      "bottom": null,
      "display": null,
      "flex": null,
      "flex_flow": null,
      "grid_area": null,
      "grid_auto_columns": null,
      "grid_auto_flow": null,
      "grid_auto_rows": null,
      "grid_column": null,
      "grid_gap": null,
      "grid_row": null,
      "grid_template_areas": null,
      "grid_template_columns": null,
      "grid_template_rows": null,
      "height": null,
      "justify_content": null,
      "justify_items": null,
      "left": null,
      "margin": null,
      "max_height": null,
      "max_width": null,
      "min_height": null,
      "min_width": null,
      "object_fit": null,
      "object_position": null,
      "order": null,
      "overflow": null,
      "overflow_x": null,
      "overflow_y": null,
      "padding": null,
      "right": null,
      "top": null,
      "visibility": null,
      "width": null
     }
    },
    "bec58345685444619a05f969bab3f2c2": {
     "model_module": "@jupyter-widgets/controls",
     "model_module_version": "1.5.0",
     "model_name": "HTMLModel",
     "state": {
      "_dom_classes": [],
      "_model_module": "@jupyter-widgets/controls",
      "_model_module_version": "1.5.0",
      "_model_name": "HTMLModel",
      "_view_count": null,
      "_view_module": "@jupyter-widgets/controls",
      "_view_module_version": "1.5.0",
      "_view_name": "HTMLView",
      "description": "",
      "description_tooltip": null,
      "layout": "IPY_MODEL_9fd582e417bf42a58b721fad84635eb5",
      "placeholder": "​",
      "style": "IPY_MODEL_0a7a233ed48a45f7943a99d69ebfa000",
      "value": " 8.48k/8.48k [00:00&lt;00:00, 336kB/s]"
     }
    },
    "c0224a525d2144e7af3590c89d60169d": {
     "model_module": "@jupyter-widgets/controls",
     "model_module_version": "1.5.0",
     "model_name": "DescriptionStyleModel",
     "state": {
      "_model_module": "@jupyter-widgets/controls",
      "_model_module_version": "1.5.0",
      "_model_name": "DescriptionStyleModel",
      "_view_count": null,
      "_view_module": "@jupyter-widgets/base",
      "_view_module_version": "1.2.0",
      "_view_name": "StyleView",
      "description_width": ""
     }
    },
    "c091994d3dff4beca01e57e30aa0fde7": {
     "model_module": "@jupyter-widgets/controls",
     "model_module_version": "1.5.0",
     "model_name": "HBoxModel",
     "state": {
      "_dom_classes": [],
      "_model_module": "@jupyter-widgets/controls",
      "_model_module_version": "1.5.0",
      "_model_name": "HBoxModel",
      "_view_count": null,
      "_view_module": "@jupyter-widgets/controls",
      "_view_module_version": "1.5.0",
      "_view_name": "HBoxView",
      "box_style": "",
      "children": [
       "IPY_MODEL_bb684df4aaec4553b6cff4b21d5a2da6",
       "IPY_MODEL_4a8c220f893841d2be92ff0f2171635f",
       "IPY_MODEL_eccabfb19170447190b48366ad23ec15"
      ],
      "layout": "IPY_MODEL_a7b2547e4f8241a0b2797dd192ccb07d"
     }
    },
    "c0af179f4bd44267877325a9fe93ae5f": {
     "model_module": "@jupyter-widgets/controls",
     "model_module_version": "1.5.0",
     "model_name": "DescriptionStyleModel",
     "state": {
      "_model_module": "@jupyter-widgets/controls",
      "_model_module_version": "1.5.0",
      "_model_name": "DescriptionStyleModel",
      "_view_count": null,
      "_view_module": "@jupyter-widgets/base",
      "_view_module_version": "1.2.0",
      "_view_name": "StyleView",
      "description_width": ""
     }
    },
    "c394e1d5884c4cdcb49f8c9849b952fc": {
     "model_module": "@jupyter-widgets/controls",
     "model_module_version": "1.5.0",
     "model_name": "DescriptionStyleModel",
     "state": {
      "_model_module": "@jupyter-widgets/controls",
      "_model_module_version": "1.5.0",
      "_model_name": "DescriptionStyleModel",
      "_view_count": null,
      "_view_module": "@jupyter-widgets/base",
      "_view_module_version": "1.2.0",
      "_view_name": "StyleView",
      "description_width": ""
     }
    },
    "c451308c24b24835879d248640d7c6c7": {
     "model_module": "@jupyter-widgets/base",
     "model_module_version": "1.2.0",
     "model_name": "LayoutModel",
     "state": {
      "_model_module": "@jupyter-widgets/base",
      "_model_module_version": "1.2.0",
      "_model_name": "LayoutModel",
      "_view_count": null,
      "_view_module": "@jupyter-widgets/base",
      "_view_module_version": "1.2.0",
      "_view_name": "LayoutView",
      "align_content": null,
      "align_items": null,
      "align_self": null,
      "border": null,
      "bottom": null,
      "display": null,
      "flex": null,
      "flex_flow": null,
      "grid_area": null,
      "grid_auto_columns": null,
      "grid_auto_flow": null,
      "grid_auto_rows": null,
      "grid_column": null,
      "grid_gap": null,
      "grid_row": null,
      "grid_template_areas": null,
      "grid_template_columns": null,
      "grid_template_rows": null,
      "height": null,
      "justify_content": null,
      "justify_items": null,
      "left": null,
      "margin": null,
      "max_height": null,
      "max_width": null,
      "min_height": null,
      "min_width": null,
      "object_fit": null,
      "object_position": null,
      "order": null,
      "overflow": null,
      "overflow_x": null,
      "overflow_y": null,
      "padding": null,
      "right": null,
      "top": null,
      "visibility": null,
      "width": null
     }
    },
    "c53d4b80ce22406caf04caedb52d3123": {
     "model_module": "@jupyter-widgets/base",
     "model_module_version": "1.2.0",
     "model_name": "LayoutModel",
     "state": {
      "_model_module": "@jupyter-widgets/base",
      "_model_module_version": "1.2.0",
      "_model_name": "LayoutModel",
      "_view_count": null,
      "_view_module": "@jupyter-widgets/base",
      "_view_module_version": "1.2.0",
      "_view_name": "LayoutView",
      "align_content": null,
      "align_items": null,
      "align_self": null,
      "border": null,
      "bottom": null,
      "display": null,
      "flex": null,
      "flex_flow": null,
      "grid_area": null,
      "grid_auto_columns": null,
      "grid_auto_flow": null,
      "grid_auto_rows": null,
      "grid_column": null,
      "grid_gap": null,
      "grid_row": null,
      "grid_template_areas": null,
      "grid_template_columns": null,
      "grid_template_rows": null,
      "height": null,
      "justify_content": null,
      "justify_items": null,
      "left": null,
      "margin": null,
      "max_height": null,
      "max_width": null,
      "min_height": null,
      "min_width": null,
      "object_fit": null,
      "object_position": null,
      "order": null,
      "overflow": null,
      "overflow_x": null,
      "overflow_y": null,
      "padding": null,
      "right": null,
      "top": null,
      "visibility": "hidden",
      "width": null
     }
    },
    "c571f69dbc4c4fc6beb4a9319a28855f": {
     "model_module": "@jupyter-widgets/base",
     "model_module_version": "1.2.0",
     "model_name": "LayoutModel",
     "state": {
      "_model_module": "@jupyter-widgets/base",
      "_model_module_version": "1.2.0",
      "_model_name": "LayoutModel",
      "_view_count": null,
      "_view_module": "@jupyter-widgets/base",
      "_view_module_version": "1.2.0",
      "_view_name": "LayoutView",
      "align_content": null,
      "align_items": null,
      "align_self": null,
      "border": null,
      "bottom": null,
      "display": null,
      "flex": null,
      "flex_flow": null,
      "grid_area": null,
      "grid_auto_columns": null,
      "grid_auto_flow": null,
      "grid_auto_rows": null,
      "grid_column": null,
      "grid_gap": null,
      "grid_row": null,
      "grid_template_areas": null,
      "grid_template_columns": null,
      "grid_template_rows": null,
      "height": null,
      "justify_content": null,
      "justify_items": null,
      "left": null,
      "margin": null,
      "max_height": null,
      "max_width": null,
      "min_height": null,
      "min_width": null,
      "object_fit": null,
      "object_position": null,
      "order": null,
      "overflow": null,
      "overflow_x": null,
      "overflow_y": null,
      "padding": null,
      "right": null,
      "top": null,
      "visibility": null,
      "width": null
     }
    },
    "c63b9db7fe2e4f0c9566551e4fe196bd": {
     "model_module": "@jupyter-widgets/controls",
     "model_module_version": "1.5.0",
     "model_name": "ProgressStyleModel",
     "state": {
      "_model_module": "@jupyter-widgets/controls",
      "_model_module_version": "1.5.0",
      "_model_name": "ProgressStyleModel",
      "_view_count": null,
      "_view_module": "@jupyter-widgets/base",
      "_view_module_version": "1.2.0",
      "_view_name": "StyleView",
      "bar_color": null,
      "description_width": ""
     }
    },
    "c9b231fcc38f435aa1dd7b58bbefca1b": {
     "model_module": "@jupyter-widgets/controls",
     "model_module_version": "1.5.0",
     "model_name": "DescriptionStyleModel",
     "state": {
      "_model_module": "@jupyter-widgets/controls",
      "_model_module_version": "1.5.0",
      "_model_name": "DescriptionStyleModel",
      "_view_count": null,
      "_view_module": "@jupyter-widgets/base",
      "_view_module_version": "1.2.0",
      "_view_name": "StyleView",
      "description_width": ""
     }
    },
    "cae8b410f39046768606a1aa88ccc4ed": {
     "model_module": "@jupyter-widgets/controls",
     "model_module_version": "1.5.0",
     "model_name": "HTMLModel",
     "state": {
      "_dom_classes": [],
      "_model_module": "@jupyter-widgets/controls",
      "_model_module_version": "1.5.0",
      "_model_name": "HTMLModel",
      "_view_count": null,
      "_view_module": "@jupyter-widgets/controls",
      "_view_module_version": "1.5.0",
      "_view_name": "HTMLView",
      "description": "",
      "description_tooltip": null,
      "layout": "IPY_MODEL_17a9b412f7614076848275387f128000",
      "placeholder": "​",
      "style": "IPY_MODEL_070788c038944c3d9d837e7a70f2a40c",
      "value": " 400000/401709 [00:06&lt;00:00, 56777.36 examples/s]"
     }
    },
    "cb6c89019f234618bf3489f9d4697b51": {
     "model_module": "@jupyter-widgets/controls",
     "model_module_version": "1.5.0",
     "model_name": "FloatProgressModel",
     "state": {
      "_dom_classes": [],
      "_model_module": "@jupyter-widgets/controls",
      "_model_module_version": "1.5.0",
      "_model_name": "FloatProgressModel",
      "_view_count": null,
      "_view_module": "@jupyter-widgets/controls",
      "_view_module_version": "1.5.0",
      "_view_name": "ProgressView",
      "bar_style": "success",
      "description": "",
      "description_tooltip": null,
      "layout": "IPY_MODEL_b2b8f1b3407a48abaa1b89bb2167a743",
      "max": 190229076,
      "min": 0,
      "orientation": "horizontal",
      "style": "IPY_MODEL_ffec17ca2b93434faa35a59879856491",
      "value": 190229076
     }
    },
    "cc3d1afc8d344a30ae3d5df976bc5db8": {
     "model_module": "@jupyter-widgets/base",
     "model_module_version": "1.2.0",
     "model_name": "LayoutModel",
     "state": {
      "_model_module": "@jupyter-widgets/base",
      "_model_module_version": "1.2.0",
      "_model_name": "LayoutModel",
      "_view_count": null,
      "_view_module": "@jupyter-widgets/base",
      "_view_module_version": "1.2.0",
      "_view_name": "LayoutView",
      "align_content": null,
      "align_items": null,
      "align_self": null,
      "border": null,
      "bottom": null,
      "display": null,
      "flex": null,
      "flex_flow": null,
      "grid_area": null,
      "grid_auto_columns": null,
      "grid_auto_flow": null,
      "grid_auto_rows": null,
      "grid_column": null,
      "grid_gap": null,
      "grid_row": null,
      "grid_template_areas": null,
      "grid_template_columns": null,
      "grid_template_rows": null,
      "height": null,
      "justify_content": null,
      "justify_items": null,
      "left": null,
      "margin": null,
      "max_height": null,
      "max_width": null,
      "min_height": null,
      "min_width": null,
      "object_fit": null,
      "object_position": null,
      "order": null,
      "overflow": null,
      "overflow_x": null,
      "overflow_y": null,
      "padding": null,
      "right": null,
      "top": null,
      "visibility": "hidden",
      "width": null
     }
    },
    "cca28900c9a647cabbcbf91071c9bbea": {
     "model_module": "@jupyter-widgets/controls",
     "model_module_version": "1.5.0",
     "model_name": "FloatProgressModel",
     "state": {
      "_dom_classes": [],
      "_model_module": "@jupyter-widgets/controls",
      "_model_module_version": "1.5.0",
      "_model_name": "FloatProgressModel",
      "_view_count": null,
      "_view_module": "@jupyter-widgets/controls",
      "_view_module_version": "1.5.0",
      "_view_name": "ProgressView",
      "bar_style": "",
      "description": "",
      "description_tooltip": null,
      "layout": "IPY_MODEL_77263d5a8a0149d18100b7a644bfd24d",
      "max": 296705,
      "min": 0,
      "orientation": "horizontal",
      "style": "IPY_MODEL_42beef7b33b4467e91307187de553006",
      "value": 296705
     }
    },
    "cd1ed3ff562c4a63847d4820d2b29d59": {
     "model_module": "@jupyter-widgets/controls",
     "model_module_version": "1.5.0",
     "model_name": "HBoxModel",
     "state": {
      "_dom_classes": [],
      "_model_module": "@jupyter-widgets/controls",
      "_model_module_version": "1.5.0",
      "_model_name": "HBoxModel",
      "_view_count": null,
      "_view_module": "@jupyter-widgets/controls",
      "_view_module_version": "1.5.0",
      "_view_name": "HBoxView",
      "box_style": "",
      "children": [
       "IPY_MODEL_13144e4540ef42bca7db99a03f75b21a",
       "IPY_MODEL_2e8bffa2ba504b03a0d714e9dc88352c",
       "IPY_MODEL_f30c3d9ac9434db3af22a4144f3d3662"
      ],
      "layout": "IPY_MODEL_eb4c6591a338489fa7133d29b287ef84"
     }
    },
    "cdae6a5df53648ee871de7120a9be23f": {
     "model_module": "@jupyter-widgets/base",
     "model_module_version": "1.2.0",
     "model_name": "LayoutModel",
     "state": {
      "_model_module": "@jupyter-widgets/base",
      "_model_module_version": "1.2.0",
      "_model_name": "LayoutModel",
      "_view_count": null,
      "_view_module": "@jupyter-widgets/base",
      "_view_module_version": "1.2.0",
      "_view_name": "LayoutView",
      "align_content": null,
      "align_items": null,
      "align_self": null,
      "border": null,
      "bottom": null,
      "display": null,
      "flex": null,
      "flex_flow": null,
      "grid_area": null,
      "grid_auto_columns": null,
      "grid_auto_flow": null,
      "grid_auto_rows": null,
      "grid_column": null,
      "grid_gap": null,
      "grid_row": null,
      "grid_template_areas": null,
      "grid_template_columns": null,
      "grid_template_rows": null,
      "height": null,
      "justify_content": null,
      "justify_items": null,
      "left": null,
      "margin": null,
      "max_height": null,
      "max_width": null,
      "min_height": null,
      "min_width": null,
      "object_fit": null,
      "object_position": null,
      "order": null,
      "overflow": null,
      "overflow_x": null,
      "overflow_y": null,
      "padding": null,
      "right": null,
      "top": null,
      "visibility": null,
      "width": null
     }
    },
    "cf14531217eb4007aa7a3c26c8a475ff": {
     "model_module": "@jupyter-widgets/base",
     "model_module_version": "1.2.0",
     "model_name": "LayoutModel",
     "state": {
      "_model_module": "@jupyter-widgets/base",
      "_model_module_version": "1.2.0",
      "_model_name": "LayoutModel",
      "_view_count": null,
      "_view_module": "@jupyter-widgets/base",
      "_view_module_version": "1.2.0",
      "_view_name": "LayoutView",
      "align_content": null,
      "align_items": null,
      "align_self": null,
      "border": null,
      "bottom": null,
      "display": null,
      "flex": null,
      "flex_flow": null,
      "grid_area": null,
      "grid_auto_columns": null,
      "grid_auto_flow": null,
      "grid_auto_rows": null,
      "grid_column": null,
      "grid_gap": null,
      "grid_row": null,
      "grid_template_areas": null,
      "grid_template_columns": null,
      "grid_template_rows": null,
      "height": null,
      "justify_content": null,
      "justify_items": null,
      "left": null,
      "margin": null,
      "max_height": null,
      "max_width": null,
      "min_height": null,
      "min_width": null,
      "object_fit": null,
      "object_position": null,
      "order": null,
      "overflow": null,
      "overflow_x": null,
      "overflow_y": null,
      "padding": null,
      "right": null,
      "top": null,
      "visibility": "hidden",
      "width": null
     }
    },
    "cfc07ef68cc9483cae33cf60b8b9dbf1": {
     "model_module": "@jupyter-widgets/base",
     "model_module_version": "1.2.0",
     "model_name": "LayoutModel",
     "state": {
      "_model_module": "@jupyter-widgets/base",
      "_model_module_version": "1.2.0",
      "_model_name": "LayoutModel",
      "_view_count": null,
      "_view_module": "@jupyter-widgets/base",
      "_view_module_version": "1.2.0",
      "_view_name": "LayoutView",
      "align_content": null,
      "align_items": null,
      "align_self": null,
      "border": null,
      "bottom": null,
      "display": null,
      "flex": null,
      "flex_flow": null,
      "grid_area": null,
      "grid_auto_columns": null,
      "grid_auto_flow": null,
      "grid_auto_rows": null,
      "grid_column": null,
      "grid_gap": null,
      "grid_row": null,
      "grid_template_areas": null,
      "grid_template_columns": null,
      "grid_template_rows": null,
      "height": null,
      "justify_content": null,
      "justify_items": null,
      "left": null,
      "margin": null,
      "max_height": null,
      "max_width": null,
      "min_height": null,
      "min_width": null,
      "object_fit": null,
      "object_position": null,
      "order": null,
      "overflow": null,
      "overflow_x": null,
      "overflow_y": null,
      "padding": null,
      "right": null,
      "top": null,
      "visibility": null,
      "width": null
     }
    },
    "d04b6c10619d48c8884f74063cf370e8": {
     "model_module": "@jupyter-widgets/controls",
     "model_module_version": "1.5.0",
     "model_name": "HBoxModel",
     "state": {
      "_dom_classes": [],
      "_model_module": "@jupyter-widgets/controls",
      "_model_module_version": "1.5.0",
      "_model_name": "HBoxModel",
      "_view_count": null,
      "_view_module": "@jupyter-widgets/controls",
      "_view_module_version": "1.5.0",
      "_view_name": "HBoxView",
      "box_style": "",
      "children": [
       "IPY_MODEL_18d588aa2925437b814f2bd5442ffc51",
       "IPY_MODEL_8a64825340c64130bb0db2b19bd9d8d8",
       "IPY_MODEL_382fd73ad59e4702ad6403d8f9f14e11"
      ],
      "layout": "IPY_MODEL_654065bd08a94ed28dd04cd71f4b5049"
     }
    },
    "d0c7dec26a8f40fc846f641b364200fd": {
     "model_module": "@jupyter-widgets/controls",
     "model_module_version": "1.5.0",
     "model_name": "DescriptionStyleModel",
     "state": {
      "_model_module": "@jupyter-widgets/controls",
      "_model_module_version": "1.5.0",
      "_model_name": "DescriptionStyleModel",
      "_view_count": null,
      "_view_module": "@jupyter-widgets/base",
      "_view_module_version": "1.2.0",
      "_view_name": "StyleView",
      "description_width": ""
     }
    },
    "d382d1ee85774cf1a0c25fb040b2742f": {
     "model_module": "@jupyter-widgets/controls",
     "model_module_version": "1.5.0",
     "model_name": "FloatProgressModel",
     "state": {
      "_dom_classes": [],
      "_model_module": "@jupyter-widgets/controls",
      "_model_module_version": "1.5.0",
      "_model_name": "FloatProgressModel",
      "_view_count": null,
      "_view_module": "@jupyter-widgets/controls",
      "_view_module_version": "1.5.0",
      "_view_name": "ProgressView",
      "bar_style": "",
      "description": "",
      "description_tooltip": null,
      "layout": "IPY_MODEL_c451308c24b24835879d248640d7c6c7",
      "max": 363805,
      "min": 0,
      "orientation": "horizontal",
      "style": "IPY_MODEL_c63b9db7fe2e4f0c9566551e4fe196bd",
      "value": 363805
     }
    },
    "d4cff5fd4ec14f20a8d463205dafaf7d": {
     "model_module": "@jupyter-widgets/base",
     "model_module_version": "1.2.0",
     "model_name": "LayoutModel",
     "state": {
      "_model_module": "@jupyter-widgets/base",
      "_model_module_version": "1.2.0",
      "_model_name": "LayoutModel",
      "_view_count": null,
      "_view_module": "@jupyter-widgets/base",
      "_view_module_version": "1.2.0",
      "_view_name": "LayoutView",
      "align_content": null,
      "align_items": null,
      "align_self": null,
      "border": null,
      "bottom": null,
      "display": null,
      "flex": null,
      "flex_flow": null,
      "grid_area": null,
      "grid_auto_columns": null,
      "grid_auto_flow": null,
      "grid_auto_rows": null,
      "grid_column": null,
      "grid_gap": null,
      "grid_row": null,
      "grid_template_areas": null,
      "grid_template_columns": null,
      "grid_template_rows": null,
      "height": null,
      "justify_content": null,
      "justify_items": null,
      "left": null,
      "margin": null,
      "max_height": null,
      "max_width": null,
      "min_height": null,
      "min_width": null,
      "object_fit": null,
      "object_position": null,
      "order": null,
      "overflow": null,
      "overflow_x": null,
      "overflow_y": null,
      "padding": null,
      "right": null,
      "top": null,
      "visibility": null,
      "width": null
     }
    },
    "d8a81582c8ab4d308cbd78108e3e7586": {
     "model_module": "@jupyter-widgets/base",
     "model_module_version": "1.2.0",
     "model_name": "LayoutModel",
     "state": {
      "_model_module": "@jupyter-widgets/base",
      "_model_module_version": "1.2.0",
      "_model_name": "LayoutModel",
      "_view_count": null,
      "_view_module": "@jupyter-widgets/base",
      "_view_module_version": "1.2.0",
      "_view_name": "LayoutView",
      "align_content": null,
      "align_items": null,
      "align_self": null,
      "border": null,
      "bottom": null,
      "display": null,
      "flex": null,
      "flex_flow": null,
      "grid_area": null,
      "grid_auto_columns": null,
      "grid_auto_flow": null,
      "grid_auto_rows": null,
      "grid_column": null,
      "grid_gap": null,
      "grid_row": null,
      "grid_template_areas": null,
      "grid_template_columns": null,
      "grid_template_rows": null,
      "height": null,
      "justify_content": null,
      "justify_items": null,
      "left": null,
      "margin": null,
      "max_height": null,
      "max_width": null,
      "min_height": null,
      "min_width": null,
      "object_fit": null,
      "object_position": null,
      "order": null,
      "overflow": null,
      "overflow_x": null,
      "overflow_y": null,
      "padding": null,
      "right": null,
      "top": null,
      "visibility": null,
      "width": null
     }
    },
    "d96191f48c0b40679268be2fe6c23f9b": {
     "model_module": "@jupyter-widgets/base",
     "model_module_version": "1.2.0",
     "model_name": "LayoutModel",
     "state": {
      "_model_module": "@jupyter-widgets/base",
      "_model_module_version": "1.2.0",
      "_model_name": "LayoutModel",
      "_view_count": null,
      "_view_module": "@jupyter-widgets/base",
      "_view_module_version": "1.2.0",
      "_view_name": "LayoutView",
      "align_content": null,
      "align_items": null,
      "align_self": null,
      "border": null,
      "bottom": null,
      "display": null,
      "flex": null,
      "flex_flow": null,
      "grid_area": null,
      "grid_auto_columns": null,
      "grid_auto_flow": null,
      "grid_auto_rows": null,
      "grid_column": null,
      "grid_gap": null,
      "grid_row": null,
      "grid_template_areas": null,
      "grid_template_columns": null,
      "grid_template_rows": null,
      "height": null,
      "justify_content": null,
      "justify_items": null,
      "left": null,
      "margin": null,
      "max_height": null,
      "max_width": null,
      "min_height": null,
      "min_width": null,
      "object_fit": null,
      "object_position": null,
      "order": null,
      "overflow": null,
      "overflow_x": null,
      "overflow_y": null,
      "padding": null,
      "right": null,
      "top": null,
      "visibility": null,
      "width": null
     }
    },
    "dc13ffb17dfd48f69a3801894f98edfa": {
     "model_module": "@jupyter-widgets/base",
     "model_module_version": "1.2.0",
     "model_name": "LayoutModel",
     "state": {
      "_model_module": "@jupyter-widgets/base",
      "_model_module_version": "1.2.0",
      "_model_name": "LayoutModel",
      "_view_count": null,
      "_view_module": "@jupyter-widgets/base",
      "_view_module_version": "1.2.0",
      "_view_name": "LayoutView",
      "align_content": null,
      "align_items": null,
      "align_self": null,
      "border": null,
      "bottom": null,
      "display": null,
      "flex": null,
      "flex_flow": null,
      "grid_area": null,
      "grid_auto_columns": null,
      "grid_auto_flow": null,
      "grid_auto_rows": null,
      "grid_column": null,
      "grid_gap": null,
      "grid_row": null,
      "grid_template_areas": null,
      "grid_template_columns": null,
      "grid_template_rows": null,
      "height": null,
      "justify_content": null,
      "justify_items": null,
      "left": null,
      "margin": null,
      "max_height": null,
      "max_width": null,
      "min_height": null,
      "min_width": null,
      "object_fit": null,
      "object_position": null,
      "order": null,
      "overflow": null,
      "overflow_x": null,
      "overflow_y": null,
      "padding": null,
      "right": null,
      "top": null,
      "visibility": null,
      "width": null
     }
    },
    "dc4d419fc8d64c88a718f86742044752": {
     "model_module": "@jupyter-widgets/base",
     "model_module_version": "1.2.0",
     "model_name": "LayoutModel",
     "state": {
      "_model_module": "@jupyter-widgets/base",
      "_model_module_version": "1.2.0",
      "_model_name": "LayoutModel",
      "_view_count": null,
      "_view_module": "@jupyter-widgets/base",
      "_view_module_version": "1.2.0",
      "_view_name": "LayoutView",
      "align_content": null,
      "align_items": null,
      "align_self": null,
      "border": null,
      "bottom": null,
      "display": null,
      "flex": null,
      "flex_flow": null,
      "grid_area": null,
      "grid_auto_columns": null,
      "grid_auto_flow": null,
      "grid_auto_rows": null,
      "grid_column": null,
      "grid_gap": null,
      "grid_row": null,
      "grid_template_areas": null,
      "grid_template_columns": null,
      "grid_template_rows": null,
      "height": null,
      "justify_content": null,
      "justify_items": null,
      "left": null,
      "margin": null,
      "max_height": null,
      "max_width": null,
      "min_height": null,
      "min_width": null,
      "object_fit": null,
      "object_position": null,
      "order": null,
      "overflow": null,
      "overflow_x": null,
      "overflow_y": null,
      "padding": null,
      "right": null,
      "top": null,
      "visibility": null,
      "width": null
     }
    },
    "dc59c93c6d77474db3e983cd1b12ffac": {
     "model_module": "@jupyter-widgets/base",
     "model_module_version": "1.2.0",
     "model_name": "LayoutModel",
     "state": {
      "_model_module": "@jupyter-widgets/base",
      "_model_module_version": "1.2.0",
      "_model_name": "LayoutModel",
      "_view_count": null,
      "_view_module": "@jupyter-widgets/base",
      "_view_module_version": "1.2.0",
      "_view_name": "LayoutView",
      "align_content": null,
      "align_items": null,
      "align_self": null,
      "border": null,
      "bottom": null,
      "display": null,
      "flex": null,
      "flex_flow": null,
      "grid_area": null,
      "grid_auto_columns": null,
      "grid_auto_flow": null,
      "grid_auto_rows": null,
      "grid_column": null,
      "grid_gap": null,
      "grid_row": null,
      "grid_template_areas": null,
      "grid_template_columns": null,
      "grid_template_rows": null,
      "height": null,
      "justify_content": null,
      "justify_items": null,
      "left": null,
      "margin": null,
      "max_height": null,
      "max_width": null,
      "min_height": null,
      "min_width": null,
      "object_fit": null,
      "object_position": null,
      "order": null,
      "overflow": null,
      "overflow_x": null,
      "overflow_y": null,
      "padding": null,
      "right": null,
      "top": null,
      "visibility": null,
      "width": null
     }
    },
    "dcb56a7580b24d1294d75701cfbd81dd": {
     "model_module": "@jupyter-widgets/controls",
     "model_module_version": "1.5.0",
     "model_name": "HBoxModel",
     "state": {
      "_dom_classes": [],
      "_model_module": "@jupyter-widgets/controls",
      "_model_module_version": "1.5.0",
      "_model_name": "HBoxModel",
      "_view_count": null,
      "_view_module": "@jupyter-widgets/controls",
      "_view_module_version": "1.5.0",
      "_view_name": "HBoxView",
      "box_style": "",
      "children": [
       "IPY_MODEL_4ee36f0f0a184a0483100d50a080a78a",
       "IPY_MODEL_6a2e9216ba764764b40a30ce827fb46e",
       "IPY_MODEL_a6dd15c2c54e4604be40bcb5fa706911"
      ],
      "layout": "IPY_MODEL_026113b67e5744ef83128004cbb4b5e3"
     }
    },
    "dd31fbe092984937bd6f2189f4fd7fd6": {
     "model_module": "@jupyter-widgets/base",
     "model_module_version": "1.2.0",
     "model_name": "LayoutModel",
     "state": {
      "_model_module": "@jupyter-widgets/base",
      "_model_module_version": "1.2.0",
      "_model_name": "LayoutModel",
      "_view_count": null,
      "_view_module": "@jupyter-widgets/base",
      "_view_module_version": "1.2.0",
      "_view_name": "LayoutView",
      "align_content": null,
      "align_items": null,
      "align_self": null,
      "border": null,
      "bottom": null,
      "display": null,
      "flex": null,
      "flex_flow": null,
      "grid_area": null,
      "grid_auto_columns": null,
      "grid_auto_flow": null,
      "grid_auto_rows": null,
      "grid_column": null,
      "grid_gap": null,
      "grid_row": null,
      "grid_template_areas": null,
      "grid_template_columns": null,
      "grid_template_rows": null,
      "height": null,
      "justify_content": null,
      "justify_items": null,
      "left": null,
      "margin": null,
      "max_height": null,
      "max_width": null,
      "min_height": null,
      "min_width": null,
      "object_fit": null,
      "object_position": null,
      "order": null,
      "overflow": null,
      "overflow_x": null,
      "overflow_y": null,
      "padding": null,
      "right": null,
      "top": null,
      "visibility": null,
      "width": null
     }
    },
    "dfe7dac6bd9e4bacb8a61f3c95bb0d16": {
     "model_module": "@jupyter-widgets/controls",
     "model_module_version": "1.5.0",
     "model_name": "HBoxModel",
     "state": {
      "_dom_classes": [],
      "_model_module": "@jupyter-widgets/controls",
      "_model_module_version": "1.5.0",
      "_model_name": "HBoxModel",
      "_view_count": null,
      "_view_module": "@jupyter-widgets/controls",
      "_view_module_version": "1.5.0",
      "_view_name": "HBoxView",
      "box_style": "",
      "children": [
       "IPY_MODEL_f58f7a1c419949b6b7126a68ffc58ae4",
       "IPY_MODEL_8f9b7c10edae4dc9be99b519679c7254",
       "IPY_MODEL_7e6f37c5f5fa496eb5b7066a90229b90"
      ],
      "layout": "IPY_MODEL_1266d2fbb288419e9f804417faa6168f"
     }
    },
    "e01b25e11a164fd696355c88dfef5879": {
     "model_module": "@jupyter-widgets/controls",
     "model_module_version": "1.5.0",
     "model_name": "HTMLModel",
     "state": {
      "_dom_classes": [],
      "_model_module": "@jupyter-widgets/controls",
      "_model_module_version": "1.5.0",
      "_model_name": "HTMLModel",
      "_view_count": null,
      "_view_module": "@jupyter-widgets/controls",
      "_view_module_version": "1.5.0",
      "_view_name": "HTMLView",
      "description": "",
      "description_tooltip": null,
      "layout": "IPY_MODEL_0ff89b0082944004b20477321f6d77a5",
      "placeholder": "​",
      "style": "IPY_MODEL_8d3495eaf48443919be6e49c27546af4",
      "value": "Map: 100%"
     }
    },
    "e5530ff88d394cfdbfb05f02e8af5a18": {
     "model_module": "@jupyter-widgets/base",
     "model_module_version": "1.2.0",
     "model_name": "LayoutModel",
     "state": {
      "_model_module": "@jupyter-widgets/base",
      "_model_module_version": "1.2.0",
      "_model_name": "LayoutModel",
      "_view_count": null,
      "_view_module": "@jupyter-widgets/base",
      "_view_module_version": "1.2.0",
      "_view_name": "LayoutView",
      "align_content": null,
      "align_items": null,
      "align_self": null,
      "border": null,
      "bottom": null,
      "display": null,
      "flex": null,
      "flex_flow": null,
      "grid_area": null,
      "grid_auto_columns": null,
      "grid_auto_flow": null,
      "grid_auto_rows": null,
      "grid_column": null,
      "grid_gap": null,
      "grid_row": null,
      "grid_template_areas": null,
      "grid_template_columns": null,
      "grid_template_rows": null,
      "height": null,
      "justify_content": null,
      "justify_items": null,
      "left": null,
      "margin": null,
      "max_height": null,
      "max_width": null,
      "min_height": null,
      "min_width": null,
      "object_fit": null,
      "object_position": null,
      "order": null,
      "overflow": null,
      "overflow_x": null,
      "overflow_y": null,
      "padding": null,
      "right": null,
      "top": null,
      "visibility": "hidden",
      "width": null
     }
    },
    "e8c0bc1e78a44f6797baddbe1208fe65": {
     "model_module": "@jupyter-widgets/controls",
     "model_module_version": "1.5.0",
     "model_name": "DescriptionStyleModel",
     "state": {
      "_model_module": "@jupyter-widgets/controls",
      "_model_module_version": "1.5.0",
      "_model_name": "DescriptionStyleModel",
      "_view_count": null,
      "_view_module": "@jupyter-widgets/base",
      "_view_module_version": "1.2.0",
      "_view_name": "StyleView",
      "description_width": ""
     }
    },
    "e8eff109fa4e4e17a99160aaa09e066a": {
     "model_module": "@jupyter-widgets/controls",
     "model_module_version": "1.5.0",
     "model_name": "HTMLModel",
     "state": {
      "_dom_classes": [],
      "_model_module": "@jupyter-widgets/controls",
      "_model_module_version": "1.5.0",
      "_model_name": "HTMLModel",
      "_view_count": null,
      "_view_module": "@jupyter-widgets/controls",
      "_view_module_version": "1.5.0",
      "_view_name": "HTMLView",
      "description": "",
      "description_tooltip": null,
      "layout": "IPY_MODEL_08ac9985ffda4dd1a4308cfc6b1c7eee",
      "placeholder": "​",
      "style": "IPY_MODEL_485bf813101844c6ab615fda1a904d60",
      "value": "Map: 100%"
     }
    },
    "eb4c6591a338489fa7133d29b287ef84": {
     "model_module": "@jupyter-widgets/base",
     "model_module_version": "1.2.0",
     "model_name": "LayoutModel",
     "state": {
      "_model_module": "@jupyter-widgets/base",
      "_model_module_version": "1.2.0",
      "_model_name": "LayoutModel",
      "_view_count": null,
      "_view_module": "@jupyter-widgets/base",
      "_view_module_version": "1.2.0",
      "_view_name": "LayoutView",
      "align_content": null,
      "align_items": null,
      "align_self": null,
      "border": null,
      "bottom": null,
      "display": null,
      "flex": null,
      "flex_flow": null,
      "grid_area": null,
      "grid_auto_columns": null,
      "grid_auto_flow": null,
      "grid_auto_rows": null,
      "grid_column": null,
      "grid_gap": null,
      "grid_row": null,
      "grid_template_areas": null,
      "grid_template_columns": null,
      "grid_template_rows": null,
      "height": null,
      "justify_content": null,
      "justify_items": null,
      "left": null,
      "margin": null,
      "max_height": null,
      "max_width": null,
      "min_height": null,
      "min_width": null,
      "object_fit": null,
      "object_position": null,
      "order": null,
      "overflow": null,
      "overflow_x": null,
      "overflow_y": null,
      "padding": null,
      "right": null,
      "top": null,
      "visibility": "hidden",
      "width": null
     }
    },
    "ebeac2a2234847059a83712539afdd13": {
     "model_module": "@jupyter-widgets/controls",
     "model_module_version": "1.5.0",
     "model_name": "DescriptionStyleModel",
     "state": {
      "_model_module": "@jupyter-widgets/controls",
      "_model_module_version": "1.5.0",
      "_model_name": "DescriptionStyleModel",
      "_view_count": null,
      "_view_module": "@jupyter-widgets/base",
      "_view_module_version": "1.2.0",
      "_view_name": "StyleView",
      "description_width": ""
     }
    },
    "ecc03a945e114299a2902c40158b1005": {
     "model_module": "@jupyter-widgets/base",
     "model_module_version": "1.2.0",
     "model_name": "LayoutModel",
     "state": {
      "_model_module": "@jupyter-widgets/base",
      "_model_module_version": "1.2.0",
      "_model_name": "LayoutModel",
      "_view_count": null,
      "_view_module": "@jupyter-widgets/base",
      "_view_module_version": "1.2.0",
      "_view_name": "LayoutView",
      "align_content": null,
      "align_items": null,
      "align_self": null,
      "border": null,
      "bottom": null,
      "display": null,
      "flex": null,
      "flex_flow": null,
      "grid_area": null,
      "grid_auto_columns": null,
      "grid_auto_flow": null,
      "grid_auto_rows": null,
      "grid_column": null,
      "grid_gap": null,
      "grid_row": null,
      "grid_template_areas": null,
      "grid_template_columns": null,
      "grid_template_rows": null,
      "height": null,
      "justify_content": null,
      "justify_items": null,
      "left": null,
      "margin": null,
      "max_height": null,
      "max_width": null,
      "min_height": null,
      "min_width": null,
      "object_fit": null,
      "object_position": null,
      "order": null,
      "overflow": null,
      "overflow_x": null,
      "overflow_y": null,
      "padding": null,
      "right": null,
      "top": null,
      "visibility": null,
      "width": null
     }
    },
    "eccabfb19170447190b48366ad23ec15": {
     "model_module": "@jupyter-widgets/controls",
     "model_module_version": "1.5.0",
     "model_name": "HTMLModel",
     "state": {
      "_dom_classes": [],
      "_model_module": "@jupyter-widgets/controls",
      "_model_module_version": "1.5.0",
      "_model_name": "HTMLModel",
      "_view_count": null,
      "_view_module": "@jupyter-widgets/controls",
      "_view_module_version": "1.5.0",
      "_view_name": "HTMLView",
      "description": "",
      "description_tooltip": null,
      "layout": "IPY_MODEL_dc13ffb17dfd48f69a3801894f98edfa",
      "placeholder": "​",
      "style": "IPY_MODEL_452c7810050f4a398a907f56023751d5",
      "value": " 9.25k/9.25k [00:00&lt;00:00, 502kB/s]"
     }
    },
    "ee16bce6b2e642b094d3270f9abb802b": {
     "model_module": "@jupyter-widgets/controls",
     "model_module_version": "1.5.0",
     "model_name": "HBoxModel",
     "state": {
      "_dom_classes": [],
      "_model_module": "@jupyter-widgets/controls",
      "_model_module_version": "1.5.0",
      "_model_name": "HBoxModel",
      "_view_count": null,
      "_view_module": "@jupyter-widgets/controls",
      "_view_module_version": "1.5.0",
      "_view_name": "HBoxView",
      "box_style": "",
      "children": [
       "IPY_MODEL_02b1c1d8257d4fb3ad023524e7e3c592",
       "IPY_MODEL_a1686fe37c8e43968ae8b6da322f92e3",
       "IPY_MODEL_8215b1e6e4054087b62fa3dbce420571"
      ],
      "layout": "IPY_MODEL_9e957abbac0c487885b5783dc6e975bc"
     }
    },
    "eef41833b13d4aa4b2853836198d3995": {
     "model_module": "@jupyter-widgets/controls",
     "model_module_version": "1.5.0",
     "model_name": "ProgressStyleModel",
     "state": {
      "_model_module": "@jupyter-widgets/controls",
      "_model_module_version": "1.5.0",
      "_model_name": "ProgressStyleModel",
      "_view_count": null,
      "_view_module": "@jupyter-widgets/base",
      "_view_module_version": "1.2.0",
      "_view_name": "StyleView",
      "bar_color": null,
      "description_width": ""
     }
    },
    "f11dd951a4e544fd80a3f23152366488": {
     "model_module": "@jupyter-widgets/base",
     "model_module_version": "1.2.0",
     "model_name": "LayoutModel",
     "state": {
      "_model_module": "@jupyter-widgets/base",
      "_model_module_version": "1.2.0",
      "_model_name": "LayoutModel",
      "_view_count": null,
      "_view_module": "@jupyter-widgets/base",
      "_view_module_version": "1.2.0",
      "_view_name": "LayoutView",
      "align_content": null,
      "align_items": null,
      "align_self": null,
      "border": null,
      "bottom": null,
      "display": null,
      "flex": null,
      "flex_flow": null,
      "grid_area": null,
      "grid_auto_columns": null,
      "grid_auto_flow": null,
      "grid_auto_rows": null,
      "grid_column": null,
      "grid_gap": null,
      "grid_row": null,
      "grid_template_areas": null,
      "grid_template_columns": null,
      "grid_template_rows": null,
      "height": null,
      "justify_content": null,
      "justify_items": null,
      "left": null,
      "margin": null,
      "max_height": null,
      "max_width": null,
      "min_height": null,
      "min_width": null,
      "object_fit": null,
      "object_position": null,
      "order": null,
      "overflow": null,
      "overflow_x": null,
      "overflow_y": null,
      "padding": null,
      "right": null,
      "top": null,
      "visibility": null,
      "width": null
     }
    },
    "f26884dbed1e4e419c5963eee617d1ee": {
     "model_module": "@jupyter-widgets/controls",
     "model_module_version": "1.5.0",
     "model_name": "ProgressStyleModel",
     "state": {
      "_model_module": "@jupyter-widgets/controls",
      "_model_module_version": "1.5.0",
      "_model_name": "ProgressStyleModel",
      "_view_count": null,
      "_view_module": "@jupyter-widgets/base",
      "_view_module_version": "1.2.0",
      "_view_name": "StyleView",
      "bar_color": null,
      "description_width": ""
     }
    },
    "f2992081e02641c6b4a93872070c7324": {
     "model_module": "@jupyter-widgets/base",
     "model_module_version": "1.2.0",
     "model_name": "LayoutModel",
     "state": {
      "_model_module": "@jupyter-widgets/base",
      "_model_module_version": "1.2.0",
      "_model_name": "LayoutModel",
      "_view_count": null,
      "_view_module": "@jupyter-widgets/base",
      "_view_module_version": "1.2.0",
      "_view_name": "LayoutView",
      "align_content": null,
      "align_items": null,
      "align_self": null,
      "border": null,
      "bottom": null,
      "display": null,
      "flex": null,
      "flex_flow": null,
      "grid_area": null,
      "grid_auto_columns": null,
      "grid_auto_flow": null,
      "grid_auto_rows": null,
      "grid_column": null,
      "grid_gap": null,
      "grid_row": null,
      "grid_template_areas": null,
      "grid_template_columns": null,
      "grid_template_rows": null,
      "height": null,
      "justify_content": null,
      "justify_items": null,
      "left": null,
      "margin": null,
      "max_height": null,
      "max_width": null,
      "min_height": null,
      "min_width": null,
      "object_fit": null,
      "object_position": null,
      "order": null,
      "overflow": null,
      "overflow_x": null,
      "overflow_y": null,
      "padding": null,
      "right": null,
      "top": null,
      "visibility": null,
      "width": null
     }
    },
    "f2e5f09872f94655842193217ca2ffba": {
     "model_module": "@jupyter-widgets/controls",
     "model_module_version": "1.5.0",
     "model_name": "DescriptionStyleModel",
     "state": {
      "_model_module": "@jupyter-widgets/controls",
      "_model_module_version": "1.5.0",
      "_model_name": "DescriptionStyleModel",
      "_view_count": null,
      "_view_module": "@jupyter-widgets/base",
      "_view_module_version": "1.2.0",
      "_view_name": "StyleView",
      "description_width": ""
     }
    },
    "f30c3d9ac9434db3af22a4144f3d3662": {
     "model_module": "@jupyter-widgets/controls",
     "model_module_version": "1.5.0",
     "model_name": "HTMLModel",
     "state": {
      "_dom_classes": [],
      "_model_module": "@jupyter-widgets/controls",
      "_model_module_version": "1.5.0",
      "_model_name": "HTMLModel",
      "_view_count": null,
      "_view_module": "@jupyter-widgets/controls",
      "_view_module_version": "1.5.0",
      "_view_name": "HTMLView",
      "description": "",
      "description_tooltip": null,
      "layout": "IPY_MODEL_dc59c93c6d77474db3e983cd1b12ffac",
      "placeholder": "​",
      "style": "IPY_MODEL_c9b231fcc38f435aa1dd7b58bbefca1b",
      "value": " 3760/3760 [00:16&lt;00:00, 29338.50 examples/s]"
     }
    },
    "f354c7c7eb7e4ea4adee0d916fec5f53": {
     "model_module": "@jupyter-widgets/controls",
     "model_module_version": "1.5.0",
     "model_name": "HTMLModel",
     "state": {
      "_dom_classes": [],
      "_model_module": "@jupyter-widgets/controls",
      "_model_module_version": "1.5.0",
      "_model_name": "HTMLModel",
      "_view_count": null,
      "_view_module": "@jupyter-widgets/controls",
      "_view_module_version": "1.5.0",
      "_view_name": "HTMLView",
      "description": "",
      "description_tooltip": null,
      "layout": "IPY_MODEL_b271f2f129ca4634ab692d14d7b40a20",
      "placeholder": "​",
      "style": "IPY_MODEL_c0224a525d2144e7af3590c89d60169d",
      "value": "Map: 100%"
     }
    },
    "f58f7a1c419949b6b7126a68ffc58ae4": {
     "model_module": "@jupyter-widgets/controls",
     "model_module_version": "1.5.0",
     "model_name": "HTMLModel",
     "state": {
      "_dom_classes": [],
      "_model_module": "@jupyter-widgets/controls",
      "_model_module_version": "1.5.0",
      "_model_name": "HTMLModel",
      "_view_count": null,
      "_view_module": "@jupyter-widgets/controls",
      "_view_module_version": "1.5.0",
      "_view_name": "HTMLView",
      "description": "",
      "description_tooltip": null,
      "layout": "IPY_MODEL_6328dcb1baa644f6b4d2144ba21e67bc",
      "placeholder": "​",
      "style": "IPY_MODEL_f2e5f09872f94655842193217ca2ffba",
      "value": "Generating test split: 100%"
     }
    },
    "fa484a5090c141f5991929293a6e286e": {
     "model_module": "@jupyter-widgets/base",
     "model_module_version": "1.2.0",
     "model_name": "LayoutModel",
     "state": {
      "_model_module": "@jupyter-widgets/base",
      "_model_module_version": "1.2.0",
      "_model_name": "LayoutModel",
      "_view_count": null,
      "_view_module": "@jupyter-widgets/base",
      "_view_module_version": "1.2.0",
      "_view_name": "LayoutView",
      "align_content": null,
      "align_items": null,
      "align_self": null,
      "border": null,
      "bottom": null,
      "display": null,
      "flex": null,
      "flex_flow": null,
      "grid_area": null,
      "grid_auto_columns": null,
      "grid_auto_flow": null,
      "grid_auto_rows": null,
      "grid_column": null,
      "grid_gap": null,
      "grid_row": null,
      "grid_template_areas": null,
      "grid_template_columns": null,
      "grid_template_rows": null,
      "height": null,
      "justify_content": null,
      "justify_items": null,
      "left": null,
      "margin": null,
      "max_height": null,
      "max_width": null,
      "min_height": null,
      "min_width": null,
      "object_fit": null,
      "object_position": null,
      "order": null,
      "overflow": null,
      "overflow_x": null,
      "overflow_y": null,
      "padding": null,
      "right": null,
      "top": null,
      "visibility": null,
      "width": null
     }
    },
    "fd1bc4186c06414a8909381a4fae5189": {
     "model_module": "@jupyter-widgets/controls",
     "model_module_version": "1.5.0",
     "model_name": "ProgressStyleModel",
     "state": {
      "_model_module": "@jupyter-widgets/controls",
      "_model_module_version": "1.5.0",
      "_model_name": "ProgressStyleModel",
      "_view_count": null,
      "_view_module": "@jupyter-widgets/base",
      "_view_module_version": "1.2.0",
      "_view_name": "StyleView",
      "bar_color": null,
      "description_width": ""
     }
    },
    "fe23ec5e5169484db9008c946e59a18a": {
     "model_module": "@jupyter-widgets/base",
     "model_module_version": "1.2.0",
     "model_name": "LayoutModel",
     "state": {
      "_model_module": "@jupyter-widgets/base",
      "_model_module_version": "1.2.0",
      "_model_name": "LayoutModel",
      "_view_count": null,
      "_view_module": "@jupyter-widgets/base",
      "_view_module_version": "1.2.0",
      "_view_name": "LayoutView",
      "align_content": null,
      "align_items": null,
      "align_self": null,
      "border": null,
      "bottom": null,
      "display": null,
      "flex": null,
      "flex_flow": null,
      "grid_area": null,
      "grid_auto_columns": null,
      "grid_auto_flow": null,
      "grid_auto_rows": null,
      "grid_column": null,
      "grid_gap": null,
      "grid_row": null,
      "grid_template_areas": null,
      "grid_template_columns": null,
      "grid_template_rows": null,
      "height": null,
      "justify_content": null,
      "justify_items": null,
      "left": null,
      "margin": null,
      "max_height": null,
      "max_width": null,
      "min_height": null,
      "min_width": null,
      "object_fit": null,
      "object_position": null,
      "order": null,
      "overflow": null,
      "overflow_x": null,
      "overflow_y": null,
      "padding": null,
      "right": null,
      "top": null,
      "visibility": null,
      "width": null
     }
    },
    "fe6ddd8cf564431ebbcdca0305c80684": {
     "model_module": "@jupyter-widgets/base",
     "model_module_version": "1.2.0",
     "model_name": "LayoutModel",
     "state": {
      "_model_module": "@jupyter-widgets/base",
      "_model_module_version": "1.2.0",
      "_model_name": "LayoutModel",
      "_view_count": null,
      "_view_module": "@jupyter-widgets/base",
      "_view_module_version": "1.2.0",
      "_view_name": "LayoutView",
      "align_content": null,
      "align_items": null,
      "align_self": null,
      "border": null,
      "bottom": null,
      "display": null,
      "flex": null,
      "flex_flow": null,
      "grid_area": null,
      "grid_auto_columns": null,
      "grid_auto_flow": null,
      "grid_auto_rows": null,
      "grid_column": null,
      "grid_gap": null,
      "grid_row": null,
      "grid_template_areas": null,
      "grid_template_columns": null,
      "grid_template_rows": null,
      "height": null,
      "justify_content": null,
      "justify_items": null,
      "left": null,
      "margin": null,
      "max_height": null,
      "max_width": null,
      "min_height": null,
      "min_width": null,
      "object_fit": null,
      "object_position": null,
      "order": null,
      "overflow": null,
      "overflow_x": null,
      "overflow_y": null,
      "padding": null,
      "right": null,
      "top": null,
      "visibility": "hidden",
      "width": null
     }
    },
    "fecd49409641440fa4e1b4fc0fc7039f": {
     "model_module": "@jupyter-widgets/base",
     "model_module_version": "1.2.0",
     "model_name": "LayoutModel",
     "state": {
      "_model_module": "@jupyter-widgets/base",
      "_model_module_version": "1.2.0",
      "_model_name": "LayoutModel",
      "_view_count": null,
      "_view_module": "@jupyter-widgets/base",
      "_view_module_version": "1.2.0",
      "_view_name": "LayoutView",
      "align_content": null,
      "align_items": null,
      "align_self": null,
      "border": null,
      "bottom": null,
      "display": null,
      "flex": null,
      "flex_flow": null,
      "grid_area": null,
      "grid_auto_columns": null,
      "grid_auto_flow": null,
      "grid_auto_rows": null,
      "grid_column": null,
      "grid_gap": null,
      "grid_row": null,
      "grid_template_areas": null,
      "grid_template_columns": null,
      "grid_template_rows": null,
      "height": null,
      "justify_content": null,
      "justify_items": null,
      "left": null,
      "margin": null,
      "max_height": null,
      "max_width": null,
      "min_height": null,
      "min_width": null,
      "object_fit": null,
      "object_position": null,
      "order": null,
      "overflow": null,
      "overflow_x": null,
      "overflow_y": null,
      "padding": null,
      "right": null,
      "top": null,
      "visibility": null,
      "width": null
     }
    },
    "ffec17ca2b93434faa35a59879856491": {
     "model_module": "@jupyter-widgets/controls",
     "model_module_version": "1.5.0",
     "model_name": "ProgressStyleModel",
     "state": {
      "_model_module": "@jupyter-widgets/controls",
      "_model_module_version": "1.5.0",
      "_model_name": "ProgressStyleModel",
      "_view_count": null,
      "_view_module": "@jupyter-widgets/base",
      "_view_module_version": "1.2.0",
      "_view_name": "StyleView",
      "bar_color": null,
      "description_width": ""
     }
    }
   }
  }
 },
 "nbformat": 4,
 "nbformat_minor": 4
}
